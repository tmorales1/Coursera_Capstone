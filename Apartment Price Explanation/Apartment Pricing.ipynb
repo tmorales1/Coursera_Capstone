{
 "cells": [
  {
   "cell_type": "markdown",
   "metadata": {},
   "source": [
    "# Capstone Project - The Battle of the Neighborhoods (Week 2)\n",
    "### Applied Data Science Capstone by IBM/Coursera"
   ]
  },
  {
   "cell_type": "markdown",
   "metadata": {},
   "source": [
    "## Table of contents\n",
    "* [Data](#data)\n",
    "* [Analysis](#analysis)\n",
    "* [Results](#results)\n",
    "* [Conclusion](#conclusion)"
   ]
  },
  {
   "cell_type": "markdown",
   "metadata": {},
   "source": [
    "## Data <a name=\"data\"></a>"
   ]
  },
  {
   "cell_type": "markdown",
   "metadata": {},
   "source": [
    "For the problem in hand of defining which venues are the most convinient to have close to an apartment in terms of its price, we are going to be using the following data sets:\n",
    "\n",
    "*.csv* file with listed properties scrapped from (www.portalinmobiliario.cl):\n",
    "\n",
    "* **Tipo de Propiedad (string):** Wether the property is an apartment, storage, house, etc (all are apartments because of the downloaded info.)  \n",
    "* **Tipo de Publicacion (string):** What kind of listing it is, rent or sale (here all are sale)  \n",
    "* **Direccion (string):** Address of the listed property  \n",
    "* **Numero de Piezas (float):** Number of bedrooms in listed property  \n",
    "* **Numero de Banos(float):** Number of bathrooms in listed property  \n",
    "* **M2 Utiles (float):** Useful square meters of property  \n",
    "* **M2 Totales (float):** Total square meters of property  \n",
    "* **Precio en Pesos (float):** Price in CLP  \n",
    "* **Precio en UF (float):** Price in UF (unit that takes into account the devaluation of the CLP)  \n",
    "* **Fecha de Publicacion (string):** Date of listing  \n",
    "* **Fecha de Extraccion (string):** Date in which the information was extracted from the website  \n",
    "* **Lat (float):** Latitude coordinate of property  \n",
    "* **Lng (float):** Longitude coordinate of property  \n",
    "* **Estacionamiento Incluido (bool):** If the property has parking then True, if not False  \n",
    "* **Bodega (float):** Number of storage rooms offered with property    \n",
    "* **Condicion (string):** If the property is new or used  \n",
    "* **Codigo (int):** Unique code for every listing on website  \n",
    "* **Url:** URL from where the info was scrapped\n",
    "\n",
    "Regarding the Foursquare API, requests will be made in order to fill in the type of venues that each of these listed properties have around them. So, using the Foursquare's *search* endpoint with the *intent* parameter set to *browse*, all of the venues in the given radius will be retrieved.\n",
    "\n",
    "This will return the following response fields:  \n",
    "\n",
    "* **id:** A unique string identifier for this venue.  \n",
    "* **name:** The best known name for this venue.  \n",
    "* **location:** An object containing none, some, or all of address (street address), crossStreet, city, state, postalCode, country, lat, lng, and distance. All fields are strings, except for lat, lng, and distance. Distance is measured in meters. Some venues have their locations intentionally hidden for privacy reasons (such as private residences). If this is the case, the parameter isFuzzed will be set to true, and the lat/lng parameters will have reduced precision.  \n",
    "* **categories:** An array, possibly empty, of categories that have been applied to this venue. One of the categories will have a primary field indicating that it is the primary category for the venue. For the complete category tree, see categories.  "
   ]
  },
  {
   "cell_type": "markdown",
   "metadata": {},
   "source": [
    "### Data retrieval\n",
    "\n",
    "First of all, the data must be downloaded"
   ]
  },
  {
   "cell_type": "code",
   "execution_count": 45,
   "metadata": {},
   "outputs": [
    {
     "data": {
      "text/html": [
       "<div>\n",
       "<style scoped>\n",
       "    .dataframe tbody tr th:only-of-type {\n",
       "        vertical-align: middle;\n",
       "    }\n",
       "\n",
       "    .dataframe tbody tr th {\n",
       "        vertical-align: top;\n",
       "    }\n",
       "\n",
       "    .dataframe thead th {\n",
       "        text-align: right;\n",
       "    }\n",
       "</style>\n",
       "<table border=\"1\" class=\"dataframe\">\n",
       "  <thead>\n",
       "    <tr style=\"text-align: right;\">\n",
       "      <th></th>\n",
       "      <th>Tipo de Publicacion</th>\n",
       "      <th>Tipo de Propiedad</th>\n",
       "      <th>Direccion</th>\n",
       "      <th>Numero de Piezas</th>\n",
       "      <th>Numero de Banos</th>\n",
       "      <th>M2 Utiles</th>\n",
       "      <th>M2 Totales</th>\n",
       "      <th>Precio en Pesos</th>\n",
       "      <th>Precio en UF</th>\n",
       "      <th>Fecha de Publicacion</th>\n",
       "      <th>Fecha de Extraccion</th>\n",
       "      <th>Lat</th>\n",
       "      <th>Lng</th>\n",
       "      <th>Estacionamiento Incluido</th>\n",
       "      <th>Bodega</th>\n",
       "      <th>Condicion</th>\n",
       "      <th>Codigo</th>\n",
       "      <th>Url</th>\n",
       "    </tr>\n",
       "  </thead>\n",
       "  <tbody>\n",
       "    <tr>\n",
       "      <th>0</th>\n",
       "      <td>venta</td>\n",
       "      <td>departamento</td>\n",
       "      <td>3 Dormitorios, La Castellana ,precioso Las Con...</td>\n",
       "      <td>3.0</td>\n",
       "      <td>2.0</td>\n",
       "      <td>100.0</td>\n",
       "      <td>100.0</td>\n",
       "      <td>264821313.0</td>\n",
       "      <td>9300.0</td>\n",
       "      <td>2020-02-20</td>\n",
       "      <td>2020-03-02</td>\n",
       "      <td>-33.408821</td>\n",
       "      <td>-70.577133</td>\n",
       "      <td>True</td>\n",
       "      <td>1.0</td>\n",
       "      <td>Usado</td>\n",
       "      <td>5441296.0</td>\n",
       "      <td>https://www.portalinmobiliario.com/venta/depar...</td>\n",
       "    </tr>\n",
       "    <tr>\n",
       "      <th>1</th>\n",
       "      <td>venta</td>\n",
       "      <td>departamento</td>\n",
       "      <td>Metro Manquehue, Los Miitares, Rosario Norte, ...</td>\n",
       "      <td>4.0</td>\n",
       "      <td>3.0</td>\n",
       "      <td>125.0</td>\n",
       "      <td>140.0</td>\n",
       "      <td>330314756.0</td>\n",
       "      <td>11600.0</td>\n",
       "      <td>2020-02-10</td>\n",
       "      <td>2020-03-02</td>\n",
       "      <td>-33.409034</td>\n",
       "      <td>-70.568615</td>\n",
       "      <td>True</td>\n",
       "      <td>NaN</td>\n",
       "      <td>Usado</td>\n",
       "      <td>5417148.0</td>\n",
       "      <td>https://www.portalinmobiliario.com/venta/depar...</td>\n",
       "    </tr>\n",
       "    <tr>\n",
       "      <th>2</th>\n",
       "      <td>venta</td>\n",
       "      <td>departamento</td>\n",
       "      <td>Flor De Azucenas, Nueva Las Condes, Las Condes</td>\n",
       "      <td>4.0</td>\n",
       "      <td>4.0</td>\n",
       "      <td>145.0</td>\n",
       "      <td>153.0</td>\n",
       "      <td>347400002.0</td>\n",
       "      <td>12200.0</td>\n",
       "      <td>2020-02-13</td>\n",
       "      <td>2020-03-02</td>\n",
       "      <td>-33.408806</td>\n",
       "      <td>-70.573571</td>\n",
       "      <td>True</td>\n",
       "      <td>NaN</td>\n",
       "      <td>Usado</td>\n",
       "      <td>5325584.0</td>\n",
       "      <td>https://www.portalinmobiliario.com/venta/depar...</td>\n",
       "    </tr>\n",
       "    <tr>\n",
       "      <th>3</th>\n",
       "      <td>venta</td>\n",
       "      <td>departamento</td>\n",
       "      <td>Los Militares / Rosario Norte, Nueva Las Conde...</td>\n",
       "      <td>4.0</td>\n",
       "      <td>3.0</td>\n",
       "      <td>120.0</td>\n",
       "      <td>130.0</td>\n",
       "      <td>301554592.0</td>\n",
       "      <td>10590.0</td>\n",
       "      <td>2019-12-30</td>\n",
       "      <td>2020-03-02</td>\n",
       "      <td>-33.373390</td>\n",
       "      <td>-70.517697</td>\n",
       "      <td>True</td>\n",
       "      <td>NaN</td>\n",
       "      <td>Usado</td>\n",
       "      <td>5273643.0</td>\n",
       "      <td>https://www.portalinmobiliario.com/venta/depar...</td>\n",
       "    </tr>\n",
       "    <tr>\n",
       "      <th>4</th>\n",
       "      <td>venta</td>\n",
       "      <td>departamento</td>\n",
       "      <td>Metro Manquehue - Apoquindo / Flor De Az, Nuev...</td>\n",
       "      <td>3.0</td>\n",
       "      <td>2.0</td>\n",
       "      <td>77.0</td>\n",
       "      <td>99.0</td>\n",
       "      <td>213565575.0</td>\n",
       "      <td>7500.0</td>\n",
       "      <td>2020-02-13</td>\n",
       "      <td>2020-03-02</td>\n",
       "      <td>-33.409034</td>\n",
       "      <td>-70.568615</td>\n",
       "      <td>True</td>\n",
       "      <td>NaN</td>\n",
       "      <td>Usado</td>\n",
       "      <td>5220739.0</td>\n",
       "      <td>https://www.portalinmobiliario.com/venta/depar...</td>\n",
       "    </tr>\n",
       "  </tbody>\n",
       "</table>\n",
       "</div>"
      ],
      "text/plain": [
       "  Tipo de Publicacion Tipo de Propiedad  \\\n",
       "0               venta      departamento   \n",
       "1               venta      departamento   \n",
       "2               venta      departamento   \n",
       "3               venta      departamento   \n",
       "4               venta      departamento   \n",
       "\n",
       "                                           Direccion  Numero de Piezas  \\\n",
       "0  3 Dormitorios, La Castellana ,precioso Las Con...               3.0   \n",
       "1  Metro Manquehue, Los Miitares, Rosario Norte, ...               4.0   \n",
       "2     Flor De Azucenas, Nueva Las Condes, Las Condes               4.0   \n",
       "3  Los Militares / Rosario Norte, Nueva Las Conde...               4.0   \n",
       "4  Metro Manquehue - Apoquindo / Flor De Az, Nuev...               3.0   \n",
       "\n",
       "   Numero de Banos  M2 Utiles  M2 Totales  Precio en Pesos  Precio en UF  \\\n",
       "0              2.0      100.0       100.0      264821313.0        9300.0   \n",
       "1              3.0      125.0       140.0      330314756.0       11600.0   \n",
       "2              4.0      145.0       153.0      347400002.0       12200.0   \n",
       "3              3.0      120.0       130.0      301554592.0       10590.0   \n",
       "4              2.0       77.0        99.0      213565575.0        7500.0   \n",
       "\n",
       "  Fecha de Publicacion Fecha de Extraccion        Lat        Lng  \\\n",
       "0           2020-02-20          2020-03-02 -33.408821 -70.577133   \n",
       "1           2020-02-10          2020-03-02 -33.409034 -70.568615   \n",
       "2           2020-02-13          2020-03-02 -33.408806 -70.573571   \n",
       "3           2019-12-30          2020-03-02 -33.373390 -70.517697   \n",
       "4           2020-02-13          2020-03-02 -33.409034 -70.568615   \n",
       "\n",
       "   Estacionamiento Incluido  Bodega Condicion     Codigo  \\\n",
       "0                      True     1.0     Usado  5441296.0   \n",
       "1                      True     NaN     Usado  5417148.0   \n",
       "2                      True     NaN     Usado  5325584.0   \n",
       "3                      True     NaN     Usado  5273643.0   \n",
       "4                      True     NaN     Usado  5220739.0   \n",
       "\n",
       "                                                 Url  \n",
       "0  https://www.portalinmobiliario.com/venta/depar...  \n",
       "1  https://www.portalinmobiliario.com/venta/depar...  \n",
       "2  https://www.portalinmobiliario.com/venta/depar...  \n",
       "3  https://www.portalinmobiliario.com/venta/depar...  \n",
       "4  https://www.portalinmobiliario.com/venta/depar...  "
      ]
     },
     "execution_count": 45,
     "metadata": {},
     "output_type": "execute_result"
    }
   ],
   "source": [
    "import pandas as pd\n",
    "\n",
    "# Read file into pandas dataframe\n",
    "property_listing_df = pd.read_csv('property_listing.xlsx.csv')\n",
    "property_listing_df.head()"
   ]
  },
  {
   "cell_type": "markdown",
   "metadata": {},
   "source": [
    "### Data cleaning\n",
    "\n",
    "We will only be using four of these fields. We will need latitude and longitude to then retrieve venues nearby each of these properties from foursquare. As well as price in CLP and total square meters to get a price per square meter for each property. So next steps are to **eliminate columns not used** and **transform columns** to values that will suit the problem."
   ]
  },
  {
   "cell_type": "code",
   "execution_count": 46,
   "metadata": {},
   "outputs": [],
   "source": [
    "# Drop columns that will not be used\n",
    "# Keep column codigo to make sure no repeated properties in data set\n",
    "property_listing_df.drop(\n",
    "    ['Tipo de Publicacion',\n",
    "     'Tipo de Propiedad',\n",
    "     'Direccion',\n",
    "     'Numero de Piezas',\n",
    "     'Numero de Banos',\n",
    "     'M2 Totales',\n",
    "     'Precio en UF',\n",
    "     'Fecha de Publicacion',\n",
    "     'Fecha de Extraccion',\n",
    "     'Estacionamiento Incluido',\n",
    "     'Bodega',\n",
    "     'Condicion',\n",
    "     'Url'\n",
    "    ], axis=1, inplace=True)"
   ]
  },
  {
   "cell_type": "code",
   "execution_count": 47,
   "metadata": {},
   "outputs": [
    {
     "data": {
      "text/html": [
       "<div>\n",
       "<style scoped>\n",
       "    .dataframe tbody tr th:only-of-type {\n",
       "        vertical-align: middle;\n",
       "    }\n",
       "\n",
       "    .dataframe tbody tr th {\n",
       "        vertical-align: top;\n",
       "    }\n",
       "\n",
       "    .dataframe thead th {\n",
       "        text-align: right;\n",
       "    }\n",
       "</style>\n",
       "<table border=\"1\" class=\"dataframe\">\n",
       "  <thead>\n",
       "    <tr style=\"text-align: right;\">\n",
       "      <th></th>\n",
       "      <th>M2 Utiles</th>\n",
       "      <th>Precio en Pesos</th>\n",
       "      <th>Lat</th>\n",
       "      <th>Lng</th>\n",
       "      <th>Codigo</th>\n",
       "    </tr>\n",
       "  </thead>\n",
       "  <tbody>\n",
       "    <tr>\n",
       "      <th>0</th>\n",
       "      <td>100.0</td>\n",
       "      <td>264821313.0</td>\n",
       "      <td>-33.408821</td>\n",
       "      <td>-70.577133</td>\n",
       "      <td>5441296.0</td>\n",
       "    </tr>\n",
       "    <tr>\n",
       "      <th>1</th>\n",
       "      <td>125.0</td>\n",
       "      <td>330314756.0</td>\n",
       "      <td>-33.409034</td>\n",
       "      <td>-70.568615</td>\n",
       "      <td>5417148.0</td>\n",
       "    </tr>\n",
       "    <tr>\n",
       "      <th>2</th>\n",
       "      <td>145.0</td>\n",
       "      <td>347400002.0</td>\n",
       "      <td>-33.408806</td>\n",
       "      <td>-70.573571</td>\n",
       "      <td>5325584.0</td>\n",
       "    </tr>\n",
       "    <tr>\n",
       "      <th>3</th>\n",
       "      <td>120.0</td>\n",
       "      <td>301554592.0</td>\n",
       "      <td>-33.373390</td>\n",
       "      <td>-70.517697</td>\n",
       "      <td>5273643.0</td>\n",
       "    </tr>\n",
       "    <tr>\n",
       "      <th>4</th>\n",
       "      <td>77.0</td>\n",
       "      <td>213565575.0</td>\n",
       "      <td>-33.409034</td>\n",
       "      <td>-70.568615</td>\n",
       "      <td>5220739.0</td>\n",
       "    </tr>\n",
       "  </tbody>\n",
       "</table>\n",
       "</div>"
      ],
      "text/plain": [
       "   M2 Utiles  Precio en Pesos        Lat        Lng     Codigo\n",
       "0      100.0      264821313.0 -33.408821 -70.577133  5441296.0\n",
       "1      125.0      330314756.0 -33.409034 -70.568615  5417148.0\n",
       "2      145.0      347400002.0 -33.408806 -70.573571  5325584.0\n",
       "3      120.0      301554592.0 -33.373390 -70.517697  5273643.0\n",
       "4       77.0      213565575.0 -33.409034 -70.568615  5220739.0"
      ]
     },
     "execution_count": 47,
     "metadata": {},
     "output_type": "execute_result"
    }
   ],
   "source": [
    "property_listing_df.head()"
   ]
  },
  {
   "cell_type": "code",
   "execution_count": 48,
   "metadata": {},
   "outputs": [
    {
     "name": "stdout",
     "output_type": "stream",
     "text": [
      "(434, 5)\n",
      "(7435, 5)\n"
     ]
    }
   ],
   "source": [
    "print(property_listing_df[property_listing_df.duplicated(['Codigo'])].shape)\n",
    "print(property_listing_df.shape)"
   ]
  },
  {
   "cell_type": "code",
   "execution_count": 49,
   "metadata": {},
   "outputs": [],
   "source": [
    "# Delete duplicates (most of them are NaN)\n",
    "property_listing_df.drop_duplicates(['Codigo'], inplace=True)"
   ]
  },
  {
   "cell_type": "code",
   "execution_count": 50,
   "metadata": {},
   "outputs": [
    {
     "data": {
      "text/plain": [
       "(7001, 5)"
      ]
     },
     "execution_count": 50,
     "metadata": {},
     "output_type": "execute_result"
    }
   ],
   "source": [
    "# Check if shape corresponds to (7401, 5)\n",
    "property_listing_df.shape"
   ]
  },
  {
   "cell_type": "code",
   "execution_count": 51,
   "metadata": {},
   "outputs": [
    {
     "data": {
      "text/plain": [
       "(6955, 5)"
      ]
     },
     "execution_count": 51,
     "metadata": {},
     "output_type": "execute_result"
    }
   ],
   "source": [
    "# Drop Nan Values\n",
    "property_listing_df.dropna(inplace=True)\n",
    "property_listing_df.shape"
   ]
  },
  {
   "cell_type": "markdown",
   "metadata": {},
   "source": [
    "We can see that only 6 rows had null values"
   ]
  },
  {
   "cell_type": "code",
   "execution_count": 52,
   "metadata": {},
   "outputs": [
    {
     "data": {
      "text/html": [
       "<div>\n",
       "<style scoped>\n",
       "    .dataframe tbody tr th:only-of-type {\n",
       "        vertical-align: middle;\n",
       "    }\n",
       "\n",
       "    .dataframe tbody tr th {\n",
       "        vertical-align: top;\n",
       "    }\n",
       "\n",
       "    .dataframe thead th {\n",
       "        text-align: right;\n",
       "    }\n",
       "</style>\n",
       "<table border=\"1\" class=\"dataframe\">\n",
       "  <thead>\n",
       "    <tr style=\"text-align: right;\">\n",
       "      <th></th>\n",
       "      <th>M2 Utiles</th>\n",
       "      <th>Precio en Pesos</th>\n",
       "      <th>Lat</th>\n",
       "      <th>Lng</th>\n",
       "    </tr>\n",
       "  </thead>\n",
       "  <tbody>\n",
       "    <tr>\n",
       "      <th>0</th>\n",
       "      <td>100.0</td>\n",
       "      <td>264821313.0</td>\n",
       "      <td>-33.408821</td>\n",
       "      <td>-70.577133</td>\n",
       "    </tr>\n",
       "    <tr>\n",
       "      <th>1</th>\n",
       "      <td>125.0</td>\n",
       "      <td>330314756.0</td>\n",
       "      <td>-33.409034</td>\n",
       "      <td>-70.568615</td>\n",
       "    </tr>\n",
       "    <tr>\n",
       "      <th>2</th>\n",
       "      <td>145.0</td>\n",
       "      <td>347400002.0</td>\n",
       "      <td>-33.408806</td>\n",
       "      <td>-70.573571</td>\n",
       "    </tr>\n",
       "    <tr>\n",
       "      <th>3</th>\n",
       "      <td>120.0</td>\n",
       "      <td>301554592.0</td>\n",
       "      <td>-33.373390</td>\n",
       "      <td>-70.517697</td>\n",
       "    </tr>\n",
       "    <tr>\n",
       "      <th>4</th>\n",
       "      <td>77.0</td>\n",
       "      <td>213565575.0</td>\n",
       "      <td>-33.409034</td>\n",
       "      <td>-70.568615</td>\n",
       "    </tr>\n",
       "  </tbody>\n",
       "</table>\n",
       "</div>"
      ],
      "text/plain": [
       "   M2 Utiles  Precio en Pesos        Lat        Lng\n",
       "0      100.0      264821313.0 -33.408821 -70.577133\n",
       "1      125.0      330314756.0 -33.409034 -70.568615\n",
       "2      145.0      347400002.0 -33.408806 -70.573571\n",
       "3      120.0      301554592.0 -33.373390 -70.517697\n",
       "4       77.0      213565575.0 -33.409034 -70.568615"
      ]
     },
     "execution_count": 52,
     "metadata": {},
     "output_type": "execute_result"
    }
   ],
   "source": [
    "# Drop code column and none values\n",
    "property_listing_df.drop(['Codigo'], axis=1, inplace=True)\n",
    "property_listing_df.head()"
   ]
  },
  {
   "cell_type": "markdown",
   "metadata": {},
   "source": [
    "### Check Data Set\n",
    "\n",
    "Now that we hace already got the information we want without duplicates, we can proceed to check the data to see if it is a good set of data and wether or not it has some outliers or misleading information."
   ]
  },
  {
   "cell_type": "code",
   "execution_count": 53,
   "metadata": {},
   "outputs": [
    {
     "data": {
      "text/html": [
       "<div>\n",
       "<style scoped>\n",
       "    .dataframe tbody tr th:only-of-type {\n",
       "        vertical-align: middle;\n",
       "    }\n",
       "\n",
       "    .dataframe tbody tr th {\n",
       "        vertical-align: top;\n",
       "    }\n",
       "\n",
       "    .dataframe thead th {\n",
       "        text-align: right;\n",
       "    }\n",
       "</style>\n",
       "<table border=\"1\" class=\"dataframe\">\n",
       "  <thead>\n",
       "    <tr style=\"text-align: right;\">\n",
       "      <th></th>\n",
       "      <th>M2 Utiles</th>\n",
       "      <th>Precio en Pesos</th>\n",
       "      <th>Lat</th>\n",
       "      <th>Lng</th>\n",
       "    </tr>\n",
       "  </thead>\n",
       "  <tbody>\n",
       "    <tr>\n",
       "      <th>count</th>\n",
       "      <td>6955.000000</td>\n",
       "      <td>6.955000e+03</td>\n",
       "      <td>6955.000000</td>\n",
       "      <td>6955.000000</td>\n",
       "    </tr>\n",
       "    <tr>\n",
       "      <th>mean</th>\n",
       "      <td>142.795905</td>\n",
       "      <td>3.553965e+08</td>\n",
       "      <td>-33.368891</td>\n",
       "      <td>-70.582940</td>\n",
       "    </tr>\n",
       "    <tr>\n",
       "      <th>std</th>\n",
       "      <td>158.730331</td>\n",
       "      <td>2.318569e+08</td>\n",
       "      <td>1.367866</td>\n",
       "      <td>1.267918</td>\n",
       "    </tr>\n",
       "    <tr>\n",
       "      <th>min</th>\n",
       "      <td>0.000000</td>\n",
       "      <td>1.050000e+04</td>\n",
       "      <td>-41.148853</td>\n",
       "      <td>-73.267975</td>\n",
       "    </tr>\n",
       "    <tr>\n",
       "      <th>25%</th>\n",
       "      <td>86.000000</td>\n",
       "      <td>2.137419e+08</td>\n",
       "      <td>-33.417183</td>\n",
       "      <td>-70.586669</td>\n",
       "    </tr>\n",
       "    <tr>\n",
       "      <th>50%</th>\n",
       "      <td>128.000000</td>\n",
       "      <td>2.992387e+08</td>\n",
       "      <td>-33.410683</td>\n",
       "      <td>-70.568615</td>\n",
       "    </tr>\n",
       "    <tr>\n",
       "      <th>75%</th>\n",
       "      <td>160.000000</td>\n",
       "      <td>3.989849e+08</td>\n",
       "      <td>-33.397185</td>\n",
       "      <td>-70.553902</td>\n",
       "    </tr>\n",
       "    <tr>\n",
       "      <th>max</th>\n",
       "      <td>10370.000000</td>\n",
       "      <td>3.422428e+09</td>\n",
       "      <td>45.052621</td>\n",
       "      <td>9.692984</td>\n",
       "    </tr>\n",
       "  </tbody>\n",
       "</table>\n",
       "</div>"
      ],
      "text/plain": [
       "          M2 Utiles  Precio en Pesos          Lat          Lng\n",
       "count   6955.000000     6.955000e+03  6955.000000  6955.000000\n",
       "mean     142.795905     3.553965e+08   -33.368891   -70.582940\n",
       "std      158.730331     2.318569e+08     1.367866     1.267918\n",
       "min        0.000000     1.050000e+04   -41.148853   -73.267975\n",
       "25%       86.000000     2.137419e+08   -33.417183   -70.586669\n",
       "50%      128.000000     2.992387e+08   -33.410683   -70.568615\n",
       "75%      160.000000     3.989849e+08   -33.397185   -70.553902\n",
       "max    10370.000000     3.422428e+09    45.052621     9.692984"
      ]
     },
     "execution_count": 53,
     "metadata": {},
     "output_type": "execute_result"
    }
   ],
   "source": [
    "property_listing_df.describe()"
   ]
  },
  {
   "cell_type": "markdown",
   "metadata": {},
   "source": [
    "With just this line of code, we can observe that some values for useful square meters are way too high (10km) and some way too low (0m). In the price column, we can observe that there is a huge std, which is not a very good sign. Latitude and longitude values also are wrong for some values, as latitude 45 or longitude 9.6 are clearly not in Chile even. So we will have to clean this data."
   ]
  },
  {
   "cell_type": "code",
   "execution_count": 54,
   "metadata": {},
   "outputs": [],
   "source": [
    "# First, change names of column to make them easier\n",
    "property_listing_df.rename(columns={'M2 Utiles': 'sqm', 'Precio en Pesos': 'price', 'Lat': 'lat', 'Lng': 'lng'}, inplace=True)"
   ]
  },
  {
   "cell_type": "code",
   "execution_count": 55,
   "metadata": {},
   "outputs": [],
   "source": [
    "# Keep only apartments with more than 20 square meters (reasonable)\n",
    "property_listing_df = property_listing_df[property_listing_df['sqm'] > 20]\n",
    "\n",
    "# Keep only apartments with maximum 1500 sqm (reasonable)\n",
    "property_listing_df = property_listing_df[property_listing_df['sqm'] <= 1500]\n",
    "\n",
    "# Keep only price values lower than 1,000,000,000 (reasonable)\n",
    "property_listing_df = property_listing_df[property_listing_df['price'] <= 1000000000]\n",
    "\n",
    "# Keep only price values higher than 20,000,000 (reasonable)\n",
    "property_listing_df = property_listing_df[property_listing_df['price'] >= 20000000]\n",
    "\n",
    "# Keep only lat values between -33.5 and -33.3 (Values for Las Condes, Santiago, Chile)\n",
    "property_listing_df = property_listing_df[(property_listing_df['lat'] >= -33.5) & (property_listing_df['lat'] <= -33.3)]\n",
    "\n",
    "# Keep only lng values between -70.7 and -70.4 (Values for Las Condes, Santiago, Chile)\n",
    "property_listing_df = property_listing_df[(property_listing_df['lng'] >= -70.7) & (property_listing_df['lng'] <= -70.4)]"
   ]
  },
  {
   "cell_type": "code",
   "execution_count": 56,
   "metadata": {},
   "outputs": [
    {
     "data": {
      "text/html": [
       "<div>\n",
       "<style scoped>\n",
       "    .dataframe tbody tr th:only-of-type {\n",
       "        vertical-align: middle;\n",
       "    }\n",
       "\n",
       "    .dataframe tbody tr th {\n",
       "        vertical-align: top;\n",
       "    }\n",
       "\n",
       "    .dataframe thead th {\n",
       "        text-align: right;\n",
       "    }\n",
       "</style>\n",
       "<table border=\"1\" class=\"dataframe\">\n",
       "  <thead>\n",
       "    <tr style=\"text-align: right;\">\n",
       "      <th></th>\n",
       "      <th>sqm</th>\n",
       "      <th>price</th>\n",
       "      <th>lat</th>\n",
       "      <th>lng</th>\n",
       "    </tr>\n",
       "  </thead>\n",
       "  <tbody>\n",
       "    <tr>\n",
       "      <th>count</th>\n",
       "      <td>6469.000000</td>\n",
       "      <td>6.469000e+03</td>\n",
       "      <td>6469.000000</td>\n",
       "      <td>6469.000000</td>\n",
       "    </tr>\n",
       "    <tr>\n",
       "      <th>mean</th>\n",
       "      <td>133.561210</td>\n",
       "      <td>3.334613e+08</td>\n",
       "      <td>-33.407805</td>\n",
       "      <td>-70.564100</td>\n",
       "    </tr>\n",
       "    <tr>\n",
       "      <th>std</th>\n",
       "      <td>72.069537</td>\n",
       "      <td>1.691197e+08</td>\n",
       "      <td>0.014709</td>\n",
       "      <td>0.027521</td>\n",
       "    </tr>\n",
       "    <tr>\n",
       "      <th>min</th>\n",
       "      <td>25.000000</td>\n",
       "      <td>2.137419e+07</td>\n",
       "      <td>-33.489700</td>\n",
       "      <td>-70.677969</td>\n",
       "    </tr>\n",
       "    <tr>\n",
       "      <th>25%</th>\n",
       "      <td>83.000000</td>\n",
       "      <td>2.137419e+08</td>\n",
       "      <td>-33.417400</td>\n",
       "      <td>-70.584541</td>\n",
       "    </tr>\n",
       "    <tr>\n",
       "      <th>50%</th>\n",
       "      <td>124.000000</td>\n",
       "      <td>2.992387e+08</td>\n",
       "      <td>-33.411545</td>\n",
       "      <td>-70.568615</td>\n",
       "    </tr>\n",
       "    <tr>\n",
       "      <th>75%</th>\n",
       "      <td>151.000000</td>\n",
       "      <td>3.933662e+08</td>\n",
       "      <td>-33.400330</td>\n",
       "      <td>-70.554484</td>\n",
       "    </tr>\n",
       "    <tr>\n",
       "      <th>max</th>\n",
       "      <td>680.000000</td>\n",
       "      <td>9.983368e+08</td>\n",
       "      <td>-33.318218</td>\n",
       "      <td>-70.493782</td>\n",
       "    </tr>\n",
       "  </tbody>\n",
       "</table>\n",
       "</div>"
      ],
      "text/plain": [
       "               sqm         price          lat          lng\n",
       "count  6469.000000  6.469000e+03  6469.000000  6469.000000\n",
       "mean    133.561210  3.334613e+08   -33.407805   -70.564100\n",
       "std      72.069537  1.691197e+08     0.014709     0.027521\n",
       "min      25.000000  2.137419e+07   -33.489700   -70.677969\n",
       "25%      83.000000  2.137419e+08   -33.417400   -70.584541\n",
       "50%     124.000000  2.992387e+08   -33.411545   -70.568615\n",
       "75%     151.000000  3.933662e+08   -33.400330   -70.554484\n",
       "max     680.000000  9.983368e+08   -33.318218   -70.493782"
      ]
     },
     "execution_count": 56,
     "metadata": {},
     "output_type": "execute_result"
    }
   ],
   "source": [
    "property_listing_df.describe()"
   ]
  },
  {
   "cell_type": "markdown",
   "metadata": {},
   "source": [
    "### Comments on data\n",
    "\n",
    "So we have cleaned our data set from outliers and now we have realistic values. To summarize changes we have the differences seen in the describe() functions:\n",
    "\n",
    "* **sqm:** std from 159 to 72  \n",
    "* **price:** std from 2.3e+08 to 1.7e+08  \n",
    "* **lat:** std from 1.37 to 0.015\n",
    "* **lng:** std from 1.27 to 0.028\n",
    "\n",
    "So with this we can see that now our dataset seems to be of real data and not typing errors or other types of misleading information. In total we deleted **414** rows of misleading data.\n",
    "\n",
    "Now we can convert price and sql to price/sqm column"
   ]
  },
  {
   "cell_type": "code",
   "execution_count": 57,
   "metadata": {},
   "outputs": [
    {
     "data": {
      "text/html": [
       "<div>\n",
       "<style scoped>\n",
       "    .dataframe tbody tr th:only-of-type {\n",
       "        vertical-align: middle;\n",
       "    }\n",
       "\n",
       "    .dataframe tbody tr th {\n",
       "        vertical-align: top;\n",
       "    }\n",
       "\n",
       "    .dataframe thead th {\n",
       "        text-align: right;\n",
       "    }\n",
       "</style>\n",
       "<table border=\"1\" class=\"dataframe\">\n",
       "  <thead>\n",
       "    <tr style=\"text-align: right;\">\n",
       "      <th></th>\n",
       "      <th>sqm</th>\n",
       "      <th>price</th>\n",
       "      <th>lat</th>\n",
       "      <th>lng</th>\n",
       "      <th>sqm price</th>\n",
       "    </tr>\n",
       "  </thead>\n",
       "  <tbody>\n",
       "    <tr>\n",
       "      <th>0</th>\n",
       "      <td>100.0</td>\n",
       "      <td>264821313.0</td>\n",
       "      <td>-33.408821</td>\n",
       "      <td>-70.577133</td>\n",
       "      <td>2.648213e+06</td>\n",
       "    </tr>\n",
       "    <tr>\n",
       "      <th>1</th>\n",
       "      <td>125.0</td>\n",
       "      <td>330314756.0</td>\n",
       "      <td>-33.409034</td>\n",
       "      <td>-70.568615</td>\n",
       "      <td>2.642518e+06</td>\n",
       "    </tr>\n",
       "    <tr>\n",
       "      <th>2</th>\n",
       "      <td>145.0</td>\n",
       "      <td>347400002.0</td>\n",
       "      <td>-33.408806</td>\n",
       "      <td>-70.573571</td>\n",
       "      <td>2.395862e+06</td>\n",
       "    </tr>\n",
       "    <tr>\n",
       "      <th>3</th>\n",
       "      <td>120.0</td>\n",
       "      <td>301554592.0</td>\n",
       "      <td>-33.373390</td>\n",
       "      <td>-70.517697</td>\n",
       "      <td>2.512955e+06</td>\n",
       "    </tr>\n",
       "    <tr>\n",
       "      <th>4</th>\n",
       "      <td>77.0</td>\n",
       "      <td>213565575.0</td>\n",
       "      <td>-33.409034</td>\n",
       "      <td>-70.568615</td>\n",
       "      <td>2.773579e+06</td>\n",
       "    </tr>\n",
       "  </tbody>\n",
       "</table>\n",
       "</div>"
      ],
      "text/plain": [
       "     sqm        price        lat        lng     sqm price\n",
       "0  100.0  264821313.0 -33.408821 -70.577133  2.648213e+06\n",
       "1  125.0  330314756.0 -33.409034 -70.568615  2.642518e+06\n",
       "2  145.0  347400002.0 -33.408806 -70.573571  2.395862e+06\n",
       "3  120.0  301554592.0 -33.373390 -70.517697  2.512955e+06\n",
       "4   77.0  213565575.0 -33.409034 -70.568615  2.773579e+06"
      ]
     },
     "execution_count": 57,
     "metadata": {},
     "output_type": "execute_result"
    }
   ],
   "source": [
    "# Add price/sqm column\n",
    "property_listing_df['sqm price'] = property_listing_df['price'] / property_listing_df['sqm']\n",
    "property_listing_df.head()"
   ]
  },
  {
   "cell_type": "code",
   "execution_count": 58,
   "metadata": {},
   "outputs": [
    {
     "data": {
      "text/html": [
       "<div>\n",
       "<style scoped>\n",
       "    .dataframe tbody tr th:only-of-type {\n",
       "        vertical-align: middle;\n",
       "    }\n",
       "\n",
       "    .dataframe tbody tr th {\n",
       "        vertical-align: top;\n",
       "    }\n",
       "\n",
       "    .dataframe thead th {\n",
       "        text-align: right;\n",
       "    }\n",
       "</style>\n",
       "<table border=\"1\" class=\"dataframe\">\n",
       "  <thead>\n",
       "    <tr style=\"text-align: right;\">\n",
       "      <th></th>\n",
       "      <th>lat</th>\n",
       "      <th>lng</th>\n",
       "      <th>sqm price</th>\n",
       "    </tr>\n",
       "  </thead>\n",
       "  <tbody>\n",
       "    <tr>\n",
       "      <th>0</th>\n",
       "      <td>-33.408821</td>\n",
       "      <td>-70.577133</td>\n",
       "      <td>2.648213e+06</td>\n",
       "    </tr>\n",
       "    <tr>\n",
       "      <th>1</th>\n",
       "      <td>-33.409034</td>\n",
       "      <td>-70.568615</td>\n",
       "      <td>2.642518e+06</td>\n",
       "    </tr>\n",
       "    <tr>\n",
       "      <th>2</th>\n",
       "      <td>-33.408806</td>\n",
       "      <td>-70.573571</td>\n",
       "      <td>2.395862e+06</td>\n",
       "    </tr>\n",
       "    <tr>\n",
       "      <th>3</th>\n",
       "      <td>-33.373390</td>\n",
       "      <td>-70.517697</td>\n",
       "      <td>2.512955e+06</td>\n",
       "    </tr>\n",
       "    <tr>\n",
       "      <th>4</th>\n",
       "      <td>-33.409034</td>\n",
       "      <td>-70.568615</td>\n",
       "      <td>2.773579e+06</td>\n",
       "    </tr>\n",
       "  </tbody>\n",
       "</table>\n",
       "</div>"
      ],
      "text/plain": [
       "         lat        lng     sqm price\n",
       "0 -33.408821 -70.577133  2.648213e+06\n",
       "1 -33.409034 -70.568615  2.642518e+06\n",
       "2 -33.408806 -70.573571  2.395862e+06\n",
       "3 -33.373390 -70.517697  2.512955e+06\n",
       "4 -33.409034 -70.568615  2.773579e+06"
      ]
     },
     "execution_count": 58,
     "metadata": {},
     "output_type": "execute_result"
    }
   ],
   "source": [
    "property_listing_df.drop(['sqm', 'price'], axis=1, inplace=True)\n",
    "property_listing_df.head()"
   ]
  },
  {
   "cell_type": "code",
   "execution_count": 59,
   "metadata": {},
   "outputs": [
    {
     "data": {
      "text/html": [
       "<div>\n",
       "<style scoped>\n",
       "    .dataframe tbody tr th:only-of-type {\n",
       "        vertical-align: middle;\n",
       "    }\n",
       "\n",
       "    .dataframe tbody tr th {\n",
       "        vertical-align: top;\n",
       "    }\n",
       "\n",
       "    .dataframe thead th {\n",
       "        text-align: right;\n",
       "    }\n",
       "</style>\n",
       "<table border=\"1\" class=\"dataframe\">\n",
       "  <thead>\n",
       "    <tr style=\"text-align: right;\">\n",
       "      <th></th>\n",
       "      <th>lat</th>\n",
       "      <th>lng</th>\n",
       "      <th>sqm price</th>\n",
       "    </tr>\n",
       "  </thead>\n",
       "  <tbody>\n",
       "    <tr>\n",
       "      <th>count</th>\n",
       "      <td>6469.000000</td>\n",
       "      <td>6469.000000</td>\n",
       "      <td>6.469000e+03</td>\n",
       "    </tr>\n",
       "    <tr>\n",
       "      <th>mean</th>\n",
       "      <td>-33.407805</td>\n",
       "      <td>-70.564100</td>\n",
       "      <td>2.614768e+06</td>\n",
       "    </tr>\n",
       "    <tr>\n",
       "      <th>std</th>\n",
       "      <td>0.014709</td>\n",
       "      <td>0.027521</td>\n",
       "      <td>6.185690e+05</td>\n",
       "    </tr>\n",
       "    <tr>\n",
       "      <th>min</th>\n",
       "      <td>-33.489700</td>\n",
       "      <td>-70.677969</td>\n",
       "      <td>2.913969e+05</td>\n",
       "    </tr>\n",
       "    <tr>\n",
       "      <th>25%</th>\n",
       "      <td>-33.417400</td>\n",
       "      <td>-70.584541</td>\n",
       "      <td>2.203742e+06</td>\n",
       "    </tr>\n",
       "    <tr>\n",
       "      <th>50%</th>\n",
       "      <td>-33.411545</td>\n",
       "      <td>-70.568615</td>\n",
       "      <td>2.521058e+06</td>\n",
       "    </tr>\n",
       "    <tr>\n",
       "      <th>75%</th>\n",
       "      <td>-33.400330</td>\n",
       "      <td>-70.554484</td>\n",
       "      <td>2.894964e+06</td>\n",
       "    </tr>\n",
       "    <tr>\n",
       "      <th>max</th>\n",
       "      <td>-33.318218</td>\n",
       "      <td>-70.493782</td>\n",
       "      <td>7.124730e+06</td>\n",
       "    </tr>\n",
       "  </tbody>\n",
       "</table>\n",
       "</div>"
      ],
      "text/plain": [
       "               lat          lng     sqm price\n",
       "count  6469.000000  6469.000000  6.469000e+03\n",
       "mean    -33.407805   -70.564100  2.614768e+06\n",
       "std       0.014709     0.027521  6.185690e+05\n",
       "min     -33.489700   -70.677969  2.913969e+05\n",
       "25%     -33.417400   -70.584541  2.203742e+06\n",
       "50%     -33.411545   -70.568615  2.521058e+06\n",
       "75%     -33.400330   -70.554484  2.894964e+06\n",
       "max     -33.318218   -70.493782  7.124730e+06"
      ]
     },
     "execution_count": 59,
     "metadata": {},
     "output_type": "execute_result"
    }
   ],
   "source": [
    "# Finally check new statistics\n",
    "property_listing_df.describe()"
   ]
  },
  {
   "cell_type": "markdown",
   "metadata": {},
   "source": [
    "### Add Foursquare Venues Information to DF\n",
    "\n",
    "Now we can request the foursquare API to get all the information we need on what venues are near each of the different properties."
   ]
  },
  {
   "cell_type": "code",
   "execution_count": 261,
   "metadata": {},
   "outputs": [],
   "source": [
    "# Foursquare credentials\n",
    "\n",
    "CLIENT_ID = 'JBNZOIVSC431WAJGTONJYKIO3WJPWM330ZVTM4W2U5GY5BMQ'\n",
    "CLIENT_SECRET = 'KYRL22H4SXRTHFWQ3PBX2NTYUXAHL4MS0YDS2RNZLOUSTISO'\n",
    "LIMIT = 100\n",
    "radius = 500\n",
    "LIMIT = 100\n",
    "intent = 'browse'\n",
    "VERSION = '20200401'\n",
    "search_url = 'https://api.foursquare.com/v2/venues/search?'\n"
   ]
  },
  {
   "cell_type": "code",
   "execution_count": 262,
   "metadata": {},
   "outputs": [],
   "source": [
    "import requests\n",
    "\n",
    "latitude = -33.40882\n",
    "longitude = -70.577133\n",
    "\n",
    "url = '{}client_id={}&client_secret={}&ll={},{}&v={}&radius={}&limit={}&intent={}'.format(\n",
    "    search_url,\n",
    "    CLIENT_ID,\n",
    "    CLIENT_SECRET,\n",
    "    latitude,\n",
    "    longitude,\n",
    "    VERSION,\n",
    "    radius,\n",
    "    LIMIT,\n",
    "    intent)\n",
    "response = requests.get(url)"
   ]
  },
  {
   "cell_type": "code",
   "execution_count": 263,
   "metadata": {},
   "outputs": [
    {
     "name": "stdout",
     "output_type": "stream",
     "text": [
      "86\n"
     ]
    }
   ],
   "source": [
    "venues = response.json()['response']['venues']\n",
    "print(len(venues))"
   ]
  },
  {
   "cell_type": "code",
   "execution_count": 264,
   "metadata": {},
   "outputs": [
    {
     "name": "stdout",
     "output_type": "stream",
     "text": [
      "86\n"
     ]
    }
   ],
   "source": [
    "radius = 100\n",
    "\n",
    "url = '{}client_id={}&client_secret={}&ll={},{}&v={}&radius={}&limit={}&intent={}'.format(\n",
    "    search_url,\n",
    "    CLIENT_ID,\n",
    "    CLIENT_SECRET,\n",
    "    latitude,\n",
    "    longitude,\n",
    "    VERSION,\n",
    "    radius,\n",
    "    LIMIT,\n",
    "    intent)\n",
    "response = requests.get(url)\n",
    "venues = response.json()['response']['venues']\n",
    "print(len(venues))"
   ]
  },
  {
   "cell_type": "markdown",
   "metadata": {},
   "source": [
    "### Decisions\n",
    "\n",
    "We see that for different values of radius in a very populated place (selected on purpose) we get the same maximum number of venues. This is why we are going to use the number of appearences divided by the distance to each of these appearences as the value of each categories box. This way we don't discriminate places with lots of venues close just because other venues appear in the response.\n",
    "\n",
    "For better understanding, take this following example into account. If location A has a school 500m from it, this will probably be good. Location B in the other hand has a school 250m away, which we could say is better. Now, if location B has too many venues nearby, maybe the school does not appear in the response. So to make this more even, we divide by the distance to the venue. Now the school for location A gives the least possible sum for the column schools (as 500m is the maximum radius we are using)"
   ]
  },
  {
   "cell_type": "markdown",
   "metadata": {},
   "source": [
    "### Data Wrangling\n",
    "\n",
    "Now we proceed to get the sum of venues nearby in each category divided by their distance to the evaluated property.\n",
    "\n",
    "We will create a DataFrame that has the columns lat, lng and one column for each category with its value for each row represented by the count of that type of venue divided in the distance from the property to these venues."
   ]
  },
  {
   "cell_type": "code",
   "execution_count": 313,
   "metadata": {},
   "outputs": [],
   "source": [
    "# Add function to get venues from lat and lng\n",
    "def get_venues(lat, lng, radius):\n",
    "    url = '{}client_id={}&client_secret={}&ll={},{}&v={}&radius={}&limit={}&intent={}'.format(\n",
    "        search_url,\n",
    "        CLIENT_ID,\n",
    "        CLIENT_SECRET,\n",
    "        latitude,\n",
    "        longitude,\n",
    "        VERSION,\n",
    "        radius,\n",
    "        LIMIT,\n",
    "        intent)\n",
    "\n",
    "    venues = requests.get(url).json()['response']['venues']\n",
    "    return venues"
   ]
  },
  {
   "cell_type": "code",
   "execution_count": 335,
   "metadata": {},
   "outputs": [],
   "source": [
    "# Function to create a dict with the values for each category divided by distance to venues\n",
    "def create_property_categories_dict(venues):\n",
    "    property_categories = {}\n",
    "    for venue in venues:\n",
    "        dist = float(venue['location']['distance'])\n",
    "        for category in venue['categories']:\n",
    "            if category['primary'] == True and dist >= 1:\n",
    "                if category['name'] in property_categories.keys():\n",
    "                    property_categories[category['name']] += 1/dist\n",
    "                else:\n",
    "                    property_categories[category['name']] = 1/dist\n",
    "    \n",
    "    return property_categories"
   ]
  },
  {
   "cell_type": "code",
   "execution_count": 323,
   "metadata": {},
   "outputs": [],
   "source": [
    "# Function to add row to final dict dataframe\n",
    "def add_row(dict_df, processed_properties, property_categories, lat, lng):\n",
    "    dict_df['lat'].append(lat)\n",
    "    dict_df['lng'].append(lng)\n",
    "    for category in property_categories.keys():\n",
    "        if category in dict_df.keys():\n",
    "            # Add value for this category if present\n",
    "            dict_df[category].append(property_categories[category])\n",
    "        else:\n",
    "            # Create list for this category\n",
    "            dict_df[category] = [0] * processed_properties + [property_categories[category]]\n",
    "            \n",
    "    # For each category not in this property but in others, add a 0\n",
    "    for category in list(set(dict_df.keys()).difference(property_categories.keys())):\n",
    "        if category not in ('lat, lng'):\n",
    "            dict_df[category].append(0)\n",
    "            \n",
    "    processed_properties += 1\n",
    "    return dict_df, processed_properties"
   ]
  },
  {
   "cell_type": "code",
   "execution_count": 337,
   "metadata": {},
   "outputs": [
    {
     "name": "stdout",
     "output_type": "stream",
     "text": [
      "We are in property 0 already! Hang on..\n",
      "We are in property 500 already! Hang on..\n",
      "We are in property 1000 already! Hang on..\n",
      "We are in property 1500 already! Hang on..\n",
      "We are in property 2000 already! Hang on..\n",
      "We are in property 2500 already! Hang on..\n",
      "We are in property 3000 already! Hang on..\n",
      "We are in property 4000 already! Hang on..\n",
      "We are in property 5000 already! Hang on..\n",
      "We are in property 5500 already! Hang on..\n",
      "We are in property 6500 already! Hang on..\n",
      "We are in property 7000 already! Hang on..\n",
      "Dictionary ready to convert in data frame and then merge!!\n"
     ]
    }
   ],
   "source": [
    "radius = 500\n",
    "processed_properties = 0\n",
    "dict_df = {'lat': [], 'lng': []}\n",
    "\n",
    "for index, row in property_listing_df.iterrows():\n",
    "    latitude = row['lat']\n",
    "    longitude = row['lng']\n",
    "    venues = get_venues(latitude, longitude, radius)\n",
    "    property_categories = create_property_categories_dict(venues)\n",
    "    dict_df, processed_properties = add_row(dict_df, processed_properties, property_categories, latitude, longitude)\n",
    "    if index % 500 ==  0:\n",
    "        print('We are in property {} already! Hang on..'.format(index))\n",
    "\n",
    "print('Dictionary ready to convert in data frame and then merge!!')"
   ]
  },
  {
   "cell_type": "code",
   "execution_count": 338,
   "metadata": {},
   "outputs": [
    {
     "data": {
      "text/html": [
       "<div>\n",
       "<style scoped>\n",
       "    .dataframe tbody tr th:only-of-type {\n",
       "        vertical-align: middle;\n",
       "    }\n",
       "\n",
       "    .dataframe tbody tr th {\n",
       "        vertical-align: top;\n",
       "    }\n",
       "\n",
       "    .dataframe thead th {\n",
       "        text-align: right;\n",
       "    }\n",
       "</style>\n",
       "<table border=\"1\" class=\"dataframe\">\n",
       "  <thead>\n",
       "    <tr style=\"text-align: right;\">\n",
       "      <th></th>\n",
       "      <th>lat</th>\n",
       "      <th>lng</th>\n",
       "      <th>Park</th>\n",
       "      <th>Residential Building (Apartment / Condo)</th>\n",
       "      <th>Boutique</th>\n",
       "      <th>Dog Run</th>\n",
       "      <th>Breakfast Spot</th>\n",
       "      <th>Office</th>\n",
       "      <th>Bakery</th>\n",
       "      <th>Dentist's Office</th>\n",
       "      <th>...</th>\n",
       "      <th>New American Restaurant</th>\n",
       "      <th>Apres Ski Bar</th>\n",
       "      <th>Adult Education Center</th>\n",
       "      <th>Night Market</th>\n",
       "      <th>Pop-Up Shop</th>\n",
       "      <th>Cooking School</th>\n",
       "      <th>Sporting Event</th>\n",
       "      <th>Hospital Ward</th>\n",
       "      <th>Outdoor Sculpture</th>\n",
       "      <th>Souvenir Shop</th>\n",
       "    </tr>\n",
       "  </thead>\n",
       "  <tbody>\n",
       "    <tr>\n",
       "      <th>0</th>\n",
       "      <td>-33.408821</td>\n",
       "      <td>-70.577133</td>\n",
       "      <td>0.036836</td>\n",
       "      <td>0.231205</td>\n",
       "      <td>0.013514</td>\n",
       "      <td>0.086199</td>\n",
       "      <td>0.003030</td>\n",
       "      <td>0.152661</td>\n",
       "      <td>0.002994</td>\n",
       "      <td>0.039121</td>\n",
       "      <td>...</td>\n",
       "      <td>0.0</td>\n",
       "      <td>0.0</td>\n",
       "      <td>0.0</td>\n",
       "      <td>0.0</td>\n",
       "      <td>0.0</td>\n",
       "      <td>0.0</td>\n",
       "      <td>0.0</td>\n",
       "      <td>0.0</td>\n",
       "      <td>0.0</td>\n",
       "      <td>0.0</td>\n",
       "    </tr>\n",
       "    <tr>\n",
       "      <th>1</th>\n",
       "      <td>-33.409034</td>\n",
       "      <td>-70.568615</td>\n",
       "      <td>0.000000</td>\n",
       "      <td>0.009174</td>\n",
       "      <td>0.062500</td>\n",
       "      <td>0.000000</td>\n",
       "      <td>0.040000</td>\n",
       "      <td>0.071016</td>\n",
       "      <td>0.048200</td>\n",
       "      <td>0.077922</td>\n",
       "      <td>...</td>\n",
       "      <td>0.0</td>\n",
       "      <td>0.0</td>\n",
       "      <td>0.0</td>\n",
       "      <td>0.0</td>\n",
       "      <td>0.0</td>\n",
       "      <td>0.0</td>\n",
       "      <td>0.0</td>\n",
       "      <td>0.0</td>\n",
       "      <td>0.0</td>\n",
       "      <td>0.0</td>\n",
       "    </tr>\n",
       "    <tr>\n",
       "      <th>2</th>\n",
       "      <td>-33.408806</td>\n",
       "      <td>-70.573571</td>\n",
       "      <td>0.000000</td>\n",
       "      <td>0.210924</td>\n",
       "      <td>0.000000</td>\n",
       "      <td>0.000000</td>\n",
       "      <td>0.000000</td>\n",
       "      <td>0.265683</td>\n",
       "      <td>0.000000</td>\n",
       "      <td>0.000000</td>\n",
       "      <td>...</td>\n",
       "      <td>0.0</td>\n",
       "      <td>0.0</td>\n",
       "      <td>0.0</td>\n",
       "      <td>0.0</td>\n",
       "      <td>0.0</td>\n",
       "      <td>0.0</td>\n",
       "      <td>0.0</td>\n",
       "      <td>0.0</td>\n",
       "      <td>0.0</td>\n",
       "      <td>0.0</td>\n",
       "    </tr>\n",
       "    <tr>\n",
       "      <th>3</th>\n",
       "      <td>-33.373390</td>\n",
       "      <td>-70.517697</td>\n",
       "      <td>0.000000</td>\n",
       "      <td>0.000000</td>\n",
       "      <td>0.000000</td>\n",
       "      <td>0.000000</td>\n",
       "      <td>0.007874</td>\n",
       "      <td>0.058639</td>\n",
       "      <td>0.000000</td>\n",
       "      <td>0.000000</td>\n",
       "      <td>...</td>\n",
       "      <td>0.0</td>\n",
       "      <td>0.0</td>\n",
       "      <td>0.0</td>\n",
       "      <td>0.0</td>\n",
       "      <td>0.0</td>\n",
       "      <td>0.0</td>\n",
       "      <td>0.0</td>\n",
       "      <td>0.0</td>\n",
       "      <td>0.0</td>\n",
       "      <td>0.0</td>\n",
       "    </tr>\n",
       "    <tr>\n",
       "      <th>4</th>\n",
       "      <td>-33.409034</td>\n",
       "      <td>-70.568615</td>\n",
       "      <td>0.000000</td>\n",
       "      <td>0.009174</td>\n",
       "      <td>0.062500</td>\n",
       "      <td>0.000000</td>\n",
       "      <td>0.040000</td>\n",
       "      <td>0.071016</td>\n",
       "      <td>0.048200</td>\n",
       "      <td>0.077922</td>\n",
       "      <td>...</td>\n",
       "      <td>0.0</td>\n",
       "      <td>0.0</td>\n",
       "      <td>0.0</td>\n",
       "      <td>0.0</td>\n",
       "      <td>0.0</td>\n",
       "      <td>0.0</td>\n",
       "      <td>0.0</td>\n",
       "      <td>0.0</td>\n",
       "      <td>0.0</td>\n",
       "      <td>0.0</td>\n",
       "    </tr>\n",
       "  </tbody>\n",
       "</table>\n",
       "<p>5 rows × 571 columns</p>\n",
       "</div>"
      ],
      "text/plain": [
       "         lat        lng      Park  Residential Building (Apartment / Condo)  \\\n",
       "0 -33.408821 -70.577133  0.036836                                  0.231205   \n",
       "1 -33.409034 -70.568615  0.000000                                  0.009174   \n",
       "2 -33.408806 -70.573571  0.000000                                  0.210924   \n",
       "3 -33.373390 -70.517697  0.000000                                  0.000000   \n",
       "4 -33.409034 -70.568615  0.000000                                  0.009174   \n",
       "\n",
       "   Boutique   Dog Run  Breakfast Spot    Office    Bakery  Dentist's Office  \\\n",
       "0  0.013514  0.086199        0.003030  0.152661  0.002994          0.039121   \n",
       "1  0.062500  0.000000        0.040000  0.071016  0.048200          0.077922   \n",
       "2  0.000000  0.000000        0.000000  0.265683  0.000000          0.000000   \n",
       "3  0.000000  0.000000        0.007874  0.058639  0.000000          0.000000   \n",
       "4  0.062500  0.000000        0.040000  0.071016  0.048200          0.077922   \n",
       "\n",
       "       ...        New American Restaurant  Apres Ski Bar  \\\n",
       "0      ...                            0.0            0.0   \n",
       "1      ...                            0.0            0.0   \n",
       "2      ...                            0.0            0.0   \n",
       "3      ...                            0.0            0.0   \n",
       "4      ...                            0.0            0.0   \n",
       "\n",
       "   Adult Education Center  Night Market  Pop-Up Shop  Cooking School  \\\n",
       "0                     0.0           0.0          0.0             0.0   \n",
       "1                     0.0           0.0          0.0             0.0   \n",
       "2                     0.0           0.0          0.0             0.0   \n",
       "3                     0.0           0.0          0.0             0.0   \n",
       "4                     0.0           0.0          0.0             0.0   \n",
       "\n",
       "   Sporting Event  Hospital Ward  Outdoor Sculpture  Souvenir Shop  \n",
       "0             0.0            0.0                0.0            0.0  \n",
       "1             0.0            0.0                0.0            0.0  \n",
       "2             0.0            0.0                0.0            0.0  \n",
       "3             0.0            0.0                0.0            0.0  \n",
       "4             0.0            0.0                0.0            0.0  \n",
       "\n",
       "[5 rows x 571 columns]"
      ]
     },
     "execution_count": 338,
     "metadata": {},
     "output_type": "execute_result"
    }
   ],
   "source": [
    "foursquare_df = pd.DataFrame.from_dict(dict_df)\n",
    "foursquare_df.head()"
   ]
  },
  {
   "cell_type": "code",
   "execution_count": 401,
   "metadata": {},
   "outputs": [],
   "source": [
    "# Save dataframe to csv to avoid waiting again\n",
    "foursquare_df.to_csv('foursquare_df.csv', index = False)"
   ]
  },
  {
   "cell_type": "code",
   "execution_count": 3,
   "metadata": {},
   "outputs": [],
   "source": [
    "import pandas as pd"
   ]
  },
  {
   "cell_type": "code",
   "execution_count": 257,
   "metadata": {},
   "outputs": [],
   "source": [
    "foursquare_df = pd.read_csv('foursquare_df.csv')"
   ]
  },
  {
   "cell_type": "markdown",
   "metadata": {},
   "source": [
    "### Cleaning Foursquare Data\n",
    "\n",
    "Now that we have and indicator of proximity and appearences of every category of venues to each property, we now have to choose which categories are the ones that are really the important ones. So, we are going to do some things that will be explained on the way.\n",
    "\n",
    "First, we will join all categories that are of the same king, for example restaurants"
   ]
  },
  {
   "cell_type": "code",
   "execution_count": 258,
   "metadata": {},
   "outputs": [
    {
     "name": "stdout",
     "output_type": "stream",
     "text": [
      "Restaurant categories:  82\n",
      "Bar categories:  18\n",
      "Store categories:  98\n",
      "Office categories:  8\n",
      "Coffee categories:  9\n",
      "Gym categories:  19\n",
      "School categories:  42\n",
      "Basic categories:  4\n",
      "Night categories:  5\n",
      "Park categories:  10\n",
      "Bus categories:  3\n",
      "Pharmacy categories:  2\n",
      "Medicine categories:  5\n",
      "Religion categories:  5\n",
      "Entertainment categories:  31\n",
      "Care categories:  5\n",
      "Outdoors categories:  2\n",
      "Books categories:  2\n"
     ]
    }
   ],
   "source": [
    "restaurant_categories = []\n",
    "bar_categories = []\n",
    "store_categories = []\n",
    "office_categories = []\n",
    "coffee_categories = []\n",
    "gym_categories = []\n",
    "school_categories = []\n",
    "basics_categories = []\n",
    "night_categories = []\n",
    "park_categories = []\n",
    "bus_categories = []\n",
    "pharmacy_categories = []\n",
    "medicine_categories = []\n",
    "religion_categories = []\n",
    "entertainment_categories = []\n",
    "care_categories = []\n",
    "outdoor_categories = []\n",
    "books_categories = []\n",
    "\n",
    "for column in foursquare_df.columns:\n",
    "    if 'Spa' == column or 'Salon' in column or 'Beauty' in column:\n",
    "        care_categories.append(column)\n",
    "    elif 'Store' in column and 'Grocery' not in column:\n",
    "        store_categories.append(column)\n",
    "    elif ('Restaurant' in column or 'Food' in column or 'Creperie' in column or 'Pizza' in column or 'Steakhouse' in column or ' Place' in column or 'Joint' in column or 'Buffet' in column or 'Bistro' == column or 'Diner' in column) and 'Places' not in column:\n",
    "        restaurant_categories.append(column)\n",
    "    elif ('Bar' in column or 'Pub' in column or 'Gastropub' in column or 'Beer Garden' in column) and 'Art' not in column:\n",
    "        bar_categories.append(column)\n",
    "    elif 'Office' in column:\n",
    "        office_categories.append(column)\n",
    "    elif 'Coffee' in column or 'Caf' in column:\n",
    "        coffee_categories.append(column)\n",
    "    elif 'Gym' in column or 'Sports' in column or 'Yoga' in column or 'Dance' in column or 'Dojo' in column or 'Pilates' in column or 'Rock Climbing' in column or 'Skating' in column or 'Bike Trail' in column or 'Tennis Court' in column:\n",
    "        gym_categories.append(column)\n",
    "    elif 'Shop' in column or 'Market' in column:\n",
    "        store_categories.append(column)\n",
    "    elif 'School' in column or 'College' in column or 'Education' in column or 'University' in column:\n",
    "        school_categories.append(column)\n",
    "    elif 'Grocery' in column or 'Bakery' in column or 'Butcher' in column:\n",
    "        basics_categories.append(column)\n",
    "    elif 'Night' in column or 'Strip' in column or 'Motel' in column:\n",
    "        night_categories.append(column)\n",
    "    elif 'Park' in column and 'ing' not in column or 'Plaza' in column or 'Garden' == column:\n",
    "        park_categories.append(column)\n",
    "    elif 'Bus ' in column:\n",
    "        bus_categories.append(column)\n",
    "    elif 'Drugstore' in column or 'Pharmacy' in column:\n",
    "        pharmacy_categories.append(column)\n",
    "    elif 'Medical Center' in column or 'Hospital' in column or 'Emergency' in column or 'Medical Lab' in column:\n",
    "        medicine_categories.append(column)\n",
    "    elif 'Temple' in column or 'Synagogue' in column or 'Church' in column or 'Mosque' in column:\n",
    "        religion_categories.append(column)\n",
    "    elif 'Entertainment' in column or 'Club' in column or 'Theater' in column or 'Museum' in column or 'Circus' in column or 'Pool' in column or 'Play' in column or 'Cultural' in column or 'Art' in column or 'Aquarium' in column or 'Paintball' in column or 'Bowling' in column:\n",
    "        entertainment_categories.append(column)\n",
    "    elif 'Outdoors' in column:\n",
    "        outdoor_categories.append(column)\n",
    "    elif 'Library' in column or 'Bookstore' in column:\n",
    "        books_categories.append(column)\n",
    "\n",
    "print('Restaurant categories: ', len(restaurant_categories))\n",
    "print('Bar categories: ', len(bar_categories))\n",
    "print('Store categories: ', len(store_categories))\n",
    "print('Office categories: ', len(office_categories))\n",
    "print('Coffee categories: ', len(coffee_categories))\n",
    "print('Gym categories: ', len(gym_categories))\n",
    "print('School categories: ', len(school_categories))\n",
    "print('Basic categories: ', len(basics_categories))\n",
    "print('Night categories: ', len(night_categories))\n",
    "print('Park categories: ', len(park_categories))\n",
    "print('Bus categories: ', len(bus_categories))\n",
    "print('Pharmacy categories: ', len(pharmacy_categories))\n",
    "print('Medicine categories: ', len(medicine_categories))\n",
    "print('Religion categories: ', len(religion_categories))\n",
    "print('Entertainment categories: ', len(entertainment_categories))\n",
    "print('Care categories: ', len(care_categories))\n",
    "print('Outdoors categories: ', len(outdoor_categories))\n",
    "print('Books categories: ', len(books_categories))"
   ]
  },
  {
   "cell_type": "markdown",
   "metadata": {},
   "source": [
    "We notice that many categories fall in the same big category.\n",
    "\n",
    "Now we will group these columns into one and then check how much properties fall in each of the categories"
   ]
  },
  {
   "cell_type": "code",
   "execution_count": 259,
   "metadata": {},
   "outputs": [
    {
     "name": "stdout",
     "output_type": "stream",
     "text": [
      "(6469, 490)\n"
     ]
    }
   ],
   "source": [
    "# Join restaurant columns and drop\n",
    "foursquare_df['Restaurant Category'] = foursquare_df[restaurant_categories].sum(axis=1)\n",
    "foursquare_df.drop(restaurant_categories, axis=1, inplace=True)\n",
    "print(foursquare_df.shape)"
   ]
  },
  {
   "cell_type": "code",
   "execution_count": 260,
   "metadata": {},
   "outputs": [
    {
     "name": "stdout",
     "output_type": "stream",
     "text": [
      "(6469, 473)\n"
     ]
    }
   ],
   "source": [
    "# Join bar columns and drop\n",
    "foursquare_df['Bar Category'] = foursquare_df[bar_categories].sum(axis=1)\n",
    "foursquare_df.drop(bar_categories, axis=1, inplace=True)\n",
    "print(foursquare_df.shape)"
   ]
  },
  {
   "cell_type": "code",
   "execution_count": 261,
   "metadata": {},
   "outputs": [
    {
     "name": "stdout",
     "output_type": "stream",
     "text": [
      "(6469, 376)\n"
     ]
    }
   ],
   "source": [
    "# Join store columns and drop\n",
    "foursquare_df['Store Category'] = foursquare_df[store_categories].sum(axis=1)\n",
    "foursquare_df.drop(store_categories, axis=1, inplace=True)\n",
    "print(foursquare_df.shape)"
   ]
  },
  {
   "cell_type": "code",
   "execution_count": 262,
   "metadata": {},
   "outputs": [
    {
     "name": "stdout",
     "output_type": "stream",
     "text": [
      "(6469, 369)\n"
     ]
    }
   ],
   "source": [
    "# Join office columns and drop\n",
    "foursquare_df['Office Category'] = foursquare_df[office_categories].sum(axis=1)\n",
    "foursquare_df.drop(office_categories, axis=1, inplace=True)\n",
    "print(foursquare_df.shape)"
   ]
  },
  {
   "cell_type": "code",
   "execution_count": 263,
   "metadata": {},
   "outputs": [
    {
     "name": "stdout",
     "output_type": "stream",
     "text": [
      "(6469, 361)\n"
     ]
    }
   ],
   "source": [
    "# Join Coffee columns and drop\n",
    "foursquare_df['Coffee Category'] = foursquare_df[coffee_categories].sum(axis=1)\n",
    "foursquare_df.drop(coffee_categories, axis=1, inplace=True)\n",
    "print(foursquare_df.shape)"
   ]
  },
  {
   "cell_type": "code",
   "execution_count": 264,
   "metadata": {},
   "outputs": [
    {
     "name": "stdout",
     "output_type": "stream",
     "text": [
      "(6469, 343)\n"
     ]
    }
   ],
   "source": [
    "# Join gym columns and drop\n",
    "foursquare_df['Sports Category'] = foursquare_df[gym_categories].sum(axis=1)\n",
    "foursquare_df.drop(gym_categories, axis=1, inplace=True)\n",
    "print(foursquare_df.shape)"
   ]
  },
  {
   "cell_type": "code",
   "execution_count": 265,
   "metadata": {},
   "outputs": [
    {
     "name": "stdout",
     "output_type": "stream",
     "text": [
      "(6469, 302)\n"
     ]
    }
   ],
   "source": [
    "# Join school columns and drop\n",
    "foursquare_df['School Category'] = foursquare_df[school_categories].sum(axis=1)\n",
    "foursquare_df.drop(school_categories, axis=1, inplace=True)\n",
    "print(foursquare_df.shape)"
   ]
  },
  {
   "cell_type": "code",
   "execution_count": 266,
   "metadata": {},
   "outputs": [
    {
     "name": "stdout",
     "output_type": "stream",
     "text": [
      "(6469, 299)\n"
     ]
    }
   ],
   "source": [
    "# Join basic columns and drop\n",
    "foursquare_df['Basic Needs Category'] = foursquare_df[basics_categories].sum(axis=1)\n",
    "foursquare_df.drop(basics_categories, axis=1, inplace=True)\n",
    "print(foursquare_df.shape)"
   ]
  },
  {
   "cell_type": "code",
   "execution_count": 267,
   "metadata": {},
   "outputs": [
    {
     "name": "stdout",
     "output_type": "stream",
     "text": [
      "(6469, 295)\n"
     ]
    }
   ],
   "source": [
    "# Join night columns and drop\n",
    "foursquare_df['Nightlife Category'] = foursquare_df[night_categories].sum(axis=1)\n",
    "foursquare_df.drop(night_categories, axis=1, inplace=True)\n",
    "print(foursquare_df.shape)"
   ]
  },
  {
   "cell_type": "code",
   "execution_count": 268,
   "metadata": {},
   "outputs": [
    {
     "name": "stdout",
     "output_type": "stream",
     "text": [
      "(6469, 286)\n"
     ]
    }
   ],
   "source": [
    "# Join park columns and drop\n",
    "foursquare_df['Park Category'] = foursquare_df[park_categories].sum(axis=1)\n",
    "foursquare_df.drop(park_categories, axis=1, inplace=True)\n",
    "print(foursquare_df.shape)"
   ]
  },
  {
   "cell_type": "code",
   "execution_count": 269,
   "metadata": {},
   "outputs": [
    {
     "name": "stdout",
     "output_type": "stream",
     "text": [
      "(6469, 284)\n"
     ]
    }
   ],
   "source": [
    "# Join bus columns and drop\n",
    "foursquare_df['Bus Category'] = foursquare_df[bus_categories].sum(axis=1)\n",
    "foursquare_df.drop(bus_categories, axis=1, inplace=True)\n",
    "print(foursquare_df.shape)"
   ]
  },
  {
   "cell_type": "code",
   "execution_count": 270,
   "metadata": {},
   "outputs": [
    {
     "name": "stdout",
     "output_type": "stream",
     "text": [
      "(6469, 283)\n"
     ]
    }
   ],
   "source": [
    "# Join pharmacy columns and drop\n",
    "foursquare_df['Pharmacy Category'] = foursquare_df[pharmacy_categories].sum(axis=1)\n",
    "foursquare_df.drop(pharmacy_categories, axis=1, inplace=True)\n",
    "print(foursquare_df.shape)"
   ]
  },
  {
   "cell_type": "code",
   "execution_count": 271,
   "metadata": {},
   "outputs": [
    {
     "name": "stdout",
     "output_type": "stream",
     "text": [
      "(6469, 279)\n"
     ]
    }
   ],
   "source": [
    "# Join medicine columns and drop\n",
    "foursquare_df['Medicine Category'] = foursquare_df[medicine_categories].sum(axis=1)\n",
    "foursquare_df.drop(medicine_categories, axis=1, inplace=True)\n",
    "print(foursquare_df.shape)"
   ]
  },
  {
   "cell_type": "code",
   "execution_count": 272,
   "metadata": {},
   "outputs": [
    {
     "name": "stdout",
     "output_type": "stream",
     "text": [
      "(6469, 275)\n"
     ]
    }
   ],
   "source": [
    "# Join religion columns and drop\n",
    "foursquare_df['Religion Category'] = foursquare_df[religion_categories].sum(axis=1)\n",
    "foursquare_df.drop(religion_categories, axis=1, inplace=True)\n",
    "print(foursquare_df.shape)"
   ]
  },
  {
   "cell_type": "code",
   "execution_count": 273,
   "metadata": {},
   "outputs": [
    {
     "name": "stdout",
     "output_type": "stream",
     "text": [
      "(6469, 245)\n"
     ]
    }
   ],
   "source": [
    "# Join entertainment columns and drop\n",
    "foursquare_df['Entertainment Category'] = foursquare_df[entertainment_categories].sum(axis=1)\n",
    "foursquare_df.drop(entertainment_categories, axis=1, inplace=True)\n",
    "print(foursquare_df.shape)"
   ]
  },
  {
   "cell_type": "code",
   "execution_count": 274,
   "metadata": {},
   "outputs": [
    {
     "name": "stdout",
     "output_type": "stream",
     "text": [
      "(6469, 241)\n"
     ]
    }
   ],
   "source": [
    "# Join entertainment columns and drop\n",
    "foursquare_df['Care Category'] = foursquare_df[care_categories].sum(axis=1)\n",
    "foursquare_df.drop(care_categories, axis=1, inplace=True)\n",
    "print(foursquare_df.shape)"
   ]
  },
  {
   "cell_type": "code",
   "execution_count": 275,
   "metadata": {},
   "outputs": [
    {
     "name": "stdout",
     "output_type": "stream",
     "text": [
      "(6469, 240)\n"
     ]
    }
   ],
   "source": [
    "# Join outdoors columns and drop\n",
    "foursquare_df['Outdoors Category'] = foursquare_df[outdoor_categories].sum(axis=1)\n",
    "foursquare_df.drop(outdoor_categories, axis=1, inplace=True)\n",
    "print(foursquare_df.shape)"
   ]
  },
  {
   "cell_type": "code",
   "execution_count": 276,
   "metadata": {},
   "outputs": [
    {
     "name": "stdout",
     "output_type": "stream",
     "text": [
      "(6469, 239)\n"
     ]
    }
   ],
   "source": [
    "# Join books columns and drop\n",
    "foursquare_df['Books Category'] = foursquare_df[books_categories].sum(axis=1)\n",
    "foursquare_df.drop(books_categories, axis=1, inplace=True)\n",
    "print(foursquare_df.shape)"
   ]
  },
  {
   "cell_type": "markdown",
   "metadata": {},
   "source": [
    "Now we have reduced the number of categories and joined them into bigger categories. We did this with all the relevant categories that foursquare returned."
   ]
  },
  {
   "cell_type": "code",
   "execution_count": 277,
   "metadata": {},
   "outputs": [],
   "source": [
    "# Get number of appearences for each category\n",
    "n_rows_per_category = []\n",
    "for column in foursquare_df.columns:\n",
    "    n_rows_per_category.append((column, foursquare_df[foursquare_df[column] > 0].shape[0]))"
   ]
  },
  {
   "cell_type": "code",
   "execution_count": 278,
   "metadata": {},
   "outputs": [],
   "source": [
    "# Sort by least appearences to most\n",
    "n_rows_per_category.sort(key=lambda tup: tup[1])"
   ]
  },
  {
   "cell_type": "code",
   "execution_count": 279,
   "metadata": {},
   "outputs": [],
   "source": [
    "# Drop categories with less than 500 appearances, misleading\n",
    "foursquare_df.drop([r[0] for r in n_rows_per_category if r[1] < 500 and r[0] not in ['lat', 'lng']], axis=1, inplace = True)"
   ]
  },
  {
   "cell_type": "code",
   "execution_count": 280,
   "metadata": {},
   "outputs": [
    {
     "data": {
      "text/plain": [
       "(6469, 67)"
      ]
     },
     "execution_count": 280,
     "metadata": {},
     "output_type": "execute_result"
    }
   ],
   "source": [
    "foursquare_df.shape"
   ]
  },
  {
   "cell_type": "code",
   "execution_count": 281,
   "metadata": {},
   "outputs": [
    {
     "name": "stdout",
     "output_type": "stream",
     "text": [
      "[('Casino', 506), ('Factory', 577), ('Business Service', 580), ('Bridge', 587), ('Spiritual Center', 600), ('Business Center', 631), ('Music Venue', 638), ('Military Base', 670), ('Soccer Field', 681), ('Supermarket', 696), ('Metro Station', 722), ('Veterinarian', 726), ('Taxi', 734), ('Lounge', 769), ('Historic Site', 795), ('Moving Target', 812), ('Dog Run', 843), ('Auditorium', 855), ('Auto Dealership', 900), ('Convention Center', 947), ('Embassy / Consulate', 956), ('Non-Profit', 963), ('Government Building', 1012), ('Meeting Room', 1085), ('Assisted Living', 1088), ('Conference Room', 1160), ('Hotel', 1291), ('Event Space', 1308), ('Deli / Bodega', 1346), ('Books Category', 1349), ('Student Center', 1394), ('Parking', 1429), ('General Travel', 1440), ('Breakfast Spot', 1478), ('Laundry Service', 1569), ('Speakeasy', 1603), ('Gas Station', 1745), ('Boutique', 1774), ('Advertising Agency', 1806), ('Religion Category', 1891), ('Design Studio', 1899), ('Housing Development', 2002), ('Nightlife Category', 2935), ('Bank', 2972), ('Pharmacy Category', 3105), ('Professional & Other Places', 3133), ('Tech Startup', 3305), ('Road', 3506), ('Outdoors Category', 3731), ('Basic Needs Category', 3859), ('Medicine Category', 4080), ('Bus Category', 4243), ('Bar Category', 4454), ('Park Category', 4477), ('Coworking Space', 4581), ('Coffee Category', 4725), ('School Category', 4896), ('Sports Category', 5085), ('Care Category', 5247), ('Entertainment Category', 5424), ('Building', 5915), ('Residential Building (Apartment / Condo)', 5983), ('Restaurant Category', 6034), ('Office Category', 6154), ('Store Category', 6231)]\n"
     ]
    }
   ],
   "source": [
    "print([r for r in n_rows_per_category if r[1] > 500 and r[0] not in ['lat', 'lng']])"
   ]
  },
  {
   "cell_type": "code",
   "execution_count": 282,
   "metadata": {},
   "outputs": [],
   "source": [
    "# Drop unknown or uninformative columns\n",
    "foursquare_df.drop(['Spiritual Center',\n",
    "                    'Business Center',\n",
    "                    'Gas Station',\n",
    "                    'Assisted Living',\n",
    "                    'Veterinarian',\n",
    "                    'Business Service',\n",
    "                    'Bridge',\n",
    "                    'Music Venue',\n",
    "                    'Military Base',\n",
    "                    'Taxi',\n",
    "                    'Lounge',\n",
    "                    'Moving Target',\n",
    "                    'Dog Run',\n",
    "                    'Convention Center',\n",
    "                    'Embassy / Consulate',\n",
    "                    'Government Building',\n",
    "                    'Meeting Room',\n",
    "                    'Conference Room',\n",
    "                    'Event Space',\n",
    "                    'Deli / Bodega',\n",
    "                    'Historic Site',\n",
    "                    'Auto Dealership',\n",
    "                    'Student Center',\n",
    "                    'General Travel',\n",
    "                    'Breakfast Spot',\n",
    "                    'Laundry Service',\n",
    "                    'Speakeasy',\n",
    "                    'Advertising Agency',\n",
    "                    'Design Studio',\n",
    "                    'Housing Development',\n",
    "                    'Professional & Other Places',\n",
    "                    'Tech Startup',\n",
    "                    'Road',\n",
    "                    'Building',\n",
    "                    'Residential Building (Apartment / Condo)',\n",
    "                    'Non-Profit',\n",
    "                    'Casino',\n",
    "                    'Factory',\n",
    "                    'Soccer Field',\n",
    "                    'Auditorium'], axis=1, inplace=True)"
   ]
  },
  {
   "cell_type": "markdown",
   "metadata": {},
   "source": [
    "### Data cleaned and ready to merge\n",
    "\n",
    "We have reduced the number of columns to 210, now we still have to select the best rows for the regression, so we will go on and join this table with the one of the properties and then try and calculate the correlation between these variables and the price to see which variables can help better predict the price of a property."
   ]
  },
  {
   "cell_type": "markdown",
   "metadata": {},
   "source": [
    "### Relevant columns selection\n",
    "\n",
    "Now that we have all our categories grouped in bigger categories we can make a statistical analisis to determine which of these categories are the ones that must be considered for our regression. For this we will start our analisis with a simple correlation of each column with the price column"
   ]
  },
  {
   "cell_type": "code",
   "execution_count": 283,
   "metadata": {
    "scrolled": true
   },
   "outputs": [
    {
     "data": {
      "text/plain": [
       "(6469, 28)"
      ]
     },
     "execution_count": 283,
     "metadata": {},
     "output_type": "execute_result"
    }
   ],
   "source": [
    "# Merge prices dataframe with foursquare_df\n",
    "merged_df = pd.merge(property_listing_df.round(3), foursquare_df.round(3).groupby(['lat', 'lng']).first(), how='left', on=['lat', 'lng'])\n",
    "merged_df.shape"
   ]
  },
  {
   "cell_type": "markdown",
   "metadata": {},
   "source": [
    "We can see that the shape is as we expected it to be..."
   ]
  },
  {
   "cell_type": "code",
   "execution_count": 284,
   "metadata": {},
   "outputs": [
    {
     "data": {
      "text/plain": [
       "Series([], dtype: float64)"
      ]
     },
     "execution_count": 284,
     "metadata": {},
     "output_type": "execute_result"
    }
   ],
   "source": [
    "# Check for no null values\n",
    "null_columns=merged_df.columns[merged_df.isnull().any()]\n",
    "merged_df[null_columns].isnull().sum()"
   ]
  },
  {
   "cell_type": "code",
   "execution_count": 285,
   "metadata": {},
   "outputs": [],
   "source": [
    "price_corr = abs(merged_df.corr(method='pearson')['sqm price'])"
   ]
  },
  {
   "cell_type": "markdown",
   "metadata": {},
   "source": [
    "We will be using all columns with absolute values above 0.01 of correlation to start. After this we will fit the data to a regression and see if the categories choosed are significant in our model."
   ]
  },
  {
   "cell_type": "code",
   "execution_count": 286,
   "metadata": {},
   "outputs": [],
   "source": [
    "columns_to_keep = [cat[0] for cat in price_corr.iteritems() if cat[1] >= 0.01 and cat[0] not in ['lat', 'lng', 'sqm price']]"
   ]
  },
  {
   "cell_type": "code",
   "execution_count": 287,
   "metadata": {},
   "outputs": [
    {
     "name": "stdout",
     "output_type": "stream",
     "text": [
      "17\n"
     ]
    }
   ],
   "source": [
    "# See how many columns left\n",
    "print(len(columns_to_keep))"
   ]
  },
  {
   "cell_type": "markdown",
   "metadata": {},
   "source": [
    "### Eliminate non significant categories with P-Values"
   ]
  },
  {
   "cell_type": "code",
   "execution_count": 288,
   "metadata": {},
   "outputs": [
    {
     "data": {
      "text/html": [
       "<div>\n",
       "<style scoped>\n",
       "    .dataframe tbody tr th:only-of-type {\n",
       "        vertical-align: middle;\n",
       "    }\n",
       "\n",
       "    .dataframe tbody tr th {\n",
       "        vertical-align: top;\n",
       "    }\n",
       "\n",
       "    .dataframe thead th {\n",
       "        text-align: right;\n",
       "    }\n",
       "</style>\n",
       "<table border=\"1\" class=\"dataframe\">\n",
       "  <thead>\n",
       "    <tr style=\"text-align: right;\">\n",
       "      <th></th>\n",
       "      <th>coef</th>\n",
       "      <th>std err</th>\n",
       "      <th>t</th>\n",
       "      <th>P&gt;|t|</th>\n",
       "      <th>[0.025</th>\n",
       "      <th>0.975]</th>\n",
       "    </tr>\n",
       "  </thead>\n",
       "  <tbody>\n",
       "    <tr>\n",
       "      <th>Boutique</th>\n",
       "      <td>8530000.0</td>\n",
       "      <td>1290000.0</td>\n",
       "      <td>6.630</td>\n",
       "      <td>0.000</td>\n",
       "      <td>6010000.0</td>\n",
       "      <td>11100000.0</td>\n",
       "    </tr>\n",
       "    <tr>\n",
       "      <th>Metro Station</th>\n",
       "      <td>-4297000.0</td>\n",
       "      <td>1490000.0</td>\n",
       "      <td>-2.880</td>\n",
       "      <td>0.004</td>\n",
       "      <td>-7220000.0</td>\n",
       "      <td>-1370000.0</td>\n",
       "    </tr>\n",
       "    <tr>\n",
       "      <th>Supermarket</th>\n",
       "      <td>13110000.0</td>\n",
       "      <td>4640000.0</td>\n",
       "      <td>2.826</td>\n",
       "      <td>0.005</td>\n",
       "      <td>4020000.0</td>\n",
       "      <td>22200000.0</td>\n",
       "    </tr>\n",
       "    <tr>\n",
       "      <th>Coworking Space</th>\n",
       "      <td>4389000.0</td>\n",
       "      <td>458000.0</td>\n",
       "      <td>9.573</td>\n",
       "      <td>0.000</td>\n",
       "      <td>3490000.0</td>\n",
       "      <td>5290000.0</td>\n",
       "    </tr>\n",
       "    <tr>\n",
       "      <th>Hotel</th>\n",
       "      <td>-2495000.0</td>\n",
       "      <td>352000.0</td>\n",
       "      <td>-7.086</td>\n",
       "      <td>0.000</td>\n",
       "      <td>-3180000.0</td>\n",
       "      <td>-1800000.0</td>\n",
       "    </tr>\n",
       "    <tr>\n",
       "      <th>Restaurant Category</th>\n",
       "      <td>3975000.0</td>\n",
       "      <td>230000.0</td>\n",
       "      <td>17.257</td>\n",
       "      <td>0.000</td>\n",
       "      <td>3520000.0</td>\n",
       "      <td>4430000.0</td>\n",
       "    </tr>\n",
       "    <tr>\n",
       "      <th>Bar Category</th>\n",
       "      <td>7893000.0</td>\n",
       "      <td>508000.0</td>\n",
       "      <td>15.526</td>\n",
       "      <td>0.000</td>\n",
       "      <td>6900000.0</td>\n",
       "      <td>8890000.0</td>\n",
       "    </tr>\n",
       "    <tr>\n",
       "      <th>Store Category</th>\n",
       "      <td>-67540.0</td>\n",
       "      <td>73300.0</td>\n",
       "      <td>-0.922</td>\n",
       "      <td>0.357</td>\n",
       "      <td>-211000.0</td>\n",
       "      <td>76100.0</td>\n",
       "    </tr>\n",
       "    <tr>\n",
       "      <th>Office Category</th>\n",
       "      <td>1208000.0</td>\n",
       "      <td>156000.0</td>\n",
       "      <td>7.742</td>\n",
       "      <td>0.000</td>\n",
       "      <td>902000.0</td>\n",
       "      <td>1510000.0</td>\n",
       "    </tr>\n",
       "    <tr>\n",
       "      <th>Coffee Category</th>\n",
       "      <td>522500.0</td>\n",
       "      <td>656000.0</td>\n",
       "      <td>0.797</td>\n",
       "      <td>0.426</td>\n",
       "      <td>-763000.0</td>\n",
       "      <td>1810000.0</td>\n",
       "    </tr>\n",
       "    <tr>\n",
       "      <th>Sports Category</th>\n",
       "      <td>11960000.0</td>\n",
       "      <td>618000.0</td>\n",
       "      <td>19.344</td>\n",
       "      <td>0.000</td>\n",
       "      <td>10700000.0</td>\n",
       "      <td>13200000.0</td>\n",
       "    </tr>\n",
       "    <tr>\n",
       "      <th>Basic Needs Category</th>\n",
       "      <td>2639000.0</td>\n",
       "      <td>387000.0</td>\n",
       "      <td>6.814</td>\n",
       "      <td>0.000</td>\n",
       "      <td>1880000.0</td>\n",
       "      <td>3400000.0</td>\n",
       "    </tr>\n",
       "    <tr>\n",
       "      <th>Park Category</th>\n",
       "      <td>19540000.0</td>\n",
       "      <td>776000.0</td>\n",
       "      <td>25.172</td>\n",
       "      <td>0.000</td>\n",
       "      <td>18000000.0</td>\n",
       "      <td>21100000.0</td>\n",
       "    </tr>\n",
       "    <tr>\n",
       "      <th>Pharmacy Category</th>\n",
       "      <td>3281000.0</td>\n",
       "      <td>630000.0</td>\n",
       "      <td>5.205</td>\n",
       "      <td>0.000</td>\n",
       "      <td>2050000.0</td>\n",
       "      <td>4520000.0</td>\n",
       "    </tr>\n",
       "    <tr>\n",
       "      <th>Medicine Category</th>\n",
       "      <td>4457000.0</td>\n",
       "      <td>432000.0</td>\n",
       "      <td>10.329</td>\n",
       "      <td>0.000</td>\n",
       "      <td>3610000.0</td>\n",
       "      <td>5300000.0</td>\n",
       "    </tr>\n",
       "    <tr>\n",
       "      <th>Outdoors Category</th>\n",
       "      <td>28050000.0</td>\n",
       "      <td>1270000.0</td>\n",
       "      <td>22.022</td>\n",
       "      <td>0.000</td>\n",
       "      <td>25600000.0</td>\n",
       "      <td>30500000.0</td>\n",
       "    </tr>\n",
       "    <tr>\n",
       "      <th>Books Category</th>\n",
       "      <td>4443000.0</td>\n",
       "      <td>1940000.0</td>\n",
       "      <td>2.296</td>\n",
       "      <td>0.022</td>\n",
       "      <td>649000.0</td>\n",
       "      <td>8240000.0</td>\n",
       "    </tr>\n",
       "  </tbody>\n",
       "</table>\n",
       "</div>"
      ],
      "text/plain": [
       "                            coef    std err       t  P>|t|      [0.025  \\\n",
       "Boutique               8530000.0  1290000.0   6.630  0.000   6010000.0   \n",
       "Metro Station         -4297000.0  1490000.0  -2.880  0.004  -7220000.0   \n",
       "Supermarket           13110000.0  4640000.0   2.826  0.005   4020000.0   \n",
       "Coworking Space        4389000.0   458000.0   9.573  0.000   3490000.0   \n",
       "Hotel                 -2495000.0   352000.0  -7.086  0.000  -3180000.0   \n",
       "Restaurant Category    3975000.0   230000.0  17.257  0.000   3520000.0   \n",
       "Bar Category           7893000.0   508000.0  15.526  0.000   6900000.0   \n",
       "Store Category          -67540.0    73300.0  -0.922  0.357   -211000.0   \n",
       "Office Category        1208000.0   156000.0   7.742  0.000    902000.0   \n",
       "Coffee Category         522500.0   656000.0   0.797  0.426   -763000.0   \n",
       "Sports Category       11960000.0   618000.0  19.344  0.000  10700000.0   \n",
       "Basic Needs Category   2639000.0   387000.0   6.814  0.000   1880000.0   \n",
       "Park Category         19540000.0   776000.0  25.172  0.000  18000000.0   \n",
       "Pharmacy Category      3281000.0   630000.0   5.205  0.000   2050000.0   \n",
       "Medicine Category      4457000.0   432000.0  10.329  0.000   3610000.0   \n",
       "Outdoors Category     28050000.0  1270000.0  22.022  0.000  25600000.0   \n",
       "Books Category         4443000.0  1940000.0   2.296  0.022    649000.0   \n",
       "\n",
       "                          0.975]  \n",
       "Boutique              11100000.0  \n",
       "Metro Station         -1370000.0  \n",
       "Supermarket           22200000.0  \n",
       "Coworking Space        5290000.0  \n",
       "Hotel                 -1800000.0  \n",
       "Restaurant Category    4430000.0  \n",
       "Bar Category           8890000.0  \n",
       "Store Category           76100.0  \n",
       "Office Category        1510000.0  \n",
       "Coffee Category        1810000.0  \n",
       "Sports Category       13200000.0  \n",
       "Basic Needs Category   3400000.0  \n",
       "Park Category         21100000.0  \n",
       "Pharmacy Category      4520000.0  \n",
       "Medicine Category      5300000.0  \n",
       "Outdoors Category     30500000.0  \n",
       "Books Category         8240000.0  "
      ]
     },
     "execution_count": 288,
     "metadata": {},
     "output_type": "execute_result"
    }
   ],
   "source": [
    "import statsmodels.api as sm\n",
    "\n",
    "X = merged_df[columns_to_keep]\n",
    "y = merged_df['sqm price']\n",
    "m = sm.OLS(y, X).fit()\n",
    "results_as_html = m.summary().tables[1].as_html()\n",
    "summary_df = pd.read_html(results_as_html, header=0, index_col=0)[0]\n",
    "summary_df"
   ]
  },
  {
   "cell_type": "code",
   "execution_count": 345,
   "metadata": {},
   "outputs": [
    {
     "name": "stdout",
     "output_type": "stream",
     "text": [
      "['Supermarket', 'Store Category', 'Coffee Category', 'Books Category']\n"
     ]
    }
   ],
   "source": [
    "insignificant_columns = [i for i, p in summary_df['P>|t|'].iteritems() if p >= 0.005]\n",
    "print(insignificant_columns)"
   ]
  },
  {
   "cell_type": "code",
   "execution_count": 346,
   "metadata": {},
   "outputs": [],
   "source": [
    "# Drop insignificant columns from df\n",
    "significant_df = merged_df[columns_to_keep + ['sqm price']].drop(insignificant_columns, axis=1)"
   ]
  },
  {
   "cell_type": "markdown",
   "metadata": {},
   "source": [
    "### Testing models"
   ]
  },
  {
   "cell_type": "code",
   "execution_count": 400,
   "metadata": {},
   "outputs": [
    {
     "name": "stdout",
     "output_type": "stream",
     "text": [
      "(6469, 13) (6469,)\n"
     ]
    }
   ],
   "source": [
    "# get data\n",
    "X = significant_df.drop(['sqm price'], axis = 1)\n",
    "y = significant_df['sqm price']\n",
    "\n",
    "# split data into train and test\n",
    "from sklearn.model_selection import train_test_split\n",
    "X_train, X_test, y_train, y_test = train_test_split(X, y, test_size=0.2)\n",
    "print(X.shape, y.shape)"
   ]
  },
  {
   "cell_type": "code",
   "execution_count": 401,
   "metadata": {},
   "outputs": [
    {
     "data": {
      "text/plain": [
       "LinearRegression(copy_X=True, fit_intercept=True, n_jobs=None, normalize=False)"
      ]
     },
     "execution_count": 401,
     "metadata": {},
     "output_type": "execute_result"
    }
   ],
   "source": [
    "# define model\n",
    "from sklearn.linear_model import LinearRegression\n",
    "lr = LinearRegression()\n",
    "lr.fit(X_train, y_train)"
   ]
  },
  {
   "cell_type": "code",
   "execution_count": 402,
   "metadata": {},
   "outputs": [
    {
     "name": "stdout",
     "output_type": "stream",
     "text": [
      "RMSE:  632252.7197448905\n",
      "R2:  0.04023947300282593\n"
     ]
    }
   ],
   "source": [
    "# test model\n",
    "from sklearn.metrics import mean_squared_error\n",
    "print('RMSE: ', mean_squared_error(y_test, lr.predict(X_test), squared = False))\n",
    "print('R2: ', lr.score(X_test, y_test))"
   ]
  },
  {
   "cell_type": "markdown",
   "metadata": {},
   "source": [
    "We have our model ready. It has a pretty poor value in predicting, but this is not the main goal of this excercise, as we know. We know that there are many factors not included here that will determine the price of an apartment, or in this case its price per sqm. These factor are number of bedrooms, bathrooms, orient, etc. But here we are using a regression to quantify how much a venue can affect in the price of an apartment, which we will calculate using the coefficients returned by the regression."
   ]
  },
  {
   "cell_type": "code",
   "execution_count": 403,
   "metadata": {},
   "outputs": [
    {
     "data": {
      "text/plain": [
       "LinearRegression(copy_X=True, fit_intercept=True, n_jobs=None, normalize=False)"
      ]
     },
     "execution_count": 403,
     "metadata": {},
     "output_type": "execute_result"
    }
   ],
   "source": [
    "lr.fit(X, y)"
   ]
  },
  {
   "cell_type": "code",
   "execution_count": 404,
   "metadata": {},
   "outputs": [],
   "source": [
    "# Get value for each category's effect on price\n",
    "from matplotlib import pyplot as plt\n",
    "sorted_categories_coefs = list(zip(lr.coef_, X.columns))\n",
    "sorted_categories_coefs.sort(key=lambda tup: tup[0])\n",
    "coefs = [i for i, j in sorted_categories_coefs]\n",
    "categories = [ j for i, j in sorted_categories_coefs ]"
   ]
  },
  {
   "cell_type": "code",
   "execution_count": 405,
   "metadata": {},
   "outputs": [
    {
     "data": {
      "text/plain": [
       "([<matplotlib.axis.XTick at 0x112d01048>,\n",
       "  <matplotlib.axis.XTick at 0x112690400>,\n",
       "  <matplotlib.axis.XTick at 0x112690550>],\n",
       " <a list of 3 Text xticklabel objects>)"
      ]
     },
     "execution_count": 405,
     "metadata": {},
     "output_type": "execute_result"
    },
    {
     "data": {
      "image/png": "[encoded data removed]",
      "text/plain": [
       "<Figure size 432x288 with 1 Axes>"
      ]
     },
     "metadata": {
      "needs_background": "light"
     },
     "output_type": "display_data"
    }
   ],
   "source": [
    "# 3 Most harmful venues to have nearby\n",
    "plt.bar(categories[0:3], coefs[0:3])\n",
    "plt.xticks(categories[0:3], categories[0:3], rotation='vertical')"
   ]
  },
  {
   "cell_type": "code",
   "execution_count": 406,
   "metadata": {},
   "outputs": [
    {
     "data": {
      "text/plain": [
       "([<matplotlib.axis.XTick at 0x111076198>,\n",
       "  <matplotlib.axis.XTick at 0x11107c940>,\n",
       "  <matplotlib.axis.XTick at 0x11107c668>],\n",
       " <a list of 3 Text xticklabel objects>)"
      ]
     },
     "execution_count": 406,
     "metadata": {},
     "output_type": "execute_result"
    },
    {
     "data": {
      "image/png": "[encoded data removed]",
      "text/plain": [
       "<Figure size 432x288 with 1 Axes>"
      ]
     },
     "metadata": {
      "needs_background": "light"
     },
     "output_type": "display_data"
    }
   ],
   "source": [
    "# 3 Best venues to have nearby\n",
    "plt.bar(categories[-4:-1], coefs[-4:-1])\n",
    "plt.xticks(categories[-4:-1], categories[-4:-1], rotation='vertical')"
   ]
  },
  {
   "cell_type": "markdown",
   "metadata": {},
   "source": [
    "## Results"
   ]
  },
  {
   "cell_type": "markdown",
   "metadata": {},
   "source": [
    "So, we have seen which venues are the ones that most affect the price of a property. We must take into account that this is for a specific area in the city of Santiago de Chile, and it is not a general rule for every place in the world or even in Santiago."
   ]
  },
  {
   "cell_type": "code",
   "execution_count": 412,
   "metadata": {},
   "outputs": [
    {
     "name": "stdout",
     "output_type": "stream",
     "text": [
      "Medicine Category:  ['Medical Center', 'Hospital', 'Medical Lab', 'Emergency Room', 'Hospital Ward']\n",
      "Outdoors Category:  ['Outdoors & Recreation', 'Other Great Outdoors']\n",
      "Pharmacy Category:  ['Pharmacy', 'Drugstore']\n"
     ]
    }
   ],
   "source": [
    "# Explain grouped categories\n",
    "print('Medicine Category: ', medicine_categories)\n",
    "print('Outdoors Category: ', outdoor_categories)\n",
    "print('Pharmacy Category: ', pharmacy_categories)"
   ]
  },
  {
   "cell_type": "markdown",
   "metadata": {},
   "source": [
    "### Results explained\n",
    "\n",
    "We have gotten to the final results that the venues that are most relevant on the price of an apartment are Outdoors, Pharmacy, Metro Station, Medicine, Boutique and Hotel. Where we have positive and negative influences...\n",
    "\n",
    "Positive:\n",
    "\n",
    "* Medicine Category: 803.000 coef\n",
    "* Boutique: 854.000 coef\n",
    "* Hotel: 867.500 coef\n",
    "\n",
    "Negative:\n",
    "\n",
    "* Outdoors Category: -3.572.500 coef\n",
    "* Pharmacy Category: -935.600 coef\n",
    "* Metro Station: -707.200 coef\n",
    "\n",
    "Now, what do these coefficients mean? Well, this is the amount that when divided to the distance of a venue from the evaluated property gice the difference in price that this venue on itself adds (or substracts).\n",
    "\n",
    "So, let's say that a Medical Center will be addded 350 metres away from property A. So the estimated difference in price for A will be of 803.000 / 350, which is 2295. Then, let's say that property A has 100 sqm, this would mean that the value of property A would have been increased in 2295 x 100, which is 2.295.000 (more or less 4000 dollars)."
   ]
  },
  {
   "cell_type": "markdown",
   "metadata": {},
   "source": [
    "### Making sense out of results\n",
    "\n",
    "So, as we saw before, we now know the categories that affect the most. Now we must try and validate this information with some logical reasoning.\n",
    "\n",
    "We will go one by one of each of the six categories mentioned before understanding why the values are correct.\n",
    "\n",
    "* **Medicine Center**: Well, obviously being close to a medical center is a plus, it is very common for people to feel safer if they know that some kind of help can be found nearby. So, it makes sense that if a medical center is close, the value of an apartment increases.\n",
    "\n",
    "\n",
    "\n",
    "* **Boutique**: This one is kind of tricky, because the presence of a boutique shop may also be a consequence of high class neighborhood. So, maybe a property does not change its value for the appearance of a boutique shop, but a neighborhood with boutique shops does have higher prices. This all driven by the fact that clients for boutique are high class people almost exclusively.\n",
    "\n",
    "\n",
    "* **Hotel**: The presence of a Hotel is probably a good reference that the neighborhood has lots of venues nearby. So The meaning for the Hotel to be a positive influence in price may well be because of the fact that the Hotel brings many venues along with it.\n",
    "\n",
    "\n",
    "* **Outdoors Category**: This one is pretty evident. If there are outdoors venues nearby that most likely means that there are not many other venues close. This is because in order to have an outdoor venue, there must be a big space (most likely), so if this is a place that is more in the outsides of the city, normally the prices for apartments drop.\n",
    "\n",
    "\n",
    "* **Pharmacy Categories**: This category I don't really know why it could be a negative influence in price, this must be a coincidence that is subject of the reduced area that was taken into account by the data.\n",
    "\n",
    "\n",
    "* **Metro Station**: Many would say (even I before this project) that having a metro station close by is a good thing for the price of an apartment. Well, this may be true in other places. But in the specific area of Santiago that was evaluated, the most valuable apartments are actually far away from metro stations, as the people that live there don't really use the public transportation system."
   ]
  },
  {
   "cell_type": "markdown",
   "metadata": {},
   "source": [
    "## Conclusion\n",
    "\n",
    "To conclude, I believe that this model could be much more useful if it had used data from all over the world and maybe standarized better the big categories which would be measured. For example by investigating which categories are commonly relevant on apartment pricing, not only for some places, but for any place in the world. This way, we could have a more general model and we would maybe be able to even predict with some accuracy the price of an apartment in a certain neighborhood.\n",
    "\n",
    "As a general result, I think that the results where good. Given that it was data from a place that I particularly know, I could give a reason to every coefficient calculated by the model. This is very helpful, as now we could probably submerge deeper into something like the just mentioned investigation."
   ]
  },
  {
   "cell_type": "code",
   "execution_count": null,
   "metadata": {},
   "outputs": [],
   "source": []
  }
 ],
 "metadata": {
  "kernelspec": {
   "display_name": "Python 3",
   "language": "python",
   "name": "python3"
  },
  "language_info": {
   "codemirror_mode": {
    "name": "ipython",
    "version": 3
   },
   "file_extension": ".py",
   "mimetype": "text/x-python",
   "name": "python",
   "nbconvert_exporter": "python",
   "pygments_lexer": "ipython3",
   "version": "3.7.1"
  }
 },
 "nbformat": 4,
 "nbformat_minor": 2
}
