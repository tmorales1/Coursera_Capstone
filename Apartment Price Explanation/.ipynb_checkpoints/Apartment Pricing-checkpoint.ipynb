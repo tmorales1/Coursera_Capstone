{
 "cells": [
  {
   "cell_type": "markdown",
   "metadata": {},
   "source": [
    "# Capstone Project - The Battle of the Neighborhoods (Week 2)\n",
    "### Applied Data Science Capstone by IBM/Coursera"
   ]
  },
  {
   "cell_type": "markdown",
   "metadata": {},
   "source": [
    "## Table of contents\n",
    "* [Data](#data)\n",
    "* [Analysis](#analysis)\n",
    "* [Results](#results)\n",
    "* [Conclusion](#conclusion)"
   ]
  },
  {
   "cell_type": "markdown",
   "metadata": {},
   "source": [
    "## Data <a name=\"data\"></a>"
   ]
  },
  {
   "cell_type": "markdown",
   "metadata": {},
   "source": [
    "For the problem in hand of defining which venues are the most convinient to have close to an apartment in terms of its price, we are going to be using the following data sets:\n",
    "\n",
    "*.csv* file with listed properties scrapped from (www.portalinmobiliario.cl):\n",
    "\n",
    "* **Tipo de Propiedad (string):** Wether the property is an apartment, storage, house, etc (all are apartments because of the downloaded info.)  \n",
    "* **Tipo de Publicacion (string):** What kind of listing it is, rent or sale (here all are sale)  \n",
    "* **Direccion (string):** Address of the listed property  \n",
    "* **Numero de Piezas (float):** Number of bedrooms in listed property  \n",
    "* **Numero de Banos(float):** Number of bathrooms in listed property  \n",
    "* **M2 Utiles (float):** Useful square meters of property  \n",
    "* **M2 Totales (float):** Total square meters of property  \n",
    "* **Precio en Pesos (float):** Price in CLP  \n",
    "* **Precio en UF (float):** Price in UF (unit that takes into account the devaluation of the CLP)  \n",
    "* **Fecha de Publicacion (string):** Date of listing  \n",
    "* **Fecha de Extraccion (string):** Date in which the information was extracted from the website  \n",
    "* **Lat (float):** Latitude coordinate of property  \n",
    "* **Lng (float):** Longitude coordinate of property  \n",
    "* **Estacionamiento Incluido (bool):** If the property has parking then True, if not False  \n",
    "* **Bodega (float):** Number of storage rooms offered with property    \n",
    "* **Condicion (string):** If the property is new or used  \n",
    "* **Codigo (int):** Unique code for every listing on website  \n",
    "* **Url:** URL from where the info was scrapped\n",
    "\n",
    "Regarding the Foursquare API, requests will be made in order to fill in the type of venues that each of these listed properties have around them. So, using the Foursquare's *search* endpoint with the *intent* parameter set to *browse*, all of the venues in the given radius will be retrieved.\n",
    "\n",
    "This will return the following response fields:  \n",
    "\n",
    "* **id:** A unique string identifier for this venue.  \n",
    "* **name:** The best known name for this venue.  \n",
    "* **location:** An object containing none, some, or all of address (street address), crossStreet, city, state, postalCode, country, lat, lng, and distance. All fields are strings, except for lat, lng, and distance. Distance is measured in meters. Some venues have their locations intentionally hidden for privacy reasons (such as private residences). If this is the case, the parameter isFuzzed will be set to true, and the lat/lng parameters will have reduced precision.  \n",
    "* **categories:** An array, possibly empty, of categories that have been applied to this venue. One of the categories will have a primary field indicating that it is the primary category for the venue. For the complete category tree, see categories.  "
   ]
  },
  {
   "cell_type": "markdown",
   "metadata": {},
   "source": [
    "### Data retrieval\n",
    "\n",
    "First of all, the data must be downloaded"
   ]
  },
  {
   "cell_type": "code",
   "execution_count": 78,
   "metadata": {},
   "outputs": [
    {
     "data": {
      "text/html": [
       "<div>\n",
       "<style scoped>\n",
       "    .dataframe tbody tr th:only-of-type {\n",
       "        vertical-align: middle;\n",
       "    }\n",
       "\n",
       "    .dataframe tbody tr th {\n",
       "        vertical-align: top;\n",
       "    }\n",
       "\n",
       "    .dataframe thead th {\n",
       "        text-align: right;\n",
       "    }\n",
       "</style>\n",
       "<table border=\"1\" class=\"dataframe\">\n",
       "  <thead>\n",
       "    <tr style=\"text-align: right;\">\n",
       "      <th></th>\n",
       "      <th>Tipo de Publicacion</th>\n",
       "      <th>Tipo de Propiedad</th>\n",
       "      <th>Direccion</th>\n",
       "      <th>Numero de Piezas</th>\n",
       "      <th>Numero de Banos</th>\n",
       "      <th>M2 Utiles</th>\n",
       "      <th>M2 Totales</th>\n",
       "      <th>Precio en Pesos</th>\n",
       "      <th>Precio en UF</th>\n",
       "      <th>Fecha de Publicacion</th>\n",
       "      <th>Fecha de Extraccion</th>\n",
       "      <th>Lat</th>\n",
       "      <th>Lng</th>\n",
       "      <th>Estacionamiento Incluido</th>\n",
       "      <th>Bodega</th>\n",
       "      <th>Condicion</th>\n",
       "      <th>Codigo</th>\n",
       "      <th>Url</th>\n",
       "    </tr>\n",
       "  </thead>\n",
       "  <tbody>\n",
       "    <tr>\n",
       "      <th>0</th>\n",
       "      <td>venta</td>\n",
       "      <td>departamento</td>\n",
       "      <td>3 Dormitorios, La Castellana ,precioso Las Con...</td>\n",
       "      <td>3.0</td>\n",
       "      <td>2.0</td>\n",
       "      <td>100.0</td>\n",
       "      <td>100.0</td>\n",
       "      <td>264821313.0</td>\n",
       "      <td>9300.0</td>\n",
       "      <td>2020-02-20</td>\n",
       "      <td>2020-03-02</td>\n",
       "      <td>-33.408821</td>\n",
       "      <td>-70.577133</td>\n",
       "      <td>True</td>\n",
       "      <td>1.0</td>\n",
       "      <td>Usado</td>\n",
       "      <td>5441296.0</td>\n",
       "      <td>https://www.portalinmobiliario.com/venta/depar...</td>\n",
       "    </tr>\n",
       "    <tr>\n",
       "      <th>1</th>\n",
       "      <td>venta</td>\n",
       "      <td>departamento</td>\n",
       "      <td>Metro Manquehue, Los Miitares, Rosario Norte, ...</td>\n",
       "      <td>4.0</td>\n",
       "      <td>3.0</td>\n",
       "      <td>125.0</td>\n",
       "      <td>140.0</td>\n",
       "      <td>330314756.0</td>\n",
       "      <td>11600.0</td>\n",
       "      <td>2020-02-10</td>\n",
       "      <td>2020-03-02</td>\n",
       "      <td>-33.409034</td>\n",
       "      <td>-70.568615</td>\n",
       "      <td>True</td>\n",
       "      <td>NaN</td>\n",
       "      <td>Usado</td>\n",
       "      <td>5417148.0</td>\n",
       "      <td>https://www.portalinmobiliario.com/venta/depar...</td>\n",
       "    </tr>\n",
       "    <tr>\n",
       "      <th>2</th>\n",
       "      <td>venta</td>\n",
       "      <td>departamento</td>\n",
       "      <td>Flor De Azucenas, Nueva Las Condes, Las Condes</td>\n",
       "      <td>4.0</td>\n",
       "      <td>4.0</td>\n",
       "      <td>145.0</td>\n",
       "      <td>153.0</td>\n",
       "      <td>347400002.0</td>\n",
       "      <td>12200.0</td>\n",
       "      <td>2020-02-13</td>\n",
       "      <td>2020-03-02</td>\n",
       "      <td>-33.408806</td>\n",
       "      <td>-70.573571</td>\n",
       "      <td>True</td>\n",
       "      <td>NaN</td>\n",
       "      <td>Usado</td>\n",
       "      <td>5325584.0</td>\n",
       "      <td>https://www.portalinmobiliario.com/venta/depar...</td>\n",
       "    </tr>\n",
       "    <tr>\n",
       "      <th>3</th>\n",
       "      <td>venta</td>\n",
       "      <td>departamento</td>\n",
       "      <td>Los Militares / Rosario Norte, Nueva Las Conde...</td>\n",
       "      <td>4.0</td>\n",
       "      <td>3.0</td>\n",
       "      <td>120.0</td>\n",
       "      <td>130.0</td>\n",
       "      <td>301554592.0</td>\n",
       "      <td>10590.0</td>\n",
       "      <td>2019-12-30</td>\n",
       "      <td>2020-03-02</td>\n",
       "      <td>-33.373390</td>\n",
       "      <td>-70.517697</td>\n",
       "      <td>True</td>\n",
       "      <td>NaN</td>\n",
       "      <td>Usado</td>\n",
       "      <td>5273643.0</td>\n",
       "      <td>https://www.portalinmobiliario.com/venta/depar...</td>\n",
       "    </tr>\n",
       "    <tr>\n",
       "      <th>4</th>\n",
       "      <td>venta</td>\n",
       "      <td>departamento</td>\n",
       "      <td>Metro Manquehue - Apoquindo / Flor De Az, Nuev...</td>\n",
       "      <td>3.0</td>\n",
       "      <td>2.0</td>\n",
       "      <td>77.0</td>\n",
       "      <td>99.0</td>\n",
       "      <td>213565575.0</td>\n",
       "      <td>7500.0</td>\n",
       "      <td>2020-02-13</td>\n",
       "      <td>2020-03-02</td>\n",
       "      <td>-33.409034</td>\n",
       "      <td>-70.568615</td>\n",
       "      <td>True</td>\n",
       "      <td>NaN</td>\n",
       "      <td>Usado</td>\n",
       "      <td>5220739.0</td>\n",
       "      <td>https://www.portalinmobiliario.com/venta/depar...</td>\n",
       "    </tr>\n",
       "  </tbody>\n",
       "</table>\n",
       "</div>"
      ],
      "text/plain": [
       "  Tipo de Publicacion Tipo de Propiedad  \\\n",
       "0               venta      departamento   \n",
       "1               venta      departamento   \n",
       "2               venta      departamento   \n",
       "3               venta      departamento   \n",
       "4               venta      departamento   \n",
       "\n",
       "                                           Direccion  Numero de Piezas  \\\n",
       "0  3 Dormitorios, La Castellana ,precioso Las Con...               3.0   \n",
       "1  Metro Manquehue, Los Miitares, Rosario Norte, ...               4.0   \n",
       "2     Flor De Azucenas, Nueva Las Condes, Las Condes               4.0   \n",
       "3  Los Militares / Rosario Norte, Nueva Las Conde...               4.0   \n",
       "4  Metro Manquehue - Apoquindo / Flor De Az, Nuev...               3.0   \n",
       "\n",
       "   Numero de Banos  M2 Utiles  M2 Totales  Precio en Pesos  Precio en UF  \\\n",
       "0              2.0      100.0       100.0      264821313.0        9300.0   \n",
       "1              3.0      125.0       140.0      330314756.0       11600.0   \n",
       "2              4.0      145.0       153.0      347400002.0       12200.0   \n",
       "3              3.0      120.0       130.0      301554592.0       10590.0   \n",
       "4              2.0       77.0        99.0      213565575.0        7500.0   \n",
       "\n",
       "  Fecha de Publicacion Fecha de Extraccion        Lat        Lng  \\\n",
       "0           2020-02-20          2020-03-02 -33.408821 -70.577133   \n",
       "1           2020-02-10          2020-03-02 -33.409034 -70.568615   \n",
       "2           2020-02-13          2020-03-02 -33.408806 -70.573571   \n",
       "3           2019-12-30          2020-03-02 -33.373390 -70.517697   \n",
       "4           2020-02-13          2020-03-02 -33.409034 -70.568615   \n",
       "\n",
       "   Estacionamiento Incluido  Bodega Condicion     Codigo  \\\n",
       "0                      True     1.0     Usado  5441296.0   \n",
       "1                      True     NaN     Usado  5417148.0   \n",
       "2                      True     NaN     Usado  5325584.0   \n",
       "3                      True     NaN     Usado  5273643.0   \n",
       "4                      True     NaN     Usado  5220739.0   \n",
       "\n",
       "                                                 Url  \n",
       "0  https://www.portalinmobiliario.com/venta/depar...  \n",
       "1  https://www.portalinmobiliario.com/venta/depar...  \n",
       "2  https://www.portalinmobiliario.com/venta/depar...  \n",
       "3  https://www.portalinmobiliario.com/venta/depar...  \n",
       "4  https://www.portalinmobiliario.com/venta/depar...  "
      ]
     },
     "execution_count": 78,
     "metadata": {},
     "output_type": "execute_result"
    }
   ],
   "source": [
    "import pandas as pd\n",
    "\n",
    "# Read file into pandas dataframe\n",
    "property_listing_df = pd.read_csv('property_listing.xlsx.csv')\n",
    "property_listing_df.head()"
   ]
  },
  {
   "cell_type": "markdown",
   "metadata": {},
   "source": [
    "### Data cleaning\n",
    "\n",
    "We will only be using four of these fields. We will need latitude and longitude to then retrieve venues nearby each of these properties from foursquare. As well as price in CLP and total square meters to get a price per square meter for each property. So next steps are to **eliminate columns not used** and **transform columns** to values that will suit the problem."
   ]
  },
  {
   "cell_type": "code",
   "execution_count": 79,
   "metadata": {},
   "outputs": [],
   "source": [
    "# Drop columns that will not be used\n",
    "# Keep column codigo to make sure no repeated properties in data set\n",
    "property_listing_df.drop(\n",
    "    ['Tipo de Publicacion',\n",
    "     'Tipo de Propiedad',\n",
    "     'Direccion',\n",
    "     'Numero de Piezas',\n",
    "     'Numero de Banos',\n",
    "     'M2 Totales',\n",
    "     'Precio en UF',\n",
    "     'Fecha de Publicacion',\n",
    "     'Fecha de Extraccion',\n",
    "     'Estacionamiento Incluido',\n",
    "     'Bodega',\n",
    "     'Condicion',\n",
    "     'Url'\n",
    "    ], axis=1, inplace=True)"
   ]
  },
  {
   "cell_type": "code",
   "execution_count": 80,
   "metadata": {},
   "outputs": [
    {
     "data": {
      "text/html": [
       "<div>\n",
       "<style scoped>\n",
       "    .dataframe tbody tr th:only-of-type {\n",
       "        vertical-align: middle;\n",
       "    }\n",
       "\n",
       "    .dataframe tbody tr th {\n",
       "        vertical-align: top;\n",
       "    }\n",
       "\n",
       "    .dataframe thead th {\n",
       "        text-align: right;\n",
       "    }\n",
       "</style>\n",
       "<table border=\"1\" class=\"dataframe\">\n",
       "  <thead>\n",
       "    <tr style=\"text-align: right;\">\n",
       "      <th></th>\n",
       "      <th>M2 Utiles</th>\n",
       "      <th>Precio en Pesos</th>\n",
       "      <th>Lat</th>\n",
       "      <th>Lng</th>\n",
       "      <th>Codigo</th>\n",
       "    </tr>\n",
       "  </thead>\n",
       "  <tbody>\n",
       "    <tr>\n",
       "      <th>0</th>\n",
       "      <td>100.0</td>\n",
       "      <td>264821313.0</td>\n",
       "      <td>-33.408821</td>\n",
       "      <td>-70.577133</td>\n",
       "      <td>5441296.0</td>\n",
       "    </tr>\n",
       "    <tr>\n",
       "      <th>1</th>\n",
       "      <td>125.0</td>\n",
       "      <td>330314756.0</td>\n",
       "      <td>-33.409034</td>\n",
       "      <td>-70.568615</td>\n",
       "      <td>5417148.0</td>\n",
       "    </tr>\n",
       "    <tr>\n",
       "      <th>2</th>\n",
       "      <td>145.0</td>\n",
       "      <td>347400002.0</td>\n",
       "      <td>-33.408806</td>\n",
       "      <td>-70.573571</td>\n",
       "      <td>5325584.0</td>\n",
       "    </tr>\n",
       "    <tr>\n",
       "      <th>3</th>\n",
       "      <td>120.0</td>\n",
       "      <td>301554592.0</td>\n",
       "      <td>-33.373390</td>\n",
       "      <td>-70.517697</td>\n",
       "      <td>5273643.0</td>\n",
       "    </tr>\n",
       "    <tr>\n",
       "      <th>4</th>\n",
       "      <td>77.0</td>\n",
       "      <td>213565575.0</td>\n",
       "      <td>-33.409034</td>\n",
       "      <td>-70.568615</td>\n",
       "      <td>5220739.0</td>\n",
       "    </tr>\n",
       "  </tbody>\n",
       "</table>\n",
       "</div>"
      ],
      "text/plain": [
       "   M2 Utiles  Precio en Pesos        Lat        Lng     Codigo\n",
       "0      100.0      264821313.0 -33.408821 -70.577133  5441296.0\n",
       "1      125.0      330314756.0 -33.409034 -70.568615  5417148.0\n",
       "2      145.0      347400002.0 -33.408806 -70.573571  5325584.0\n",
       "3      120.0      301554592.0 -33.373390 -70.517697  5273643.0\n",
       "4       77.0      213565575.0 -33.409034 -70.568615  5220739.0"
      ]
     },
     "execution_count": 80,
     "metadata": {},
     "output_type": "execute_result"
    }
   ],
   "source": [
    "property_listing_df.head()"
   ]
  },
  {
   "cell_type": "code",
   "execution_count": 81,
   "metadata": {},
   "outputs": [
    {
     "name": "stdout",
     "output_type": "stream",
     "text": [
      "(434, 5)\n",
      "(7435, 5)\n"
     ]
    }
   ],
   "source": [
    "print(property_listing_df[property_listing_df.duplicated(['Codigo'])].shape)\n",
    "print(property_listing_df.shape)"
   ]
  },
  {
   "cell_type": "code",
   "execution_count": 82,
   "metadata": {},
   "outputs": [],
   "source": [
    "# Delete duplicates (most of them are NaN)\n",
    "property_listing_df.drop_duplicates(['Codigo'], inplace=True)"
   ]
  },
  {
   "cell_type": "code",
   "execution_count": 83,
   "metadata": {},
   "outputs": [
    {
     "data": {
      "text/plain": [
       "(7001, 5)"
      ]
     },
     "execution_count": 83,
     "metadata": {},
     "output_type": "execute_result"
    }
   ],
   "source": [
    "# Check if shape corresponds to (7401, 5)\n",
    "property_listing_df.shape"
   ]
  },
  {
   "cell_type": "code",
   "execution_count": 84,
   "metadata": {},
   "outputs": [
    {
     "data": {
      "text/plain": [
       "(6955, 5)"
      ]
     },
     "execution_count": 84,
     "metadata": {},
     "output_type": "execute_result"
    }
   ],
   "source": [
    "# Drop Nan Values\n",
    "property_listing_df.dropna(inplace=True)\n",
    "property_listing_df.shape"
   ]
  },
  {
   "cell_type": "markdown",
   "metadata": {},
   "source": [
    "We can see that only 6 rows had null values"
   ]
  },
  {
   "cell_type": "code",
   "execution_count": 85,
   "metadata": {},
   "outputs": [
    {
     "data": {
      "text/html": [
       "<div>\n",
       "<style scoped>\n",
       "    .dataframe tbody tr th:only-of-type {\n",
       "        vertical-align: middle;\n",
       "    }\n",
       "\n",
       "    .dataframe tbody tr th {\n",
       "        vertical-align: top;\n",
       "    }\n",
       "\n",
       "    .dataframe thead th {\n",
       "        text-align: right;\n",
       "    }\n",
       "</style>\n",
       "<table border=\"1\" class=\"dataframe\">\n",
       "  <thead>\n",
       "    <tr style=\"text-align: right;\">\n",
       "      <th></th>\n",
       "      <th>M2 Utiles</th>\n",
       "      <th>Precio en Pesos</th>\n",
       "      <th>Lat</th>\n",
       "      <th>Lng</th>\n",
       "    </tr>\n",
       "  </thead>\n",
       "  <tbody>\n",
       "    <tr>\n",
       "      <th>0</th>\n",
       "      <td>100.0</td>\n",
       "      <td>264821313.0</td>\n",
       "      <td>-33.408821</td>\n",
       "      <td>-70.577133</td>\n",
       "    </tr>\n",
       "    <tr>\n",
       "      <th>1</th>\n",
       "      <td>125.0</td>\n",
       "      <td>330314756.0</td>\n",
       "      <td>-33.409034</td>\n",
       "      <td>-70.568615</td>\n",
       "    </tr>\n",
       "    <tr>\n",
       "      <th>2</th>\n",
       "      <td>145.0</td>\n",
       "      <td>347400002.0</td>\n",
       "      <td>-33.408806</td>\n",
       "      <td>-70.573571</td>\n",
       "    </tr>\n",
       "    <tr>\n",
       "      <th>3</th>\n",
       "      <td>120.0</td>\n",
       "      <td>301554592.0</td>\n",
       "      <td>-33.373390</td>\n",
       "      <td>-70.517697</td>\n",
       "    </tr>\n",
       "    <tr>\n",
       "      <th>4</th>\n",
       "      <td>77.0</td>\n",
       "      <td>213565575.0</td>\n",
       "      <td>-33.409034</td>\n",
       "      <td>-70.568615</td>\n",
       "    </tr>\n",
       "  </tbody>\n",
       "</table>\n",
       "</div>"
      ],
      "text/plain": [
       "   M2 Utiles  Precio en Pesos        Lat        Lng\n",
       "0      100.0      264821313.0 -33.408821 -70.577133\n",
       "1      125.0      330314756.0 -33.409034 -70.568615\n",
       "2      145.0      347400002.0 -33.408806 -70.573571\n",
       "3      120.0      301554592.0 -33.373390 -70.517697\n",
       "4       77.0      213565575.0 -33.409034 -70.568615"
      ]
     },
     "execution_count": 85,
     "metadata": {},
     "output_type": "execute_result"
    }
   ],
   "source": [
    "# Drop code column and none values\n",
    "property_listing_df.drop(['Codigo'], axis=1, inplace=True)\n",
    "property_listing_df.head()"
   ]
  },
  {
   "cell_type": "markdown",
   "metadata": {},
   "source": [
    "### Check Data Set\n",
    "\n",
    "Now that we hace already got the information we want without duplicates, we can proceed to check the data to see if it is a good set of data and wether or not it has some outliers or misleading information."
   ]
  },
  {
   "cell_type": "code",
   "execution_count": 86,
   "metadata": {},
   "outputs": [
    {
     "data": {
      "text/html": [
       "<div>\n",
       "<style scoped>\n",
       "    .dataframe tbody tr th:only-of-type {\n",
       "        vertical-align: middle;\n",
       "    }\n",
       "\n",
       "    .dataframe tbody tr th {\n",
       "        vertical-align: top;\n",
       "    }\n",
       "\n",
       "    .dataframe thead th {\n",
       "        text-align: right;\n",
       "    }\n",
       "</style>\n",
       "<table border=\"1\" class=\"dataframe\">\n",
       "  <thead>\n",
       "    <tr style=\"text-align: right;\">\n",
       "      <th></th>\n",
       "      <th>M2 Utiles</th>\n",
       "      <th>Precio en Pesos</th>\n",
       "      <th>Lat</th>\n",
       "      <th>Lng</th>\n",
       "    </tr>\n",
       "  </thead>\n",
       "  <tbody>\n",
       "    <tr>\n",
       "      <th>count</th>\n",
       "      <td>6955.000000</td>\n",
       "      <td>6.955000e+03</td>\n",
       "      <td>6955.000000</td>\n",
       "      <td>6955.000000</td>\n",
       "    </tr>\n",
       "    <tr>\n",
       "      <th>mean</th>\n",
       "      <td>142.795905</td>\n",
       "      <td>3.553965e+08</td>\n",
       "      <td>-33.368891</td>\n",
       "      <td>-70.582940</td>\n",
       "    </tr>\n",
       "    <tr>\n",
       "      <th>std</th>\n",
       "      <td>158.730331</td>\n",
       "      <td>2.318569e+08</td>\n",
       "      <td>1.367866</td>\n",
       "      <td>1.267918</td>\n",
       "    </tr>\n",
       "    <tr>\n",
       "      <th>min</th>\n",
       "      <td>0.000000</td>\n",
       "      <td>1.050000e+04</td>\n",
       "      <td>-41.148853</td>\n",
       "      <td>-73.267975</td>\n",
       "    </tr>\n",
       "    <tr>\n",
       "      <th>25%</th>\n",
       "      <td>86.000000</td>\n",
       "      <td>2.137419e+08</td>\n",
       "      <td>-33.417183</td>\n",
       "      <td>-70.586669</td>\n",
       "    </tr>\n",
       "    <tr>\n",
       "      <th>50%</th>\n",
       "      <td>128.000000</td>\n",
       "      <td>2.992387e+08</td>\n",
       "      <td>-33.410683</td>\n",
       "      <td>-70.568615</td>\n",
       "    </tr>\n",
       "    <tr>\n",
       "      <th>75%</th>\n",
       "      <td>160.000000</td>\n",
       "      <td>3.989849e+08</td>\n",
       "      <td>-33.397185</td>\n",
       "      <td>-70.553902</td>\n",
       "    </tr>\n",
       "    <tr>\n",
       "      <th>max</th>\n",
       "      <td>10370.000000</td>\n",
       "      <td>3.422428e+09</td>\n",
       "      <td>45.052621</td>\n",
       "      <td>9.692984</td>\n",
       "    </tr>\n",
       "  </tbody>\n",
       "</table>\n",
       "</div>"
      ],
      "text/plain": [
       "          M2 Utiles  Precio en Pesos          Lat          Lng\n",
       "count   6955.000000     6.955000e+03  6955.000000  6955.000000\n",
       "mean     142.795905     3.553965e+08   -33.368891   -70.582940\n",
       "std      158.730331     2.318569e+08     1.367866     1.267918\n",
       "min        0.000000     1.050000e+04   -41.148853   -73.267975\n",
       "25%       86.000000     2.137419e+08   -33.417183   -70.586669\n",
       "50%      128.000000     2.992387e+08   -33.410683   -70.568615\n",
       "75%      160.000000     3.989849e+08   -33.397185   -70.553902\n",
       "max    10370.000000     3.422428e+09    45.052621     9.692984"
      ]
     },
     "execution_count": 86,
     "metadata": {},
     "output_type": "execute_result"
    }
   ],
   "source": [
    "property_listing_df.describe()"
   ]
  },
  {
   "cell_type": "markdown",
   "metadata": {},
   "source": [
    "With just this line of code, we can observe that some values for useful square meters are way too high (10km) and some way too low (0m). In the price column, we can observe that there is a huge std, which is not a very good sign. Latitude and longitude values also are wrong for some values, as latitude 45 or longitude 9.6 are clearly not in Chile even. So we will have to clean this data."
   ]
  },
  {
   "cell_type": "code",
   "execution_count": 87,
   "metadata": {},
   "outputs": [],
   "source": [
    "# First, change names of column to make them easier\n",
    "property_listing_df.rename(columns={'M2 Utiles': 'sqm', 'Precio en Pesos': 'price', 'Lat': 'lat', 'Lng': 'lng'}, inplace=True)"
   ]
  },
  {
   "cell_type": "code",
   "execution_count": 88,
   "metadata": {},
   "outputs": [],
   "source": [
    "# Keep only apartments with more than 20 square meters (reasonable)\n",
    "property_listing_df = property_listing_df[property_listing_df['sqm'] > 20]\n",
    "\n",
    "# Keep only apartments with maximum 1500 sqm (reasonable)\n",
    "property_listing_df = property_listing_df[property_listing_df['sqm'] <= 1500]\n",
    "\n",
    "# Keep only price values lower than 1,000,000,000 (reasonable)\n",
    "property_listing_df = property_listing_df[property_listing_df['price'] <= 1000000000]\n",
    "\n",
    "# Keep only price values higher than 20,000,000 (reasonable)\n",
    "property_listing_df = property_listing_df[property_listing_df['price'] >= 20000000]\n",
    "\n",
    "# Keep only lat values between -33.5 and -33.3 (Values for Las Condes, Santiago, Chile)\n",
    "property_listing_df = property_listing_df[(property_listing_df['lat'] >= -33.5) & (property_listing_df['lat'] <= -33.3)]\n",
    "\n",
    "# Keep only lng values between -70.7 and -70.4 (Values for Las Condes, Santiago, Chile)\n",
    "property_listing_df = property_listing_df[(property_listing_df['lng'] >= -70.7) & (property_listing_df['lng'] <= -70.4)]"
   ]
  },
  {
   "cell_type": "code",
   "execution_count": 89,
   "metadata": {},
   "outputs": [
    {
     "data": {
      "text/html": [
       "<div>\n",
       "<style scoped>\n",
       "    .dataframe tbody tr th:only-of-type {\n",
       "        vertical-align: middle;\n",
       "    }\n",
       "\n",
       "    .dataframe tbody tr th {\n",
       "        vertical-align: top;\n",
       "    }\n",
       "\n",
       "    .dataframe thead th {\n",
       "        text-align: right;\n",
       "    }\n",
       "</style>\n",
       "<table border=\"1\" class=\"dataframe\">\n",
       "  <thead>\n",
       "    <tr style=\"text-align: right;\">\n",
       "      <th></th>\n",
       "      <th>sqm</th>\n",
       "      <th>price</th>\n",
       "      <th>lat</th>\n",
       "      <th>lng</th>\n",
       "    </tr>\n",
       "  </thead>\n",
       "  <tbody>\n",
       "    <tr>\n",
       "      <th>count</th>\n",
       "      <td>6469.000000</td>\n",
       "      <td>6.469000e+03</td>\n",
       "      <td>6469.000000</td>\n",
       "      <td>6469.000000</td>\n",
       "    </tr>\n",
       "    <tr>\n",
       "      <th>mean</th>\n",
       "      <td>133.561210</td>\n",
       "      <td>3.334613e+08</td>\n",
       "      <td>-33.407805</td>\n",
       "      <td>-70.564100</td>\n",
       "    </tr>\n",
       "    <tr>\n",
       "      <th>std</th>\n",
       "      <td>72.069537</td>\n",
       "      <td>1.691197e+08</td>\n",
       "      <td>0.014709</td>\n",
       "      <td>0.027521</td>\n",
       "    </tr>\n",
       "    <tr>\n",
       "      <th>min</th>\n",
       "      <td>25.000000</td>\n",
       "      <td>2.137419e+07</td>\n",
       "      <td>-33.489700</td>\n",
       "      <td>-70.677969</td>\n",
       "    </tr>\n",
       "    <tr>\n",
       "      <th>25%</th>\n",
       "      <td>83.000000</td>\n",
       "      <td>2.137419e+08</td>\n",
       "      <td>-33.417400</td>\n",
       "      <td>-70.584541</td>\n",
       "    </tr>\n",
       "    <tr>\n",
       "      <th>50%</th>\n",
       "      <td>124.000000</td>\n",
       "      <td>2.992387e+08</td>\n",
       "      <td>-33.411545</td>\n",
       "      <td>-70.568615</td>\n",
       "    </tr>\n",
       "    <tr>\n",
       "      <th>75%</th>\n",
       "      <td>151.000000</td>\n",
       "      <td>3.933662e+08</td>\n",
       "      <td>-33.400330</td>\n",
       "      <td>-70.554484</td>\n",
       "    </tr>\n",
       "    <tr>\n",
       "      <th>max</th>\n",
       "      <td>680.000000</td>\n",
       "      <td>9.983368e+08</td>\n",
       "      <td>-33.318218</td>\n",
       "      <td>-70.493782</td>\n",
       "    </tr>\n",
       "  </tbody>\n",
       "</table>\n",
       "</div>"
      ],
      "text/plain": [
       "               sqm         price          lat          lng\n",
       "count  6469.000000  6.469000e+03  6469.000000  6469.000000\n",
       "mean    133.561210  3.334613e+08   -33.407805   -70.564100\n",
       "std      72.069537  1.691197e+08     0.014709     0.027521\n",
       "min      25.000000  2.137419e+07   -33.489700   -70.677969\n",
       "25%      83.000000  2.137419e+08   -33.417400   -70.584541\n",
       "50%     124.000000  2.992387e+08   -33.411545   -70.568615\n",
       "75%     151.000000  3.933662e+08   -33.400330   -70.554484\n",
       "max     680.000000  9.983368e+08   -33.318218   -70.493782"
      ]
     },
     "execution_count": 89,
     "metadata": {},
     "output_type": "execute_result"
    }
   ],
   "source": [
    "property_listing_df.describe()"
   ]
  },
  {
   "cell_type": "markdown",
   "metadata": {},
   "source": [
    "### Comments on data\n",
    "\n",
    "So we have cleaned our data set from outliers and now we have realistic values. To summarize changes we have the differences seen in the describe() functions:\n",
    "\n",
    "* **sqm:** std from 159 to 72  \n",
    "* **price:** std from 2.3e+08 to 1.7e+08  \n",
    "* **lat:** std from 1.37 to 0.015\n",
    "* **lng:** std from 1.27 to 0.028\n",
    "\n",
    "So with this we can see that now our dataset seems to be of real data and not typing errors or other types of misleading information. In total we deleted **414** rows of misleading data.\n",
    "\n",
    "Now we can convert price and sql to price/sqm column"
   ]
  },
  {
   "cell_type": "code",
   "execution_count": 90,
   "metadata": {},
   "outputs": [
    {
     "data": {
      "text/html": [
       "<div>\n",
       "<style scoped>\n",
       "    .dataframe tbody tr th:only-of-type {\n",
       "        vertical-align: middle;\n",
       "    }\n",
       "\n",
       "    .dataframe tbody tr th {\n",
       "        vertical-align: top;\n",
       "    }\n",
       "\n",
       "    .dataframe thead th {\n",
       "        text-align: right;\n",
       "    }\n",
       "</style>\n",
       "<table border=\"1\" class=\"dataframe\">\n",
       "  <thead>\n",
       "    <tr style=\"text-align: right;\">\n",
       "      <th></th>\n",
       "      <th>sqm</th>\n",
       "      <th>price</th>\n",
       "      <th>lat</th>\n",
       "      <th>lng</th>\n",
       "      <th>sqm price</th>\n",
       "    </tr>\n",
       "  </thead>\n",
       "  <tbody>\n",
       "    <tr>\n",
       "      <th>0</th>\n",
       "      <td>100.0</td>\n",
       "      <td>264821313.0</td>\n",
       "      <td>-33.408821</td>\n",
       "      <td>-70.577133</td>\n",
       "      <td>2.648213e+06</td>\n",
       "    </tr>\n",
       "    <tr>\n",
       "      <th>1</th>\n",
       "      <td>125.0</td>\n",
       "      <td>330314756.0</td>\n",
       "      <td>-33.409034</td>\n",
       "      <td>-70.568615</td>\n",
       "      <td>2.642518e+06</td>\n",
       "    </tr>\n",
       "    <tr>\n",
       "      <th>2</th>\n",
       "      <td>145.0</td>\n",
       "      <td>347400002.0</td>\n",
       "      <td>-33.408806</td>\n",
       "      <td>-70.573571</td>\n",
       "      <td>2.395862e+06</td>\n",
       "    </tr>\n",
       "    <tr>\n",
       "      <th>3</th>\n",
       "      <td>120.0</td>\n",
       "      <td>301554592.0</td>\n",
       "      <td>-33.373390</td>\n",
       "      <td>-70.517697</td>\n",
       "      <td>2.512955e+06</td>\n",
       "    </tr>\n",
       "    <tr>\n",
       "      <th>4</th>\n",
       "      <td>77.0</td>\n",
       "      <td>213565575.0</td>\n",
       "      <td>-33.409034</td>\n",
       "      <td>-70.568615</td>\n",
       "      <td>2.773579e+06</td>\n",
       "    </tr>\n",
       "  </tbody>\n",
       "</table>\n",
       "</div>"
      ],
      "text/plain": [
       "     sqm        price        lat        lng     sqm price\n",
       "0  100.0  264821313.0 -33.408821 -70.577133  2.648213e+06\n",
       "1  125.0  330314756.0 -33.409034 -70.568615  2.642518e+06\n",
       "2  145.0  347400002.0 -33.408806 -70.573571  2.395862e+06\n",
       "3  120.0  301554592.0 -33.373390 -70.517697  2.512955e+06\n",
       "4   77.0  213565575.0 -33.409034 -70.568615  2.773579e+06"
      ]
     },
     "execution_count": 90,
     "metadata": {},
     "output_type": "execute_result"
    }
   ],
   "source": [
    "# Add price/sqm column\n",
    "property_listing_df['sqm price'] = property_listing_df['price'] / property_listing_df['sqm']\n",
    "property_listing_df.head()"
   ]
  },
  {
   "cell_type": "code",
   "execution_count": 91,
   "metadata": {},
   "outputs": [
    {
     "data": {
      "text/html": [
       "<div>\n",
       "<style scoped>\n",
       "    .dataframe tbody tr th:only-of-type {\n",
       "        vertical-align: middle;\n",
       "    }\n",
       "\n",
       "    .dataframe tbody tr th {\n",
       "        vertical-align: top;\n",
       "    }\n",
       "\n",
       "    .dataframe thead th {\n",
       "        text-align: right;\n",
       "    }\n",
       "</style>\n",
       "<table border=\"1\" class=\"dataframe\">\n",
       "  <thead>\n",
       "    <tr style=\"text-align: right;\">\n",
       "      <th></th>\n",
       "      <th>lat</th>\n",
       "      <th>lng</th>\n",
       "      <th>sqm price</th>\n",
       "    </tr>\n",
       "  </thead>\n",
       "  <tbody>\n",
       "    <tr>\n",
       "      <th>0</th>\n",
       "      <td>-33.408821</td>\n",
       "      <td>-70.577133</td>\n",
       "      <td>2.648213e+06</td>\n",
       "    </tr>\n",
       "    <tr>\n",
       "      <th>1</th>\n",
       "      <td>-33.409034</td>\n",
       "      <td>-70.568615</td>\n",
       "      <td>2.642518e+06</td>\n",
       "    </tr>\n",
       "    <tr>\n",
       "      <th>2</th>\n",
       "      <td>-33.408806</td>\n",
       "      <td>-70.573571</td>\n",
       "      <td>2.395862e+06</td>\n",
       "    </tr>\n",
       "    <tr>\n",
       "      <th>3</th>\n",
       "      <td>-33.373390</td>\n",
       "      <td>-70.517697</td>\n",
       "      <td>2.512955e+06</td>\n",
       "    </tr>\n",
       "    <tr>\n",
       "      <th>4</th>\n",
       "      <td>-33.409034</td>\n",
       "      <td>-70.568615</td>\n",
       "      <td>2.773579e+06</td>\n",
       "    </tr>\n",
       "  </tbody>\n",
       "</table>\n",
       "</div>"
      ],
      "text/plain": [
       "         lat        lng     sqm price\n",
       "0 -33.408821 -70.577133  2.648213e+06\n",
       "1 -33.409034 -70.568615  2.642518e+06\n",
       "2 -33.408806 -70.573571  2.395862e+06\n",
       "3 -33.373390 -70.517697  2.512955e+06\n",
       "4 -33.409034 -70.568615  2.773579e+06"
      ]
     },
     "execution_count": 91,
     "metadata": {},
     "output_type": "execute_result"
    }
   ],
   "source": [
    "property_listing_df.drop(['sqm', 'price'], axis=1, inplace=True)\n",
    "property_listing_df.head()"
   ]
  },
  {
   "cell_type": "code",
   "execution_count": 92,
   "metadata": {},
   "outputs": [
    {
     "data": {
      "text/html": [
       "<div>\n",
       "<style scoped>\n",
       "    .dataframe tbody tr th:only-of-type {\n",
       "        vertical-align: middle;\n",
       "    }\n",
       "\n",
       "    .dataframe tbody tr th {\n",
       "        vertical-align: top;\n",
       "    }\n",
       "\n",
       "    .dataframe thead th {\n",
       "        text-align: right;\n",
       "    }\n",
       "</style>\n",
       "<table border=\"1\" class=\"dataframe\">\n",
       "  <thead>\n",
       "    <tr style=\"text-align: right;\">\n",
       "      <th></th>\n",
       "      <th>lat</th>\n",
       "      <th>lng</th>\n",
       "      <th>sqm price</th>\n",
       "    </tr>\n",
       "  </thead>\n",
       "  <tbody>\n",
       "    <tr>\n",
       "      <th>count</th>\n",
       "      <td>6469.000000</td>\n",
       "      <td>6469.000000</td>\n",
       "      <td>6.469000e+03</td>\n",
       "    </tr>\n",
       "    <tr>\n",
       "      <th>mean</th>\n",
       "      <td>-33.407805</td>\n",
       "      <td>-70.564100</td>\n",
       "      <td>2.614768e+06</td>\n",
       "    </tr>\n",
       "    <tr>\n",
       "      <th>std</th>\n",
       "      <td>0.014709</td>\n",
       "      <td>0.027521</td>\n",
       "      <td>6.185690e+05</td>\n",
       "    </tr>\n",
       "    <tr>\n",
       "      <th>min</th>\n",
       "      <td>-33.489700</td>\n",
       "      <td>-70.677969</td>\n",
       "      <td>2.913969e+05</td>\n",
       "    </tr>\n",
       "    <tr>\n",
       "      <th>25%</th>\n",
       "      <td>-33.417400</td>\n",
       "      <td>-70.584541</td>\n",
       "      <td>2.203742e+06</td>\n",
       "    </tr>\n",
       "    <tr>\n",
       "      <th>50%</th>\n",
       "      <td>-33.411545</td>\n",
       "      <td>-70.568615</td>\n",
       "      <td>2.521058e+06</td>\n",
       "    </tr>\n",
       "    <tr>\n",
       "      <th>75%</th>\n",
       "      <td>-33.400330</td>\n",
       "      <td>-70.554484</td>\n",
       "      <td>2.894964e+06</td>\n",
       "    </tr>\n",
       "    <tr>\n",
       "      <th>max</th>\n",
       "      <td>-33.318218</td>\n",
       "      <td>-70.493782</td>\n",
       "      <td>7.124730e+06</td>\n",
       "    </tr>\n",
       "  </tbody>\n",
       "</table>\n",
       "</div>"
      ],
      "text/plain": [
       "               lat          lng     sqm price\n",
       "count  6469.000000  6469.000000  6.469000e+03\n",
       "mean    -33.407805   -70.564100  2.614768e+06\n",
       "std       0.014709     0.027521  6.185690e+05\n",
       "min     -33.489700   -70.677969  2.913969e+05\n",
       "25%     -33.417400   -70.584541  2.203742e+06\n",
       "50%     -33.411545   -70.568615  2.521058e+06\n",
       "75%     -33.400330   -70.554484  2.894964e+06\n",
       "max     -33.318218   -70.493782  7.124730e+06"
      ]
     },
     "execution_count": 92,
     "metadata": {},
     "output_type": "execute_result"
    }
   ],
   "source": [
    "# Finally check new statistics\n",
    "property_listing_df.describe()"
   ]
  },
  {
   "cell_type": "markdown",
   "metadata": {},
   "source": [
    "### Add Foursquare Venues Information to DF\n",
    "\n",
    "Now we can request the foursquare API to get all the information we need on what venues are near each of the different properties."
   ]
  },
  {
   "cell_type": "code",
   "execution_count": 261,
   "metadata": {},
   "outputs": [],
   "source": [
    "# Foursquare credentials\n",
    "\n",
    "CLIENT_ID = 'JBNZOIVSC431WAJGTONJYKIO3WJPWM330ZVTM4W2U5GY5BMQ'\n",
    "CLIENT_SECRET = 'KYRL22H4SXRTHFWQ3PBX2NTYUXAHL4MS0YDS2RNZLOUSTISO'\n",
    "LIMIT = 100\n",
    "radius = 500\n",
    "LIMIT = 100\n",
    "intent = 'browse'\n",
    "VERSION = '20200401'\n",
    "search_url = 'https://api.foursquare.com/v2/venues/search?'\n"
   ]
  },
  {
   "cell_type": "code",
   "execution_count": 262,
   "metadata": {},
   "outputs": [],
   "source": [
    "import requests\n",
    "\n",
    "latitude = -33.40882\n",
    "longitude = -70.577133\n",
    "\n",
    "url = '{}client_id={}&client_secret={}&ll={},{}&v={}&radius={}&limit={}&intent={}'.format(\n",
    "    search_url,\n",
    "    CLIENT_ID,\n",
    "    CLIENT_SECRET,\n",
    "    latitude,\n",
    "    longitude,\n",
    "    VERSION,\n",
    "    radius,\n",
    "    LIMIT,\n",
    "    intent)\n",
    "response = requests.get(url)"
   ]
  },
  {
   "cell_type": "code",
   "execution_count": 263,
   "metadata": {},
   "outputs": [
    {
     "name": "stdout",
     "output_type": "stream",
     "text": [
      "86\n"
     ]
    }
   ],
   "source": [
    "venues = response.json()['response']['venues']\n",
    "print(len(venues))"
   ]
  },
  {
   "cell_type": "code",
   "execution_count": 264,
   "metadata": {},
   "outputs": [
    {
     "name": "stdout",
     "output_type": "stream",
     "text": [
      "86\n"
     ]
    }
   ],
   "source": [
    "radius = 100\n",
    "\n",
    "url = '{}client_id={}&client_secret={}&ll={},{}&v={}&radius={}&limit={}&intent={}'.format(\n",
    "    search_url,\n",
    "    CLIENT_ID,\n",
    "    CLIENT_SECRET,\n",
    "    latitude,\n",
    "    longitude,\n",
    "    VERSION,\n",
    "    radius,\n",
    "    LIMIT,\n",
    "    intent)\n",
    "response = requests.get(url)\n",
    "venues = response.json()['response']['venues']\n",
    "print(len(venues))"
   ]
  },
  {
   "cell_type": "markdown",
   "metadata": {},
   "source": [
    "### Decisions\n",
    "\n",
    "We see that for different values of radius in a very populated place (selected on purpose) we get the same maximum number of venues. This is why we are going to use the number of appearences divided by the distance to each of these appearences as the value of each categories box. This way we don't discriminate places with lots of venues close just because other venues appear in the response.\n",
    "\n",
    "For better understanding, take this following example into account. If location A has a school 500m from it, this will probably be good. Location B in the other hand has a school 250m away, which we could say is better. Now, if location B has too many venues nearby, maybe the school does not appear in the response. So to make this more even, we divide by the distance to the venue. Now the school for location A gives the least possible sum for the column schools (as 500m is the maximum radius we are using)"
   ]
  },
  {
   "cell_type": "markdown",
   "metadata": {},
   "source": [
    "### Data Wrangling\n",
    "\n",
    "Now we proceed to get the sum of venues nearby in each category divided by their distance to the evaluated property.\n",
    "\n",
    "We will create a DataFrame that has the columns lat, lng and one column for each category with its value for each row represented by the count of that type of venue divided in the distance from the property to these venues."
   ]
  },
  {
   "cell_type": "code",
   "execution_count": 313,
   "metadata": {},
   "outputs": [],
   "source": [
    "# Add function to get venues from lat and lng\n",
    "def get_venues(lat, lng, radius):\n",
    "    url = '{}client_id={}&client_secret={}&ll={},{}&v={}&radius={}&limit={}&intent={}'.format(\n",
    "        search_url,\n",
    "        CLIENT_ID,\n",
    "        CLIENT_SECRET,\n",
    "        latitude,\n",
    "        longitude,\n",
    "        VERSION,\n",
    "        radius,\n",
    "        LIMIT,\n",
    "        intent)\n",
    "\n",
    "    venues = requests.get(url).json()['response']['venues']\n",
    "    return venues"
   ]
  },
  {
   "cell_type": "code",
   "execution_count": 335,
   "metadata": {},
   "outputs": [],
   "source": [
    "# Function to create a dict with the values for each category divided by distance to venues\n",
    "def create_property_categories_dict(venues):\n",
    "    property_categories = {}\n",
    "    for venue in venues:\n",
    "        dist = float(venue['location']['distance'])\n",
    "        for category in venue['categories']:\n",
    "            if category['primary'] == True and dist >= 1:\n",
    "                if category['name'] in property_categories.keys():\n",
    "                    property_categories[category['name']] += 1/dist\n",
    "                else:\n",
    "                    property_categories[category['name']] = 1/dist\n",
    "    \n",
    "    return property_categories"
   ]
  },
  {
   "cell_type": "code",
   "execution_count": 323,
   "metadata": {},
   "outputs": [],
   "source": [
    "# Function to add row to final dict dataframe\n",
    "def add_row(dict_df, processed_properties, property_categories, lat, lng):\n",
    "    dict_df['lat'].append(lat)\n",
    "    dict_df['lng'].append(lng)\n",
    "    for category in property_categories.keys():\n",
    "        if category in dict_df.keys():\n",
    "            # Add value for this category if present\n",
    "            dict_df[category].append(property_categories[category])\n",
    "        else:\n",
    "            # Create list for this category\n",
    "            dict_df[category] = [0] * processed_properties + [property_categories[category]]\n",
    "            \n",
    "    # For each category not in this property but in others, add a 0\n",
    "    for category in list(set(dict_df.keys()).difference(property_categories.keys())):\n",
    "        if category not in ('lat, lng'):\n",
    "            dict_df[category].append(0)\n",
    "            \n",
    "    processed_properties += 1\n",
    "    return dict_df, processed_properties"
   ]
  },
  {
   "cell_type": "code",
   "execution_count": 337,
   "metadata": {},
   "outputs": [
    {
     "name": "stdout",
     "output_type": "stream",
     "text": [
      "We are in property 0 already! Hang on..\n",
      "We are in property 500 already! Hang on..\n",
      "We are in property 1000 already! Hang on..\n",
      "We are in property 1500 already! Hang on..\n",
      "We are in property 2000 already! Hang on..\n",
      "We are in property 2500 already! Hang on..\n",
      "We are in property 3000 already! Hang on..\n",
      "We are in property 4000 already! Hang on..\n",
      "We are in property 5000 already! Hang on..\n",
      "We are in property 5500 already! Hang on..\n",
      "We are in property 6500 already! Hang on..\n",
      "We are in property 7000 already! Hang on..\n",
      "Dictionary ready to convert in data frame and then merge!!\n"
     ]
    }
   ],
   "source": [
    "radius = 500\n",
    "processed_properties = 0\n",
    "dict_df = {'lat': [], 'lng': []}\n",
    "\n",
    "for index, row in property_listing_df.iterrows():\n",
    "    latitude = row['lat']\n",
    "    longitude = row['lng']\n",
    "    venues = get_venues(latitude, longitude, radius)\n",
    "    property_categories = create_property_categories_dict(venues)\n",
    "    dict_df, processed_properties = add_row(dict_df, processed_properties, property_categories, latitude, longitude)\n",
    "    if index % 500 ==  0:\n",
    "        print('We are in property {} already! Hang on..'.format(index))\n",
    "\n",
    "print('Dictionary ready to convert in data frame and then merge!!')"
   ]
  },
  {
   "cell_type": "code",
   "execution_count": 338,
   "metadata": {},
   "outputs": [
    {
     "data": {
      "text/html": [
       "<div>\n",
       "<style scoped>\n",
       "    .dataframe tbody tr th:only-of-type {\n",
       "        vertical-align: middle;\n",
       "    }\n",
       "\n",
       "    .dataframe tbody tr th {\n",
       "        vertical-align: top;\n",
       "    }\n",
       "\n",
       "    .dataframe thead th {\n",
       "        text-align: right;\n",
       "    }\n",
       "</style>\n",
       "<table border=\"1\" class=\"dataframe\">\n",
       "  <thead>\n",
       "    <tr style=\"text-align: right;\">\n",
       "      <th></th>\n",
       "      <th>lat</th>\n",
       "      <th>lng</th>\n",
       "      <th>Park</th>\n",
       "      <th>Residential Building (Apartment / Condo)</th>\n",
       "      <th>Boutique</th>\n",
       "      <th>Dog Run</th>\n",
       "      <th>Breakfast Spot</th>\n",
       "      <th>Office</th>\n",
       "      <th>Bakery</th>\n",
       "      <th>Dentist's Office</th>\n",
       "      <th>...</th>\n",
       "      <th>New American Restaurant</th>\n",
       "      <th>Apres Ski Bar</th>\n",
       "      <th>Adult Education Center</th>\n",
       "      <th>Night Market</th>\n",
       "      <th>Pop-Up Shop</th>\n",
       "      <th>Cooking School</th>\n",
       "      <th>Sporting Event</th>\n",
       "      <th>Hospital Ward</th>\n",
       "      <th>Outdoor Sculpture</th>\n",
       "      <th>Souvenir Shop</th>\n",
       "    </tr>\n",
       "  </thead>\n",
       "  <tbody>\n",
       "    <tr>\n",
       "      <th>0</th>\n",
       "      <td>-33.408821</td>\n",
       "      <td>-70.577133</td>\n",
       "      <td>0.036836</td>\n",
       "      <td>0.231205</td>\n",
       "      <td>0.013514</td>\n",
       "      <td>0.086199</td>\n",
       "      <td>0.003030</td>\n",
       "      <td>0.152661</td>\n",
       "      <td>0.002994</td>\n",
       "      <td>0.039121</td>\n",
       "      <td>...</td>\n",
       "      <td>0.0</td>\n",
       "      <td>0.0</td>\n",
       "      <td>0.0</td>\n",
       "      <td>0.0</td>\n",
       "      <td>0.0</td>\n",
       "      <td>0.0</td>\n",
       "      <td>0.0</td>\n",
       "      <td>0.0</td>\n",
       "      <td>0.0</td>\n",
       "      <td>0.0</td>\n",
       "    </tr>\n",
       "    <tr>\n",
       "      <th>1</th>\n",
       "      <td>-33.409034</td>\n",
       "      <td>-70.568615</td>\n",
       "      <td>0.000000</td>\n",
       "      <td>0.009174</td>\n",
       "      <td>0.062500</td>\n",
       "      <td>0.000000</td>\n",
       "      <td>0.040000</td>\n",
       "      <td>0.071016</td>\n",
       "      <td>0.048200</td>\n",
       "      <td>0.077922</td>\n",
       "      <td>...</td>\n",
       "      <td>0.0</td>\n",
       "      <td>0.0</td>\n",
       "      <td>0.0</td>\n",
       "      <td>0.0</td>\n",
       "      <td>0.0</td>\n",
       "      <td>0.0</td>\n",
       "      <td>0.0</td>\n",
       "      <td>0.0</td>\n",
       "      <td>0.0</td>\n",
       "      <td>0.0</td>\n",
       "    </tr>\n",
       "    <tr>\n",
       "      <th>2</th>\n",
       "      <td>-33.408806</td>\n",
       "      <td>-70.573571</td>\n",
       "      <td>0.000000</td>\n",
       "      <td>0.210924</td>\n",
       "      <td>0.000000</td>\n",
       "      <td>0.000000</td>\n",
       "      <td>0.000000</td>\n",
       "      <td>0.265683</td>\n",
       "      <td>0.000000</td>\n",
       "      <td>0.000000</td>\n",
       "      <td>...</td>\n",
       "      <td>0.0</td>\n",
       "      <td>0.0</td>\n",
       "      <td>0.0</td>\n",
       "      <td>0.0</td>\n",
       "      <td>0.0</td>\n",
       "      <td>0.0</td>\n",
       "      <td>0.0</td>\n",
       "      <td>0.0</td>\n",
       "      <td>0.0</td>\n",
       "      <td>0.0</td>\n",
       "    </tr>\n",
       "    <tr>\n",
       "      <th>3</th>\n",
       "      <td>-33.373390</td>\n",
       "      <td>-70.517697</td>\n",
       "      <td>0.000000</td>\n",
       "      <td>0.000000</td>\n",
       "      <td>0.000000</td>\n",
       "      <td>0.000000</td>\n",
       "      <td>0.007874</td>\n",
       "      <td>0.058639</td>\n",
       "      <td>0.000000</td>\n",
       "      <td>0.000000</td>\n",
       "      <td>...</td>\n",
       "      <td>0.0</td>\n",
       "      <td>0.0</td>\n",
       "      <td>0.0</td>\n",
       "      <td>0.0</td>\n",
       "      <td>0.0</td>\n",
       "      <td>0.0</td>\n",
       "      <td>0.0</td>\n",
       "      <td>0.0</td>\n",
       "      <td>0.0</td>\n",
       "      <td>0.0</td>\n",
       "    </tr>\n",
       "    <tr>\n",
       "      <th>4</th>\n",
       "      <td>-33.409034</td>\n",
       "      <td>-70.568615</td>\n",
       "      <td>0.000000</td>\n",
       "      <td>0.009174</td>\n",
       "      <td>0.062500</td>\n",
       "      <td>0.000000</td>\n",
       "      <td>0.040000</td>\n",
       "      <td>0.071016</td>\n",
       "      <td>0.048200</td>\n",
       "      <td>0.077922</td>\n",
       "      <td>...</td>\n",
       "      <td>0.0</td>\n",
       "      <td>0.0</td>\n",
       "      <td>0.0</td>\n",
       "      <td>0.0</td>\n",
       "      <td>0.0</td>\n",
       "      <td>0.0</td>\n",
       "      <td>0.0</td>\n",
       "      <td>0.0</td>\n",
       "      <td>0.0</td>\n",
       "      <td>0.0</td>\n",
       "    </tr>\n",
       "  </tbody>\n",
       "</table>\n",
       "<p>5 rows × 571 columns</p>\n",
       "</div>"
      ],
      "text/plain": [
       "         lat        lng      Park  Residential Building (Apartment / Condo)  \\\n",
       "0 -33.408821 -70.577133  0.036836                                  0.231205   \n",
       "1 -33.409034 -70.568615  0.000000                                  0.009174   \n",
       "2 -33.408806 -70.573571  0.000000                                  0.210924   \n",
       "3 -33.373390 -70.517697  0.000000                                  0.000000   \n",
       "4 -33.409034 -70.568615  0.000000                                  0.009174   \n",
       "\n",
       "   Boutique   Dog Run  Breakfast Spot    Office    Bakery  Dentist's Office  \\\n",
       "0  0.013514  0.086199        0.003030  0.152661  0.002994          0.039121   \n",
       "1  0.062500  0.000000        0.040000  0.071016  0.048200          0.077922   \n",
       "2  0.000000  0.000000        0.000000  0.265683  0.000000          0.000000   \n",
       "3  0.000000  0.000000        0.007874  0.058639  0.000000          0.000000   \n",
       "4  0.062500  0.000000        0.040000  0.071016  0.048200          0.077922   \n",
       "\n",
       "       ...        New American Restaurant  Apres Ski Bar  \\\n",
       "0      ...                            0.0            0.0   \n",
       "1      ...                            0.0            0.0   \n",
       "2      ...                            0.0            0.0   \n",
       "3      ...                            0.0            0.0   \n",
       "4      ...                            0.0            0.0   \n",
       "\n",
       "   Adult Education Center  Night Market  Pop-Up Shop  Cooking School  \\\n",
       "0                     0.0           0.0          0.0             0.0   \n",
       "1                     0.0           0.0          0.0             0.0   \n",
       "2                     0.0           0.0          0.0             0.0   \n",
       "3                     0.0           0.0          0.0             0.0   \n",
       "4                     0.0           0.0          0.0             0.0   \n",
       "\n",
       "   Sporting Event  Hospital Ward  Outdoor Sculpture  Souvenir Shop  \n",
       "0             0.0            0.0                0.0            0.0  \n",
       "1             0.0            0.0                0.0            0.0  \n",
       "2             0.0            0.0                0.0            0.0  \n",
       "3             0.0            0.0                0.0            0.0  \n",
       "4             0.0            0.0                0.0            0.0  \n",
       "\n",
       "[5 rows x 571 columns]"
      ]
     },
     "execution_count": 338,
     "metadata": {},
     "output_type": "execute_result"
    }
   ],
   "source": [
    "foursquare_df = pd.DataFrame.from_dict(dict_df)\n",
    "foursquare_df.head()"
   ]
  },
  {
   "cell_type": "code",
   "execution_count": 401,
   "metadata": {},
   "outputs": [],
   "source": [
    "# Save dataframe to csv to avoid waiting again\n",
    "foursquare_df.to_csv('foursquare_df.csv', index = False)"
   ]
  },
  {
   "cell_type": "code",
   "execution_count": 2,
   "metadata": {},
   "outputs": [],
   "source": [
    "import pandas as pd"
   ]
  },
  {
   "cell_type": "code",
   "execution_count": 1616,
   "metadata": {},
   "outputs": [],
   "source": [
    "foursquare_df = pd.read_csv('foursquare_df.csv')"
   ]
  },
  {
   "cell_type": "markdown",
   "metadata": {},
   "source": [
    "### Cleaning Foursquare Data\n",
    "\n",
    "Now that we have and indicator of proximity and appearences of every category of venues to each property, we now have to choose which categories are the ones that are really the important ones. So, we are going to do some things that will be explained on the way.\n",
    "\n",
    "First, we will join all categories that are of the same king, for example restaurants"
   ]
  },
  {
   "cell_type": "code",
   "execution_count": 1617,
   "metadata": {},
   "outputs": [
    {
     "name": "stdout",
     "output_type": "stream",
     "text": [
      "Restaurant categories:  82\n",
      "Bar categories:  18\n",
      "Store categories:  98\n",
      "Office categories:  8\n",
      "Coffee categories:  9\n",
      "Gym categories:  19\n",
      "School categories:  42\n",
      "Basic categories:  4\n",
      "Night categories:  5\n",
      "Park categories:  9\n",
      "Bus categories:  3\n",
      "Pharmacy categories:  2\n",
      "Medicine categories:  5\n",
      "Religion categories:  5\n",
      "Entertainment categories:  31\n",
      "Care categories:  5\n",
      "Outdoors categories:  2\n"
     ]
    }
   ],
   "source": [
    "restaurant_categories = []\n",
    "bar_categories = []\n",
    "store_categories = []\n",
    "office_categories = []\n",
    "coffee_categories = []\n",
    "gym_categories = []\n",
    "school_categories = []\n",
    "basics_categories = []\n",
    "night_categories = []\n",
    "park_categories = []\n",
    "bus_categories = []\n",
    "pharmacy_categories = []\n",
    "medicine_categories = []\n",
    "religion_categories = []\n",
    "entertainment_categories = []\n",
    "care_categories = []\n",
    "outdoor_categories = []\n",
    "for column in foursquare_df.columns:\n",
    "    if 'Spa' == column or 'Salon' in column or 'Beauty' in column:\n",
    "        care_categories.append(column)\n",
    "    elif 'Store' in column and 'Grocery' not in column:\n",
    "        store_categories.append(column)\n",
    "    elif ('Restaurant' in column or 'Food' in column or 'Creperie' in column or 'Pizza' in column or 'Steakhouse' in column or ' Place' in column or 'Joint' in column or 'Buffet' in column or 'Bistro' == column or 'Diner' in column) and 'Places' not in column:\n",
    "        restaurant_categories.append(column)\n",
    "    elif ('Bar' in column or 'Pub' in column or 'Gastropub' in column or 'Beer Garden' in column) and 'Art' not in column:\n",
    "        bar_categories.append(column)\n",
    "    elif 'Office' in column:\n",
    "        office_categories.append(column)\n",
    "    elif 'Coffee' in column or 'Caf' in column:\n",
    "        coffee_categories.append(column)\n",
    "    elif 'Gym' in column or 'Sports' in column or 'Yoga' in column or 'Dance' in column or 'Dojo' in column or 'Pilates' in column or 'Rock Climbing' in column or 'Skating' in column or 'Bike Trail' in column or 'Tennis Court' in column:\n",
    "        gym_categories.append(column)\n",
    "    elif 'Shop' in column or 'Market' in column:\n",
    "        store_categories.append(column)\n",
    "    elif 'School' in column or 'College' in column or 'Education' in column or 'University' in column:\n",
    "        school_categories.append(column)\n",
    "    elif 'Grocery' in column or 'Bakery' in column or 'Butcher' in column:\n",
    "        basics_categories.append(column)\n",
    "    elif 'Night' in column or 'Strip' in column or 'Motel' in column:\n",
    "        night_categories.append(column)\n",
    "    elif 'Park' in column and 'ing' not in column or 'Plaza' in column:\n",
    "        park_categories.append(column)\n",
    "    elif 'Bus ' in column:\n",
    "        bus_categories.append(column)\n",
    "    elif 'Drugstore' in column or 'Pharmacy' in column:\n",
    "        pharmacy_categories.append(column)\n",
    "    elif 'Medical Center' in column or 'Hospital' in column or 'Emergency' in column or 'Medical Lab' in column:\n",
    "        medicine_categories.append(column)\n",
    "    elif 'Temple' in column or 'Synagogue' in column or 'Church' in column or 'Mosque' in column:\n",
    "        religion_categories.append(column)\n",
    "    elif 'Entertainment' in column or 'Club' in column or 'Theater' in column or 'Museum' in column or 'Circus' in column or 'Pool' in column or 'Play' in column or 'Cultural' in column or 'Art' in column or 'Aquarium' in column or 'Paintball' in column or 'Bowling' in column:\n",
    "        entertainment_categories.append(column)\n",
    "    elif 'Outdoors' in column:\n",
    "        outdoor_categories.append(column)\n",
    "\n",
    "print('Restaurant categories: ', len(restaurant_categories))\n",
    "print('Bar categories: ', len(bar_categories))\n",
    "print('Store categories: ', len(store_categories))\n",
    "print('Office categories: ', len(office_categories))\n",
    "print('Coffee categories: ', len(coffee_categories))\n",
    "print('Gym categories: ', len(gym_categories))\n",
    "print('School categories: ', len(school_categories))\n",
    "print('Basic categories: ', len(basics_categories))\n",
    "print('Night categories: ', len(night_categories))\n",
    "print('Park categories: ', len(park_categories))\n",
    "print('Bus categories: ', len(bus_categories))\n",
    "print('Pharmacy categories: ', len(pharmacy_categories))\n",
    "print('Medicine categories: ', len(medicine_categories))\n",
    "print('Religion categories: ', len(religion_categories))\n",
    "print('Entertainment categories: ', len(entertainment_categories))\n",
    "print('Care categories: ', len(care_categories))\n",
    "print('Outdoors categories: ', len(outdoor_categories))"
   ]
  },
  {
   "cell_type": "markdown",
   "metadata": {},
   "source": [
    "We notice that many categories fall in the same big category.\n",
    "\n",
    "Now we will group these columns into one and then check how much properties fall in each of the categories"
   ]
  },
  {
   "cell_type": "code",
   "execution_count": 1618,
   "metadata": {},
   "outputs": [
    {
     "name": "stdout",
     "output_type": "stream",
     "text": [
      "(6469, 490)\n"
     ]
    }
   ],
   "source": [
    "# Join restaurant columns and drop\n",
    "foursquare_df['Restaurant Category'] = foursquare_df[restaurant_categories].sum(axis=1)\n",
    "foursquare_df.drop(restaurant_categories, axis=1, inplace=True)\n",
    "print(foursquare_df.shape)"
   ]
  },
  {
   "cell_type": "code",
   "execution_count": 1619,
   "metadata": {},
   "outputs": [
    {
     "name": "stdout",
     "output_type": "stream",
     "text": [
      "(6469, 473)\n"
     ]
    }
   ],
   "source": [
    "# Join bar columns and drop\n",
    "foursquare_df['Bar Category'] = foursquare_df[bar_categories].sum(axis=1)\n",
    "foursquare_df.drop(bar_categories, axis=1, inplace=True)\n",
    "print(foursquare_df.shape)"
   ]
  },
  {
   "cell_type": "code",
   "execution_count": 1620,
   "metadata": {},
   "outputs": [
    {
     "name": "stdout",
     "output_type": "stream",
     "text": [
      "(6469, 376)\n"
     ]
    }
   ],
   "source": [
    "# Join store columns and drop\n",
    "foursquare_df['Store Category'] = foursquare_df[store_categories].sum(axis=1)\n",
    "foursquare_df.drop(store_categories, axis=1, inplace=True)\n",
    "print(foursquare_df.shape)"
   ]
  },
  {
   "cell_type": "code",
   "execution_count": 1621,
   "metadata": {},
   "outputs": [
    {
     "name": "stdout",
     "output_type": "stream",
     "text": [
      "(6469, 369)\n"
     ]
    }
   ],
   "source": [
    "# Join office columns and drop\n",
    "foursquare_df['Office Category'] = foursquare_df[office_categories].sum(axis=1)\n",
    "foursquare_df.drop(office_categories, axis=1, inplace=True)\n",
    "print(foursquare_df.shape)"
   ]
  },
  {
   "cell_type": "code",
   "execution_count": 1622,
   "metadata": {},
   "outputs": [
    {
     "name": "stdout",
     "output_type": "stream",
     "text": [
      "(6469, 361)\n"
     ]
    }
   ],
   "source": [
    "# Join Coffee columns and drop\n",
    "foursquare_df['Coffee Category'] = foursquare_df[coffee_categories].sum(axis=1)\n",
    "foursquare_df.drop(coffee_categories, axis=1, inplace=True)\n",
    "print(foursquare_df.shape)"
   ]
  },
  {
   "cell_type": "code",
   "execution_count": 1623,
   "metadata": {},
   "outputs": [
    {
     "name": "stdout",
     "output_type": "stream",
     "text": [
      "(6469, 343)\n"
     ]
    }
   ],
   "source": [
    "# Join gym columns and drop\n",
    "foursquare_df['Sports Category'] = foursquare_df[gym_categories].sum(axis=1)\n",
    "foursquare_df.drop(gym_categories, axis=1, inplace=True)\n",
    "print(foursquare_df.shape)"
   ]
  },
  {
   "cell_type": "code",
   "execution_count": 1624,
   "metadata": {},
   "outputs": [
    {
     "name": "stdout",
     "output_type": "stream",
     "text": [
      "(6469, 302)\n"
     ]
    }
   ],
   "source": [
    "# Join school columns and drop\n",
    "foursquare_df['School Category'] = foursquare_df[school_categories].sum(axis=1)\n",
    "foursquare_df.drop(school_categories, axis=1, inplace=True)\n",
    "print(foursquare_df.shape)"
   ]
  },
  {
   "cell_type": "code",
   "execution_count": 1625,
   "metadata": {},
   "outputs": [
    {
     "name": "stdout",
     "output_type": "stream",
     "text": [
      "(6469, 299)\n"
     ]
    }
   ],
   "source": [
    "# Join basic columns and drop\n",
    "foursquare_df['Basic Needs Category'] = foursquare_df[basics_categories].sum(axis=1)\n",
    "foursquare_df.drop(basics_categories, axis=1, inplace=True)\n",
    "print(foursquare_df.shape)"
   ]
  },
  {
   "cell_type": "code",
   "execution_count": 1626,
   "metadata": {},
   "outputs": [
    {
     "name": "stdout",
     "output_type": "stream",
     "text": [
      "(6469, 295)\n"
     ]
    }
   ],
   "source": [
    "# Join night columns and drop\n",
    "foursquare_df['Nightlife Category'] = foursquare_df[night_categories].sum(axis=1)\n",
    "foursquare_df.drop(night_categories, axis=1, inplace=True)\n",
    "print(foursquare_df.shape)"
   ]
  },
  {
   "cell_type": "code",
   "execution_count": 1627,
   "metadata": {},
   "outputs": [
    {
     "name": "stdout",
     "output_type": "stream",
     "text": [
      "(6469, 287)\n"
     ]
    }
   ],
   "source": [
    "# Join park columns and drop\n",
    "foursquare_df['Park Category'] = foursquare_df[park_categories].sum(axis=1)\n",
    "foursquare_df.drop(park_categories, axis=1, inplace=True)\n",
    "print(foursquare_df.shape)"
   ]
  },
  {
   "cell_type": "code",
   "execution_count": 1628,
   "metadata": {},
   "outputs": [
    {
     "name": "stdout",
     "output_type": "stream",
     "text": [
      "(6469, 285)\n"
     ]
    }
   ],
   "source": [
    "# Join bus columns and drop\n",
    "foursquare_df['Bus Category'] = foursquare_df[bus_categories].sum(axis=1)\n",
    "foursquare_df.drop(bus_categories, axis=1, inplace=True)\n",
    "print(foursquare_df.shape)"
   ]
  },
  {
   "cell_type": "code",
   "execution_count": 1629,
   "metadata": {},
   "outputs": [
    {
     "name": "stdout",
     "output_type": "stream",
     "text": [
      "(6469, 284)\n"
     ]
    }
   ],
   "source": [
    "# Join pharmacy columns and drop\n",
    "foursquare_df['Pharmacy Category'] = foursquare_df[pharmacy_categories].sum(axis=1)\n",
    "foursquare_df.drop(pharmacy_categories, axis=1, inplace=True)\n",
    "print(foursquare_df.shape)"
   ]
  },
  {
   "cell_type": "code",
   "execution_count": 1630,
   "metadata": {},
   "outputs": [
    {
     "name": "stdout",
     "output_type": "stream",
     "text": [
      "(6469, 280)\n"
     ]
    }
   ],
   "source": [
    "# Join medicine columns and drop\n",
    "foursquare_df['Medicine Category'] = foursquare_df[medicine_categories].sum(axis=1)\n",
    "foursquare_df.drop(medicine_categories, axis=1, inplace=True)\n",
    "print(foursquare_df.shape)"
   ]
  },
  {
   "cell_type": "code",
   "execution_count": 1631,
   "metadata": {},
   "outputs": [
    {
     "name": "stdout",
     "output_type": "stream",
     "text": [
      "(6469, 276)\n"
     ]
    }
   ],
   "source": [
    "# Join religion columns and drop\n",
    "foursquare_df['Religion Category'] = foursquare_df[religion_categories].sum(axis=1)\n",
    "foursquare_df.drop(religion_categories, axis=1, inplace=True)\n",
    "print(foursquare_df.shape)"
   ]
  },
  {
   "cell_type": "code",
   "execution_count": 1632,
   "metadata": {},
   "outputs": [
    {
     "name": "stdout",
     "output_type": "stream",
     "text": [
      "(6469, 246)\n"
     ]
    }
   ],
   "source": [
    "# Join entertainment columns and drop\n",
    "foursquare_df['Entertainment Category'] = foursquare_df[entertainment_categories].sum(axis=1)\n",
    "foursquare_df.drop(entertainment_categories, axis=1, inplace=True)\n",
    "print(foursquare_df.shape)"
   ]
  },
  {
   "cell_type": "code",
   "execution_count": 1633,
   "metadata": {},
   "outputs": [
    {
     "name": "stdout",
     "output_type": "stream",
     "text": [
      "(6469, 242)\n"
     ]
    }
   ],
   "source": [
    "# Join entertainment columns and drop\n",
    "foursquare_df['Care Category'] = foursquare_df[care_categories].sum(axis=1)\n",
    "foursquare_df.drop(care_categories, axis=1, inplace=True)\n",
    "print(foursquare_df.shape)"
   ]
  },
  {
   "cell_type": "code",
   "execution_count": 1634,
   "metadata": {},
   "outputs": [
    {
     "name": "stdout",
     "output_type": "stream",
     "text": [
      "(6469, 241)\n"
     ]
    }
   ],
   "source": [
    "# Join outdoors columns and drop\n",
    "foursquare_df['Outdoors Category'] = foursquare_df[outdoor_categories].sum(axis=1)\n",
    "foursquare_df.drop(outdoor_categories, axis=1, inplace=True)\n",
    "print(foursquare_df.shape)"
   ]
  },
  {
   "cell_type": "markdown",
   "metadata": {},
   "source": [
    "Now we have reduced the number of categories and joined them into bigger categories. We did this with all the relevant categories that foursquare returned."
   ]
  },
  {
   "cell_type": "code",
   "execution_count": 1635,
   "metadata": {},
   "outputs": [],
   "source": [
    "# Get number of appearences for each category\n",
    "n_rows_per_category = []\n",
    "for column in foursquare_df.columns:\n",
    "    n_rows_per_category.append((column, foursquare_df[foursquare_df[column] > 0].shape[0]))"
   ]
  },
  {
   "cell_type": "code",
   "execution_count": 1636,
   "metadata": {},
   "outputs": [],
   "source": [
    "# Sort by least appearences to most\n",
    "n_rows_per_category.sort(key=lambda tup: tup[1])"
   ]
  },
  {
   "cell_type": "code",
   "execution_count": 1637,
   "metadata": {},
   "outputs": [],
   "source": [
    "# Drop categories with less than 500 appearances, misleading\n",
    "foursquare_df.drop([r[0] for r in n_rows_per_category if r[1] < 500 and r[0] not in ['lat', 'lng']], axis=1, inplace = True)"
   ]
  },
  {
   "cell_type": "code",
   "execution_count": 1638,
   "metadata": {},
   "outputs": [
    {
     "data": {
      "text/plain": [
       "(6469, 69)"
      ]
     },
     "execution_count": 1638,
     "metadata": {},
     "output_type": "execute_result"
    }
   ],
   "source": [
    "foursquare_df.shape"
   ]
  },
  {
   "cell_type": "markdown",
   "metadata": {},
   "source": [
    "### Data cleaned and ready to merge\n",
    "\n",
    "We have reduced the number of columns to 210, now we still have to select the best rows for the regression, so we will go on and join this table with the one of the properties and then try and calculate the correlation between these variables and the price to see which variables can help better predict the price of a property."
   ]
  },
  {
   "cell_type": "code",
   "execution_count": 1639,
   "metadata": {},
   "outputs": [
    {
     "name": "stdout",
     "output_type": "stream",
     "text": [
      "['Medical Center', 'Hospital', 'Medical Lab', 'Emergency Room', 'Hospital Ward']\n"
     ]
    }
   ],
   "source": [
    "print(medicine_categories)"
   ]
  },
  {
   "cell_type": "code",
   "execution_count": 1640,
   "metadata": {},
   "outputs": [
    {
     "name": "stdout",
     "output_type": "stream",
     "text": [
      "['Church', 'Temple', 'Mosque', 'Synagogue', 'Buddhist Temple']\n"
     ]
    }
   ],
   "source": [
    "print(religion_categories)"
   ]
  },
  {
   "cell_type": "code",
   "execution_count": 1641,
   "metadata": {},
   "outputs": [
    {
     "name": "stdout",
     "output_type": "stream",
     "text": [
      "['Bar', 'Dive Bar', 'Cocktail Bar', 'Beer Bar', 'Beer Garden', 'Karaoke Bar', 'Hotel Bar', 'Pub', 'Sports Bar', 'Hookah Bar', 'Whisky Bar', 'Gastropub', 'Gay Bar', 'Juice Bar', 'Wine Bar', 'Irish Pub', 'Piano Bar', 'Apres Ski Bar']\n"
     ]
    }
   ],
   "source": [
    "print(bar_categories)"
   ]
  },
  {
   "cell_type": "code",
   "execution_count": 1642,
   "metadata": {},
   "outputs": [
    {
     "name": "stdout",
     "output_type": "stream",
     "text": [
      "['Playground', 'General Entertainment', 'Pool', 'Theater', 'Art Gallery', 'Cultural Center', 'Rock Club', 'Indie Movie Theater', 'Performing Arts Venue', 'Public Art', 'Comedy Club', 'Movie Theater', 'Pool Hall', 'Street Art', 'Jazz Club', 'Hotel Pool', 'Arts & Entertainment', 'Art Museum', 'Indoor Play Area', 'Bowling Alley', 'Aquarium', 'Club House', 'Paintball Field', 'History Museum', 'Museum', 'Entertainment Service', 'Science Museum', 'Social Club', 'Circus', 'Drive-in Theater', 'Salsa Club']\n"
     ]
    }
   ],
   "source": [
    "print(entertainment_categories)"
   ]
  },
  {
   "cell_type": "code",
   "execution_count": 1643,
   "metadata": {},
   "outputs": [
    {
     "name": "stdout",
     "output_type": "stream",
     "text": [
      "['Burger Joint', 'Sushi Restaurant', 'Hot Dog Joint', 'Sandwich Place', 'Fast Food Restaurant', 'Food & Drink Shop', 'Restaurant', 'Chinese Restaurant', 'American Restaurant', 'Diner', 'Seafood Restaurant', 'Asian Restaurant', 'Fried Chicken Joint', 'Japanese Restaurant', 'Pizza Place', 'Middle Eastern Restaurant', 'Venezuelan Restaurant', 'Italian Restaurant', 'Vegetarian / Vegan Restaurant', 'Comfort Food Restaurant', 'Peruvian Restaurant', 'Food Court', 'Snack Place', 'Bistro', 'Food Truck', 'BBQ Joint', 'Salad Place', 'Creperie', 'Shawarma Place', 'Arepa Restaurant', 'Wings Joint', 'Szechuan Restaurant', 'Mexican Restaurant', 'Food Service', 'Southern / Soul Food Restaurant', 'Thai Restaurant', 'Steakhouse', 'Spanish Restaurant', 'Argentinian Restaurant', 'Falafel Restaurant', 'Cuban Restaurant', 'Mac & Cheese Joint', 'Latin American Restaurant', 'Brazilian Restaurant', 'Eastern European Restaurant', 'Caribbean Restaurant', 'South American Restaurant', 'Mediterranean Restaurant', 'French Restaurant', 'Tapas Restaurant', 'Burrito Place', 'Empanada Restaurant', 'Paella Restaurant', 'German Restaurant', 'Molecular Gastronomy Restaurant', 'Austrian Restaurant', 'Taco Place', 'Buffet', 'Cajun / Creole Restaurant', 'Turkish Restaurant', 'Gluten-free Restaurant', 'Cantonese Restaurant', 'Belgian Restaurant', 'Korean Restaurant', 'Vietnamese Restaurant', 'Soup Place', 'Theme Restaurant', 'Food', 'Dutch Restaurant', 'Persian Restaurant', 'Indian Restaurant', 'Australian Restaurant', 'Afghan Restaurant', 'Tex-Mex Restaurant', 'Dumpling Restaurant', 'Malay Restaurant', 'Indonesian Restaurant', 'Hawaiian Restaurant', 'African Restaurant', 'Food Stand', 'Kebab Restaurant', 'New American Restaurant']\n"
     ]
    }
   ],
   "source": [
    "print(restaurant_categories)"
   ]
  },
  {
   "cell_type": "code",
   "execution_count": 1644,
   "metadata": {},
   "outputs": [
    {
     "name": "stdout",
     "output_type": "stream",
     "text": [
      "[\"Men's Store\", 'Gift Shop', 'Automotive Shop', 'Ice Cream Shop', 'Shopping Mall', 'Cosmetics Shop', 'Candy Store', \"Women's Store\", 'Paper / Office Supplies Store', 'Donut Shop', 'Pet Store', 'Electronics Store', 'Shoe Store', 'Mobile Phone Shop', 'Smoke Shop', 'Toy / Game Store', 'Convenience Store', 'Dessert Shop', 'Motorcycle Shop', 'Accessories Store', 'Discount Store', 'Sporting Goods Shop', 'Jewelry Store', 'Bike Shop', 'Hobby Shop', 'Arts & Crafts Store', 'Miscellaneous Shop', 'Fish Market', 'Print Shop', 'Clothing Store', 'Hardware Store', 'Health Food Store', 'Flea Market', 'Furniture / Home Store', 'Pie Shop', 'Tailor Shop', 'Farmers Market', 'Watch Shop', 'Kids Store', 'Department Store', 'Market', 'Flower Shop', 'Fruit & Vegetable Store', 'Liquor Store', 'Frame Store', 'Antique Shop', 'Optical Shop', 'Frozen Yogurt Shop', 'Chocolate Shop', 'Shop & Service', 'Bridal Shop', 'Lingerie Store', 'Leather Goods Store', 'Gourmet Shop', 'Board Shop', 'Shopping Plaza', 'Record Shop', 'Video Game Store', 'Bagel Shop', 'Cupcake Shop', 'Camera Store', 'Pastry Shop', 'Baby Store', 'Knitting Store', 'Video Store', 'Herbs & Spices Store', 'Gun Shop', 'Medical Supply Store', 'Thrift / Vintage Store', 'Lighting Store', 'Wine Shop', 'Shipping Store', 'Ski Shop', 'Stationery Store', 'Luggage Store', 'Beer Store', 'Supplement Shop', 'Music Store', 'Perfume Shop', 'Mattress Store', 'Outlet Store', 'Other Repair Shop', 'Dive Shop', 'Fishing Store', 'Warehouse Store', 'Bubble Tea Shop', 'Big Box Store', 'Floating Market', 'Kitchen Supply Store', 'Carpet Store', 'Fish & Chips Shop', 'Cheese Shop', 'Fabric Shop', 'Outdoor Supply Store', 'Comic Shop', 'Night Market', 'Pop-Up Shop', 'Souvenir Shop']\n"
     ]
    }
   ],
   "source": [
    "print(store_categories)"
   ]
  },
  {
   "cell_type": "code",
   "execution_count": 1645,
   "metadata": {},
   "outputs": [
    {
     "name": "stdout",
     "output_type": "stream",
     "text": [
      "['Office', \"Dentist's Office\", \"Doctor's Office\", 'Post Office', 'Campaign Office', 'Mental Health Office', 'Real Estate Office', 'Insurance Office']\n"
     ]
    }
   ],
   "source": [
    "print(office_categories)"
   ]
  },
  {
   "cell_type": "code",
   "execution_count": 1646,
   "metadata": {},
   "outputs": [
    {
     "name": "stdout",
     "output_type": "stream",
     "text": [
      "['Café', 'Coffee Shop', 'Internet Cafe', 'Cafeteria', 'College Cafeteria', 'Gaming Cafe', 'Corporate Cafeteria', 'Corporate Coffee Shop', 'Pet Café']\n"
     ]
    }
   ],
   "source": [
    "print(coffee_categories)"
   ]
  },
  {
   "cell_type": "code",
   "execution_count": 1647,
   "metadata": {},
   "outputs": [
    {
     "name": "stdout",
     "output_type": "stream",
     "text": [
      "['Yoga Studio', 'Gym', 'Gym / Fitness Center', 'College Gym', 'Boxing Gym', 'Tennis Court', 'Sports Club', 'Athletics & Sports', 'Rock Climbing Spot', 'Pilates Studio', 'Gymnastics Gym', 'Dance Studio', 'Martial Arts Dojo', 'Skating Rink', 'Country Dance Club', 'Bike Trail', 'Gym Pool', 'Climbing Gym', 'Outdoor Gym']\n"
     ]
    }
   ],
   "source": [
    "print(gym_categories)"
   ]
  },
  {
   "cell_type": "code",
   "execution_count": 1648,
   "metadata": {},
   "outputs": [
    {
     "name": "stdout",
     "output_type": "stream",
     "text": [
      "['Park', 'Water Park', 'Plaza', 'Skate Park', 'Theme Park', 'Pedestrian Plaza', 'Theme Park Ride / Attraction', 'Trailer Park', 'National Park']\n"
     ]
    }
   ],
   "source": [
    "print(park_categories)"
   ]
  },
  {
   "cell_type": "code",
   "execution_count": 1649,
   "metadata": {},
   "outputs": [
    {
     "name": "stdout",
     "output_type": "stream",
     "text": [
      "['Spa', 'Nail Salon', 'Salon / Barbershop', 'Health & Beauty Service', 'Tanning Salon']\n"
     ]
    }
   ],
   "source": [
    "print(care_categories)"
   ]
  },
  {
   "cell_type": "code",
   "execution_count": 1650,
   "metadata": {},
   "outputs": [
    {
     "name": "stdout",
     "output_type": "stream",
     "text": [
      "['Nightclub', 'Other Nightlife', 'Strip Club', 'Nightlife Spot', 'Motel']\n"
     ]
    }
   ],
   "source": [
    "print(night_categories)"
   ]
  },
  {
   "cell_type": "code",
   "execution_count": 1651,
   "metadata": {},
   "outputs": [
    {
     "name": "stdout",
     "output_type": "stream",
     "text": [
      "['Trade School', 'College Classroom', 'College Stadium', 'Nursery School', 'Language School', 'School', 'College Library', 'Medical School', 'College Academic Building', 'University', 'College Science Building', 'High School', 'College Administrative Building', 'College Auditorium', 'College Rec Center', 'College Engineering Building', 'Community College', 'College Arts Building', 'General College & University', 'College Quad', 'College & University', 'College Lab', 'Middle School', 'Law School', 'College Bookstore', 'College Technology Building', 'Music School', 'Private School', 'Elementary School', 'College Residence Hall', 'College Theater', 'College Communications Building', 'College Football Field', 'College Track', 'College Math Building', 'College Soccer Field', 'College Hockey Rink', 'College Cricket Pitch', 'Driving School', 'College History Building', 'Adult Education Center', 'Cooking School']\n"
     ]
    }
   ],
   "source": [
    "print(school_categories)"
   ]
  },
  {
   "cell_type": "code",
   "execution_count": 1652,
   "metadata": {},
   "outputs": [
    {
     "name": "stdout",
     "output_type": "stream",
     "text": [
      "['Bakery', 'Grocery Store', 'Organic Grocery', 'Butcher']\n"
     ]
    }
   ],
   "source": [
    "print(basics_categories)"
   ]
  },
  {
   "cell_type": "code",
   "execution_count": 1653,
   "metadata": {},
   "outputs": [
    {
     "name": "stdout",
     "output_type": "stream",
     "text": [
      "['Pharmacy', 'Drugstore']\n"
     ]
    }
   ],
   "source": [
    "print(pharmacy_categories)"
   ]
  },
  {
   "cell_type": "code",
   "execution_count": 1654,
   "metadata": {},
   "outputs": [
    {
     "name": "stdout",
     "output_type": "stream",
     "text": [
      "['Bus Line', 'Bus Station', 'Bus Stop']\n"
     ]
    }
   ],
   "source": [
    "print(bus_categories)"
   ]
  },
  {
   "cell_type": "code",
   "execution_count": 1655,
   "metadata": {},
   "outputs": [
    {
     "name": "stdout",
     "output_type": "stream",
     "text": [
      "['Outdoors & Recreation', 'Other Great Outdoors']\n"
     ]
    }
   ],
   "source": [
    "print(outdoor_categories)"
   ]
  },
  {
   "cell_type": "markdown",
   "metadata": {},
   "source": [
    "### Relevant columns selection\n",
    "\n",
    "Now that we have all our categories grouped in bigger categories we can make a statistical analisis to determine which of these categories are the ones that must be considered for our regression. For this we will start our analisis with a simple correlation of each column with the price column"
   ]
  },
  {
   "cell_type": "code",
   "execution_count": 1656,
   "metadata": {
    "scrolled": true
   },
   "outputs": [
    {
     "data": {
      "text/plain": [
       "(6469, 70)"
      ]
     },
     "execution_count": 1656,
     "metadata": {},
     "output_type": "execute_result"
    }
   ],
   "source": [
    "# Merge prices dataframe with foursquare_df\n",
    "merged_df = pd.merge(property_listing_df.round(3), foursquare_df.round(3).groupby(['lat', 'lng']).first(), how='left', on=['lat', 'lng'])\n",
    "merged_df.shape"
   ]
  },
  {
   "cell_type": "markdown",
   "metadata": {},
   "source": [
    "We can see that the shape is as we expected it to be..."
   ]
  },
  {
   "cell_type": "code",
   "execution_count": 1657,
   "metadata": {},
   "outputs": [
    {
     "data": {
      "text/plain": [
       "Series([], dtype: float64)"
      ]
     },
     "execution_count": 1657,
     "metadata": {},
     "output_type": "execute_result"
    }
   ],
   "source": [
    "null_columns=merged_df.columns[merged_df.isnull().any()]\n",
    "merged_df[null_columns].isnull().sum()"
   ]
  },
  {
   "cell_type": "code",
   "execution_count": 1658,
   "metadata": {},
   "outputs": [],
   "source": [
    "price_corr = abs(merged_df.corr(method='pearson')['sqm price'])"
   ]
  },
  {
   "cell_type": "markdown",
   "metadata": {},
   "source": [
    "We will be using all columns with absolute values above 0.01 of correlation to start. After this we will fit the data to a regression and see if the categories choosed are significant in our model."
   ]
  },
  {
   "cell_type": "code",
   "execution_count": 1659,
   "metadata": {},
   "outputs": [],
   "source": [
    "columns_to_keep = [cat[0] for cat in price_corr.iteritems() if cat[1] >= 0.01 and cat[0] not in ['lat', 'lng', 'sqm price']]"
   ]
  },
  {
   "cell_type": "markdown",
   "metadata": {},
   "source": [
    "### Eliminate non significant categories with P-Values"
   ]
  },
  {
   "cell_type": "code",
   "execution_count": 1660,
   "metadata": {},
   "outputs": [
    {
     "data": {
      "text/html": [
       "<div>\n",
       "<style scoped>\n",
       "    .dataframe tbody tr th:only-of-type {\n",
       "        vertical-align: middle;\n",
       "    }\n",
       "\n",
       "    .dataframe tbody tr th {\n",
       "        vertical-align: top;\n",
       "    }\n",
       "\n",
       "    .dataframe thead th {\n",
       "        text-align: right;\n",
       "    }\n",
       "</style>\n",
       "<table border=\"1\" class=\"dataframe\">\n",
       "  <thead>\n",
       "    <tr style=\"text-align: right;\">\n",
       "      <th></th>\n",
       "      <th>coef</th>\n",
       "      <th>std err</th>\n",
       "      <th>t</th>\n",
       "      <th>P&gt;|t|</th>\n",
       "      <th>[0.025</th>\n",
       "      <th>0.975]</th>\n",
       "    </tr>\n",
       "  </thead>\n",
       "  <tbody>\n",
       "    <tr>\n",
       "      <th>Residential Building (Apartment / Condo)</th>\n",
       "      <td>2625000.0</td>\n",
       "      <td>125000.0</td>\n",
       "      <td>21.063</td>\n",
       "      <td>0.000</td>\n",
       "      <td>2380000.0</td>\n",
       "      <td>2870000.0</td>\n",
       "    </tr>\n",
       "    <tr>\n",
       "      <th>Boutique</th>\n",
       "      <td>2880000.0</td>\n",
       "      <td>1150000.0</td>\n",
       "      <td>2.495</td>\n",
       "      <td>0.013</td>\n",
       "      <td>617000.0</td>\n",
       "      <td>5140000.0</td>\n",
       "    </tr>\n",
       "    <tr>\n",
       "      <th>Dog Run</th>\n",
       "      <td>16630000.0</td>\n",
       "      <td>3140000.0</td>\n",
       "      <td>5.292</td>\n",
       "      <td>0.000</td>\n",
       "      <td>10500000.0</td>\n",
       "      <td>22800000.0</td>\n",
       "    </tr>\n",
       "    <tr>\n",
       "      <th>Military Base</th>\n",
       "      <td>25380000.0</td>\n",
       "      <td>4660000.0</td>\n",
       "      <td>5.444</td>\n",
       "      <td>0.000</td>\n",
       "      <td>16200000.0</td>\n",
       "      <td>34500000.0</td>\n",
       "    </tr>\n",
       "    <tr>\n",
       "      <th>Building</th>\n",
       "      <td>1265000.0</td>\n",
       "      <td>276000.0</td>\n",
       "      <td>4.587</td>\n",
       "      <td>0.000</td>\n",
       "      <td>724000.0</td>\n",
       "      <td>1810000.0</td>\n",
       "    </tr>\n",
       "  </tbody>\n",
       "</table>\n",
       "</div>"
      ],
      "text/plain": [
       "                                                coef    std err       t  \\\n",
       "Residential Building (Apartment / Condo)   2625000.0   125000.0  21.063   \n",
       "Boutique                                   2880000.0  1150000.0   2.495   \n",
       "Dog Run                                   16630000.0  3140000.0   5.292   \n",
       "Military Base                             25380000.0  4660000.0   5.444   \n",
       "Building                                   1265000.0   276000.0   4.587   \n",
       "\n",
       "                                          P>|t|      [0.025      0.975]  \n",
       "Residential Building (Apartment / Condo)  0.000   2380000.0   2870000.0  \n",
       "Boutique                                  0.013    617000.0   5140000.0  \n",
       "Dog Run                                   0.000  10500000.0  22800000.0  \n",
       "Military Base                             0.000  16200000.0  34500000.0  \n",
       "Building                                  0.000    724000.0   1810000.0  "
      ]
     },
     "execution_count": 1660,
     "metadata": {},
     "output_type": "execute_result"
    }
   ],
   "source": [
    "import statsmodels.api as sm\n",
    "\n",
    "X = merged_df[columns_to_keep]\n",
    "y = merged_df['sqm price']\n",
    "m = sm.OLS(y, X).fit()\n",
    "results_as_html = m.summary().tables[1].as_html()\n",
    "summary_df = pd.read_html(results_as_html, header=0, index_col=0)[0]\n",
    "summary_df.head()"
   ]
  },
  {
   "cell_type": "code",
   "execution_count": 1661,
   "metadata": {},
   "outputs": [
    {
     "name": "stdout",
     "output_type": "stream",
     "text": [
      "['Boutique', 'General Travel', 'Metro Station', 'Supermarket', 'Conference Room', 'Design Studio', 'Business Center', 'Government Building', 'Laundry Service', 'Business Service', 'Taxi', 'Casino', 'Bookstore', 'Factory', 'Event Space', 'Music Venue', 'Bar Category', 'Store Category', 'Office Category', 'Coffee Category', 'Pharmacy Category']\n"
     ]
    }
   ],
   "source": [
    "insignificant_columns = [i for i, p in summary_df['P>|t|'].iteritems() if p > 0]\n",
    "print(insignificant_columns)"
   ]
  },
  {
   "cell_type": "code",
   "execution_count": 1662,
   "metadata": {},
   "outputs": [],
   "source": [
    "# Drop insignificant columns from df\n",
    "significant_df = merged_df.drop(insignificant_columns + ['lat', 'lng'], axis=1)"
   ]
  },
  {
   "cell_type": "markdown",
   "metadata": {},
   "source": [
    "### Testing models"
   ]
  },
  {
   "cell_type": "code",
   "execution_count": 1663,
   "metadata": {},
   "outputs": [
    {
     "name": "stdout",
     "output_type": "stream",
     "text": [
      "(6469, 46) (6469,)\n"
     ]
    }
   ],
   "source": [
    "# get data\n",
    "X = significant_df.drop(['sqm price'], axis = 1)\n",
    "y = significant_df['sqm price']\n",
    "\n",
    "# split data into train and test\n",
    "from sklearn.model_selection import train_test_split\n",
    "X_train, X_test, y_train, y_test = train_test_split(X, y, test_size=0.3)\n",
    "print(X.shape, y.shape)"
   ]
  },
  {
   "cell_type": "code",
   "execution_count": 1664,
   "metadata": {},
   "outputs": [
    {
     "data": {
      "text/plain": [
       "LinearRegression(copy_X=True, fit_intercept=True, n_jobs=None, normalize=False)"
      ]
     },
     "execution_count": 1664,
     "metadata": {},
     "output_type": "execute_result"
    }
   ],
   "source": [
    "# define model\n",
    "from sklearn.linear_model import LinearRegression\n",
    "lr = LinearRegression()\n",
    "lr.fit(X_train, y_train)"
   ]
  },
  {
   "cell_type": "code",
   "execution_count": 1665,
   "metadata": {},
   "outputs": [
    {
     "name": "stdout",
     "output_type": "stream",
     "text": [
      "RMSE:  574966.1471628872\n",
      "R2:  0.07441964497015885\n"
     ]
    }
   ],
   "source": [
    "# test model\n",
    "from sklearn.metrics import mean_squared_error\n",
    "print('RMSE: ', mean_squared_error(y_test, lr.predict(X_test), squared = False))\n",
    "print('R2: ', lr.score(X_test, y_test))"
   ]
  },
  {
   "cell_type": "markdown",
   "metadata": {},
   "source": [
    "We have our model ready. It has a pretty poor value in predicting, but this is not the main goal of this excercise, as we know. We know that there are many factors not included here that will determine the price of an apartment, or in this case its price per sqm. These factor are number of bedrooms, bathrooms, orient, etc. But here we are using a regression to quantify how much a venue can affect in the price of an apartment, which we will calculate using the coefficients returned by the regression."
   ]
  },
  {
   "cell_type": "code",
   "execution_count": 1666,
   "metadata": {},
   "outputs": [
    {
     "data": {
      "text/plain": [
       "([<matplotlib.axis.XTick at 0x117561dd8>,\n",
       "  <matplotlib.axis.XTick at 0x117561710>,\n",
       "  <matplotlib.axis.XTick at 0x116d6b860>,\n",
       "  <matplotlib.axis.XTick at 0x116d75ba8>,\n",
       "  <matplotlib.axis.XTick at 0x116d759e8>],\n",
       " <a list of 5 Text xticklabel objects>)"
      ]
     },
     "execution_count": 1666,
     "metadata": {},
     "output_type": "execute_result"
    },
    {
     "data": {
      "image/png": "[encoded data removed]",
      "text/plain": [
       "<Figure size 432x288 with 1 Axes>"
      ]
     },
     "metadata": {
      "needs_background": "light"
     },
     "output_type": "display_data"
    }
   ],
   "source": [
    "# Get value for each category's effect on price\n",
    "from matplotlib import pyplot as plt\n",
    "\n",
    "sorted_categories_coefs = list(zip(lr.coef_, X.columns))\n",
    "sorted_categories_coefs.sort(key=lambda tup: tup[0])\n",
    "coefs = [i for i, j in sorted_categories_coefs]\n",
    "categories = [ j for i, j in sorted_categories_coefs ]\n",
    "\n",
    "plt.bar(categories[0:5], coefs[0:5])\n",
    "plt.xticks(categories[0:5], categories[0:5], rotation='vertical')"
   ]
  },
  {
   "cell_type": "code",
   "execution_count": 1667,
   "metadata": {},
   "outputs": [
    {
     "data": {
      "text/plain": [
       "([<matplotlib.axis.XTick at 0x117289588>,\n",
       "  <matplotlib.axis.XTick at 0x11727bb00>,\n",
       "  <matplotlib.axis.XTick at 0x11729cfd0>,\n",
       "  <matplotlib.axis.XTick at 0x1172ae400>,\n",
       "  <matplotlib.axis.XTick at 0x1172ae860>],\n",
       " <a list of 5 Text xticklabel objects>)"
      ]
     },
     "execution_count": 1667,
     "metadata": {},
     "output_type": "execute_result"
    },
    {
     "data": {
      "image/png": "[encoded data removed]",
      "text/plain": [
       "<Figure size 432x288 with 1 Axes>"
      ]
     },
     "metadata": {
      "needs_background": "light"
     },
     "output_type": "display_data"
    }
   ],
   "source": [
    "plt.bar(categories[-6:-1], coefs[-6:-1])\n",
    "plt.xticks(categories[-6:-1], categories[-6:-1], rotation='vertical')"
   ]
  },
  {
   "cell_type": "code",
   "execution_count": 1668,
   "metadata": {},
   "outputs": [
    {
     "name": "stdout",
     "output_type": "stream",
     "text": [
      "['Spiritual Center', 'Soccer Field', 'Garden', 'Gas Station', 'Outdoors Category', 'Lounge', 'Library', 'Dog Run', 'Auditorium', 'Parking', 'Road', 'Military Base', 'Breakfast Spot', 'Sports Category', 'Professional & Other Places', 'Religion Category', 'Assisted Living', 'Convention Center', 'Care Category', 'Building', 'Embassy / Consulate', 'Basic Needs Category', 'Residential Building (Apartment / Condo)', 'Entertainment Category', 'Bank', 'Coworking Space', 'Nightlife Category', 'Deli / Bodega', 'School Category', 'Bus Category', 'Restaurant Category', 'Student Center', 'Housing Development', 'Hotel', 'Non-Profit', 'Medicine Category', 'Tech Startup', 'Veterinarian', 'Meeting Room', 'Park Category', 'Speakeasy', 'Historic Site', 'Advertising Agency', 'Moving Target', 'Auto Dealership', 'Bridge']\n"
     ]
    }
   ],
   "source": [
    "print((categories))"
   ]
  },
  {
   "cell_type": "code",
   "execution_count": 1669,
   "metadata": {},
   "outputs": [
    {
     "name": "stdout",
     "output_type": "stream",
     "text": [
      "['Boutique', 'General Travel', 'Metro Station', 'Supermarket', 'Conference Room', 'Design Studio', 'Business Center', 'Government Building', 'Laundry Service', 'Business Service', 'Taxi', 'Casino', 'Bookstore', 'Factory', 'Event Space', 'Music Venue', 'Bar Category', 'Store Category', 'Office Category', 'Coffee Category', 'Pharmacy Category']\n"
     ]
    }
   ],
   "source": [
    "print(insignificant_columns)"
   ]
  },
  {
   "cell_type": "code",
   "execution_count": 1670,
   "metadata": {},
   "outputs": [
    {
     "name": "stdout",
     "output_type": "stream",
     "text": [
      "21\n"
     ]
    }
   ],
   "source": [
    "print(len(insignificant_columns))"
   ]
  },
  {
   "cell_type": "code",
   "execution_count": 1671,
   "metadata": {},
   "outputs": [
    {
     "name": "stdout",
     "output_type": "stream",
     "text": [
      "46\n"
     ]
    }
   ],
   "source": [
    "print(len(categories))"
   ]
  },
  {
   "cell_type": "code",
   "execution_count": 1672,
   "metadata": {},
   "outputs": [
    {
     "name": "stdout",
     "output_type": "stream",
     "text": [
      "46\n"
     ]
    }
   ],
   "source": [
    "print(len(lr.coef_))"
   ]
  },
  {
   "cell_type": "code",
   "execution_count": 1509,
   "metadata": {},
   "outputs": [
    {
     "name": "stdout",
     "output_type": "stream",
     "text": [
      "52\n"
     ]
    }
   ],
   "source": [
    "print(len(columns_to_keep))"
   ]
  },
  {
   "cell_type": "code",
   "execution_count": 1510,
   "metadata": {},
   "outputs": [
    {
     "name": "stdout",
     "output_type": "stream",
     "text": [
      "\n"
     ]
    }
   ],
   "source": [
    "print()"
   ]
  },
  {
   "cell_type": "code",
   "execution_count": null,
   "metadata": {},
   "outputs": [],
   "source": []
  }
 ],
 "metadata": {
  "kernelspec": {
   "display_name": "Python 3",
   "language": "python",
   "name": "python3"
  },
  "language_info": {
   "codemirror_mode": {
    "name": "ipython",
    "version": 3
   },
   "file_extension": ".py",
   "mimetype": "text/x-python",
   "name": "python",
   "nbconvert_exporter": "python",
   "pygments_lexer": "ipython3",
   "version": "3.7.1"
  }
 },
 "nbformat": 4,
 "nbformat_minor": 2
}
